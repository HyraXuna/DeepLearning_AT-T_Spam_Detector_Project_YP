{
  "cells": [
    {
      "cell_type": "markdown",
      "metadata": {
        "id": "qpsgSHmb9wvB"
      },
      "source": [
        "Project of deep learning for the certification of Jedha, bloc 4.\n",
        "\n",
        "Author : Youenn PATAT\n",
        "\n",
        "<img src=\"https://full-stack-assets.s3.eu-west-3.amazonaws.com/M08-deep-learning/AT%26T_logo_2016.svg\" alt=\"AT&T LOGO\" width=\"50%\" />\n",
        "\n",
        "# Orange SPAM detector"
      ]
    },
    {
      "cell_type": "code",
      "execution_count": 1,
      "metadata": {
        "colab": {
          "base_uri": "https://localhost:8080/"
        },
        "id": "GvV-A12_ImUd",
        "outputId": "69dbf3b4-cedf-4a9a-f4a3-f394dfec34d4"
      },
      "outputs": [
        {
          "name": "stdout",
          "output_type": "stream",
          "text": [
            "Requirement already satisfied: tensorflow_hub in /usr/local/lib/python3.11/dist-packages (0.16.1)\n",
            "Requirement already satisfied: numpy>=1.12.0 in /usr/local/lib/python3.11/dist-packages (from tensorflow_hub) (1.26.4)\n",
            "Requirement already satisfied: protobuf>=3.19.6 in /usr/local/lib/python3.11/dist-packages (from tensorflow_hub) (4.25.6)\n",
            "Requirement already satisfied: tf-keras>=2.14.1 in /usr/local/lib/python3.11/dist-packages (from tensorflow_hub) (2.15.1)\n",
            "Requirement already satisfied: tensorflow<2.16,>=2.15 in /usr/local/lib/python3.11/dist-packages (from tf-keras>=2.14.1->tensorflow_hub) (2.15.1)\n",
            "Requirement already satisfied: absl-py>=1.0.0 in /usr/local/lib/python3.11/dist-packages (from tensorflow<2.16,>=2.15->tf-keras>=2.14.1->tensorflow_hub) (1.4.0)\n",
            "Requirement already satisfied: astunparse>=1.6.0 in /usr/local/lib/python3.11/dist-packages (from tensorflow<2.16,>=2.15->tf-keras>=2.14.1->tensorflow_hub) (1.6.3)\n",
            "Requirement already satisfied: flatbuffers>=23.5.26 in /usr/local/lib/python3.11/dist-packages (from tensorflow<2.16,>=2.15->tf-keras>=2.14.1->tensorflow_hub) (25.2.10)\n",
            "Requirement already satisfied: gast!=0.5.0,!=0.5.1,!=0.5.2,>=0.2.1 in /usr/local/lib/python3.11/dist-packages (from tensorflow<2.16,>=2.15->tf-keras>=2.14.1->tensorflow_hub) (0.6.0)\n",
            "Requirement already satisfied: google-pasta>=0.1.1 in /usr/local/lib/python3.11/dist-packages (from tensorflow<2.16,>=2.15->tf-keras>=2.14.1->tensorflow_hub) (0.2.0)\n",
            "Requirement already satisfied: h5py>=2.9.0 in /usr/local/lib/python3.11/dist-packages (from tensorflow<2.16,>=2.15->tf-keras>=2.14.1->tensorflow_hub) (3.12.1)\n",
            "Requirement already satisfied: libclang>=13.0.0 in /usr/local/lib/python3.11/dist-packages (from tensorflow<2.16,>=2.15->tf-keras>=2.14.1->tensorflow_hub) (18.1.1)\n",
            "Requirement already satisfied: ml-dtypes~=0.3.1 in /usr/local/lib/python3.11/dist-packages (from tensorflow<2.16,>=2.15->tf-keras>=2.14.1->tensorflow_hub) (0.3.2)\n",
            "Requirement already satisfied: opt-einsum>=2.3.2 in /usr/local/lib/python3.11/dist-packages (from tensorflow<2.16,>=2.15->tf-keras>=2.14.1->tensorflow_hub) (3.4.0)\n",
            "Requirement already satisfied: packaging in /usr/local/lib/python3.11/dist-packages (from tensorflow<2.16,>=2.15->tf-keras>=2.14.1->tensorflow_hub) (24.2)\n",
            "Requirement already satisfied: setuptools in /usr/local/lib/python3.11/dist-packages (from tensorflow<2.16,>=2.15->tf-keras>=2.14.1->tensorflow_hub) (75.1.0)\n",
            "Requirement already satisfied: six>=1.12.0 in /usr/local/lib/python3.11/dist-packages (from tensorflow<2.16,>=2.15->tf-keras>=2.14.1->tensorflow_hub) (1.17.0)\n",
            "Requirement already satisfied: termcolor>=1.1.0 in /usr/local/lib/python3.11/dist-packages (from tensorflow<2.16,>=2.15->tf-keras>=2.14.1->tensorflow_hub) (2.5.0)\n",
            "Requirement already satisfied: typing-extensions>=3.6.6 in /usr/local/lib/python3.11/dist-packages (from tensorflow<2.16,>=2.15->tf-keras>=2.14.1->tensorflow_hub) (4.12.2)\n",
            "Requirement already satisfied: wrapt<1.15,>=1.11.0 in /usr/local/lib/python3.11/dist-packages (from tensorflow<2.16,>=2.15->tf-keras>=2.14.1->tensorflow_hub) (1.14.1)\n",
            "Requirement already satisfied: tensorflow-io-gcs-filesystem>=0.23.1 in /usr/local/lib/python3.11/dist-packages (from tensorflow<2.16,>=2.15->tf-keras>=2.14.1->tensorflow_hub) (0.37.1)\n",
            "Requirement already satisfied: grpcio<2.0,>=1.24.3 in /usr/local/lib/python3.11/dist-packages (from tensorflow<2.16,>=2.15->tf-keras>=2.14.1->tensorflow_hub) (1.70.0)\n",
            "Requirement already satisfied: tensorboard<2.16,>=2.15 in /usr/local/lib/python3.11/dist-packages (from tensorflow<2.16,>=2.15->tf-keras>=2.14.1->tensorflow_hub) (2.15.2)\n",
            "Requirement already satisfied: tensorflow-estimator<2.16,>=2.15.0 in /usr/local/lib/python3.11/dist-packages (from tensorflow<2.16,>=2.15->tf-keras>=2.14.1->tensorflow_hub) (2.15.0)\n",
            "Requirement already satisfied: keras<2.16,>=2.15.0 in /usr/local/lib/python3.11/dist-packages (from tensorflow<2.16,>=2.15->tf-keras>=2.14.1->tensorflow_hub) (2.15.0)\n",
            "Requirement already satisfied: wheel<1.0,>=0.23.0 in /usr/local/lib/python3.11/dist-packages (from astunparse>=1.6.0->tensorflow<2.16,>=2.15->tf-keras>=2.14.1->tensorflow_hub) (0.45.1)\n",
            "Requirement already satisfied: google-auth<3,>=1.6.3 in /usr/local/lib/python3.11/dist-packages (from tensorboard<2.16,>=2.15->tensorflow<2.16,>=2.15->tf-keras>=2.14.1->tensorflow_hub) (2.38.0)\n",
            "Requirement already satisfied: google-auth-oauthlib<2,>=0.5 in /usr/local/lib/python3.11/dist-packages (from tensorboard<2.16,>=2.15->tensorflow<2.16,>=2.15->tf-keras>=2.14.1->tensorflow_hub) (1.2.1)\n",
            "Requirement already satisfied: markdown>=2.6.8 in /usr/local/lib/python3.11/dist-packages (from tensorboard<2.16,>=2.15->tensorflow<2.16,>=2.15->tf-keras>=2.14.1->tensorflow_hub) (3.7)\n",
            "Requirement already satisfied: requests<3,>=2.21.0 in /usr/local/lib/python3.11/dist-packages (from tensorboard<2.16,>=2.15->tensorflow<2.16,>=2.15->tf-keras>=2.14.1->tensorflow_hub) (2.32.3)\n",
            "Requirement already satisfied: tensorboard-data-server<0.8.0,>=0.7.0 in /usr/local/lib/python3.11/dist-packages (from tensorboard<2.16,>=2.15->tensorflow<2.16,>=2.15->tf-keras>=2.14.1->tensorflow_hub) (0.7.2)\n",
            "Requirement already satisfied: werkzeug>=1.0.1 in /usr/local/lib/python3.11/dist-packages (from tensorboard<2.16,>=2.15->tensorflow<2.16,>=2.15->tf-keras>=2.14.1->tensorflow_hub) (3.1.3)\n",
            "Requirement already satisfied: cachetools<6.0,>=2.0.0 in /usr/local/lib/python3.11/dist-packages (from google-auth<3,>=1.6.3->tensorboard<2.16,>=2.15->tensorflow<2.16,>=2.15->tf-keras>=2.14.1->tensorflow_hub) (5.5.2)\n",
            "Requirement already satisfied: pyasn1-modules>=0.2.1 in /usr/local/lib/python3.11/dist-packages (from google-auth<3,>=1.6.3->tensorboard<2.16,>=2.15->tensorflow<2.16,>=2.15->tf-keras>=2.14.1->tensorflow_hub) (0.4.1)\n",
            "Requirement already satisfied: rsa<5,>=3.1.4 in /usr/local/lib/python3.11/dist-packages (from google-auth<3,>=1.6.3->tensorboard<2.16,>=2.15->tensorflow<2.16,>=2.15->tf-keras>=2.14.1->tensorflow_hub) (4.9)\n",
            "Requirement already satisfied: requests-oauthlib>=0.7.0 in /usr/local/lib/python3.11/dist-packages (from google-auth-oauthlib<2,>=0.5->tensorboard<2.16,>=2.15->tensorflow<2.16,>=2.15->tf-keras>=2.14.1->tensorflow_hub) (2.0.0)\n",
            "Requirement already satisfied: charset-normalizer<4,>=2 in /usr/local/lib/python3.11/dist-packages (from requests<3,>=2.21.0->tensorboard<2.16,>=2.15->tensorflow<2.16,>=2.15->tf-keras>=2.14.1->tensorflow_hub) (3.4.1)\n",
            "Requirement already satisfied: idna<4,>=2.5 in /usr/local/lib/python3.11/dist-packages (from requests<3,>=2.21.0->tensorboard<2.16,>=2.15->tensorflow<2.16,>=2.15->tf-keras>=2.14.1->tensorflow_hub) (3.10)\n",
            "Requirement already satisfied: urllib3<3,>=1.21.1 in /usr/local/lib/python3.11/dist-packages (from requests<3,>=2.21.0->tensorboard<2.16,>=2.15->tensorflow<2.16,>=2.15->tf-keras>=2.14.1->tensorflow_hub) (2.3.0)\n",
            "Requirement already satisfied: certifi>=2017.4.17 in /usr/local/lib/python3.11/dist-packages (from requests<3,>=2.21.0->tensorboard<2.16,>=2.15->tensorflow<2.16,>=2.15->tf-keras>=2.14.1->tensorflow_hub) (2025.1.31)\n",
            "Requirement already satisfied: MarkupSafe>=2.1.1 in /usr/local/lib/python3.11/dist-packages (from werkzeug>=1.0.1->tensorboard<2.16,>=2.15->tensorflow<2.16,>=2.15->tf-keras>=2.14.1->tensorflow_hub) (3.0.2)\n",
            "Requirement already satisfied: pyasn1<0.7.0,>=0.4.6 in /usr/local/lib/python3.11/dist-packages (from pyasn1-modules>=0.2.1->google-auth<3,>=1.6.3->tensorboard<2.16,>=2.15->tensorflow<2.16,>=2.15->tf-keras>=2.14.1->tensorflow_hub) (0.6.1)\n",
            "Requirement already satisfied: oauthlib>=3.0.0 in /usr/local/lib/python3.11/dist-packages (from requests-oauthlib>=0.7.0->google-auth-oauthlib<2,>=0.5->tensorboard<2.16,>=2.15->tensorflow<2.16,>=2.15->tf-keras>=2.14.1->tensorflow_hub) (3.2.2)\n"
          ]
        }
      ],
      "source": [
        "!pip install --upgrade tensorflow_hub"
      ]
    },
    {
      "cell_type": "code",
      "execution_count": 2,
      "metadata": {
        "colab": {
          "base_uri": "https://localhost:8080/"
        },
        "id": "Jg-oI9oRIqFV",
        "outputId": "1f210b6f-e6fe-4584-b6c6-46c45c6429e3"
      },
      "outputs": [
        {
          "name": "stdout",
          "output_type": "stream",
          "text": [
            "Requirement already satisfied: tensorflow_text==2.15.0 in /usr/local/lib/python3.11/dist-packages (2.15.0)\n",
            "Requirement already satisfied: tensorflow-hub>=0.13.0 in /usr/local/lib/python3.11/dist-packages (from tensorflow_text==2.15.0) (0.16.1)\n",
            "Requirement already satisfied: tensorflow<2.16,>=2.15.0 in /usr/local/lib/python3.11/dist-packages (from tensorflow_text==2.15.0) (2.15.1)\n",
            "Requirement already satisfied: absl-py>=1.0.0 in /usr/local/lib/python3.11/dist-packages (from tensorflow<2.16,>=2.15.0->tensorflow_text==2.15.0) (1.4.0)\n",
            "Requirement already satisfied: astunparse>=1.6.0 in /usr/local/lib/python3.11/dist-packages (from tensorflow<2.16,>=2.15.0->tensorflow_text==2.15.0) (1.6.3)\n",
            "Requirement already satisfied: flatbuffers>=23.5.26 in /usr/local/lib/python3.11/dist-packages (from tensorflow<2.16,>=2.15.0->tensorflow_text==2.15.0) (25.2.10)\n",
            "Requirement already satisfied: gast!=0.5.0,!=0.5.1,!=0.5.2,>=0.2.1 in /usr/local/lib/python3.11/dist-packages (from tensorflow<2.16,>=2.15.0->tensorflow_text==2.15.0) (0.6.0)\n",
            "Requirement already satisfied: google-pasta>=0.1.1 in /usr/local/lib/python3.11/dist-packages (from tensorflow<2.16,>=2.15.0->tensorflow_text==2.15.0) (0.2.0)\n",
            "Requirement already satisfied: h5py>=2.9.0 in /usr/local/lib/python3.11/dist-packages (from tensorflow<2.16,>=2.15.0->tensorflow_text==2.15.0) (3.12.1)\n",
            "Requirement already satisfied: libclang>=13.0.0 in /usr/local/lib/python3.11/dist-packages (from tensorflow<2.16,>=2.15.0->tensorflow_text==2.15.0) (18.1.1)\n",
            "Requirement already satisfied: ml-dtypes~=0.3.1 in /usr/local/lib/python3.11/dist-packages (from tensorflow<2.16,>=2.15.0->tensorflow_text==2.15.0) (0.3.2)\n",
            "Requirement already satisfied: numpy<2.0.0,>=1.23.5 in /usr/local/lib/python3.11/dist-packages (from tensorflow<2.16,>=2.15.0->tensorflow_text==2.15.0) (1.26.4)\n",
            "Requirement already satisfied: opt-einsum>=2.3.2 in /usr/local/lib/python3.11/dist-packages (from tensorflow<2.16,>=2.15.0->tensorflow_text==2.15.0) (3.4.0)\n",
            "Requirement already satisfied: packaging in /usr/local/lib/python3.11/dist-packages (from tensorflow<2.16,>=2.15.0->tensorflow_text==2.15.0) (24.2)\n",
            "Requirement already satisfied: protobuf!=4.21.0,!=4.21.1,!=4.21.2,!=4.21.3,!=4.21.4,!=4.21.5,<5.0.0dev,>=3.20.3 in /usr/local/lib/python3.11/dist-packages (from tensorflow<2.16,>=2.15.0->tensorflow_text==2.15.0) (4.25.6)\n",
            "Requirement already satisfied: setuptools in /usr/local/lib/python3.11/dist-packages (from tensorflow<2.16,>=2.15.0->tensorflow_text==2.15.0) (75.1.0)\n",
            "Requirement already satisfied: six>=1.12.0 in /usr/local/lib/python3.11/dist-packages (from tensorflow<2.16,>=2.15.0->tensorflow_text==2.15.0) (1.17.0)\n",
            "Requirement already satisfied: termcolor>=1.1.0 in /usr/local/lib/python3.11/dist-packages (from tensorflow<2.16,>=2.15.0->tensorflow_text==2.15.0) (2.5.0)\n",
            "Requirement already satisfied: typing-extensions>=3.6.6 in /usr/local/lib/python3.11/dist-packages (from tensorflow<2.16,>=2.15.0->tensorflow_text==2.15.0) (4.12.2)\n",
            "Requirement already satisfied: wrapt<1.15,>=1.11.0 in /usr/local/lib/python3.11/dist-packages (from tensorflow<2.16,>=2.15.0->tensorflow_text==2.15.0) (1.14.1)\n",
            "Requirement already satisfied: tensorflow-io-gcs-filesystem>=0.23.1 in /usr/local/lib/python3.11/dist-packages (from tensorflow<2.16,>=2.15.0->tensorflow_text==2.15.0) (0.37.1)\n",
            "Requirement already satisfied: grpcio<2.0,>=1.24.3 in /usr/local/lib/python3.11/dist-packages (from tensorflow<2.16,>=2.15.0->tensorflow_text==2.15.0) (1.70.0)\n",
            "Requirement already satisfied: tensorboard<2.16,>=2.15 in /usr/local/lib/python3.11/dist-packages (from tensorflow<2.16,>=2.15.0->tensorflow_text==2.15.0) (2.15.2)\n",
            "Requirement already satisfied: tensorflow-estimator<2.16,>=2.15.0 in /usr/local/lib/python3.11/dist-packages (from tensorflow<2.16,>=2.15.0->tensorflow_text==2.15.0) (2.15.0)\n",
            "Requirement already satisfied: keras<2.16,>=2.15.0 in /usr/local/lib/python3.11/dist-packages (from tensorflow<2.16,>=2.15.0->tensorflow_text==2.15.0) (2.15.0)\n",
            "Requirement already satisfied: tf-keras>=2.14.1 in /usr/local/lib/python3.11/dist-packages (from tensorflow-hub>=0.13.0->tensorflow_text==2.15.0) (2.15.1)\n",
            "Requirement already satisfied: wheel<1.0,>=0.23.0 in /usr/local/lib/python3.11/dist-packages (from astunparse>=1.6.0->tensorflow<2.16,>=2.15.0->tensorflow_text==2.15.0) (0.45.1)\n",
            "Requirement already satisfied: google-auth<3,>=1.6.3 in /usr/local/lib/python3.11/dist-packages (from tensorboard<2.16,>=2.15->tensorflow<2.16,>=2.15.0->tensorflow_text==2.15.0) (2.38.0)\n",
            "Requirement already satisfied: google-auth-oauthlib<2,>=0.5 in /usr/local/lib/python3.11/dist-packages (from tensorboard<2.16,>=2.15->tensorflow<2.16,>=2.15.0->tensorflow_text==2.15.0) (1.2.1)\n",
            "Requirement already satisfied: markdown>=2.6.8 in /usr/local/lib/python3.11/dist-packages (from tensorboard<2.16,>=2.15->tensorflow<2.16,>=2.15.0->tensorflow_text==2.15.0) (3.7)\n",
            "Requirement already satisfied: requests<3,>=2.21.0 in /usr/local/lib/python3.11/dist-packages (from tensorboard<2.16,>=2.15->tensorflow<2.16,>=2.15.0->tensorflow_text==2.15.0) (2.32.3)\n",
            "Requirement already satisfied: tensorboard-data-server<0.8.0,>=0.7.0 in /usr/local/lib/python3.11/dist-packages (from tensorboard<2.16,>=2.15->tensorflow<2.16,>=2.15.0->tensorflow_text==2.15.0) (0.7.2)\n",
            "Requirement already satisfied: werkzeug>=1.0.1 in /usr/local/lib/python3.11/dist-packages (from tensorboard<2.16,>=2.15->tensorflow<2.16,>=2.15.0->tensorflow_text==2.15.0) (3.1.3)\n",
            "Requirement already satisfied: cachetools<6.0,>=2.0.0 in /usr/local/lib/python3.11/dist-packages (from google-auth<3,>=1.6.3->tensorboard<2.16,>=2.15->tensorflow<2.16,>=2.15.0->tensorflow_text==2.15.0) (5.5.2)\n",
            "Requirement already satisfied: pyasn1-modules>=0.2.1 in /usr/local/lib/python3.11/dist-packages (from google-auth<3,>=1.6.3->tensorboard<2.16,>=2.15->tensorflow<2.16,>=2.15.0->tensorflow_text==2.15.0) (0.4.1)\n",
            "Requirement already satisfied: rsa<5,>=3.1.4 in /usr/local/lib/python3.11/dist-packages (from google-auth<3,>=1.6.3->tensorboard<2.16,>=2.15->tensorflow<2.16,>=2.15.0->tensorflow_text==2.15.0) (4.9)\n",
            "Requirement already satisfied: requests-oauthlib>=0.7.0 in /usr/local/lib/python3.11/dist-packages (from google-auth-oauthlib<2,>=0.5->tensorboard<2.16,>=2.15->tensorflow<2.16,>=2.15.0->tensorflow_text==2.15.0) (2.0.0)\n",
            "Requirement already satisfied: charset-normalizer<4,>=2 in /usr/local/lib/python3.11/dist-packages (from requests<3,>=2.21.0->tensorboard<2.16,>=2.15->tensorflow<2.16,>=2.15.0->tensorflow_text==2.15.0) (3.4.1)\n",
            "Requirement already satisfied: idna<4,>=2.5 in /usr/local/lib/python3.11/dist-packages (from requests<3,>=2.21.0->tensorboard<2.16,>=2.15->tensorflow<2.16,>=2.15.0->tensorflow_text==2.15.0) (3.10)\n",
            "Requirement already satisfied: urllib3<3,>=1.21.1 in /usr/local/lib/python3.11/dist-packages (from requests<3,>=2.21.0->tensorboard<2.16,>=2.15->tensorflow<2.16,>=2.15.0->tensorflow_text==2.15.0) (2.3.0)\n",
            "Requirement already satisfied: certifi>=2017.4.17 in /usr/local/lib/python3.11/dist-packages (from requests<3,>=2.21.0->tensorboard<2.16,>=2.15->tensorflow<2.16,>=2.15.0->tensorflow_text==2.15.0) (2025.1.31)\n",
            "Requirement already satisfied: MarkupSafe>=2.1.1 in /usr/local/lib/python3.11/dist-packages (from werkzeug>=1.0.1->tensorboard<2.16,>=2.15->tensorflow<2.16,>=2.15.0->tensorflow_text==2.15.0) (3.0.2)\n",
            "Requirement already satisfied: pyasn1<0.7.0,>=0.4.6 in /usr/local/lib/python3.11/dist-packages (from pyasn1-modules>=0.2.1->google-auth<3,>=1.6.3->tensorboard<2.16,>=2.15->tensorflow<2.16,>=2.15.0->tensorflow_text==2.15.0) (0.6.1)\n",
            "Requirement already satisfied: oauthlib>=3.0.0 in /usr/local/lib/python3.11/dist-packages (from requests-oauthlib>=0.7.0->google-auth-oauthlib<2,>=0.5->tensorboard<2.16,>=2.15->tensorflow<2.16,>=2.15.0->tensorflow_text==2.15.0) (3.2.2)\n"
          ]
        }
      ],
      "source": [
        "!pip install tensorflow_text=='2.15.0'"
      ]
    },
    {
      "cell_type": "markdown",
      "metadata": {
        "id": "bFKqYiIz9wvG"
      },
      "source": [
        "# 1) Preprocessing"
      ]
    },
    {
      "cell_type": "markdown",
      "metadata": {
        "id": "hqbo_7c19wvG"
      },
      "source": [
        "## Loading data"
      ]
    },
    {
      "cell_type": "code",
      "execution_count": 1,
      "metadata": {
        "id": "99uN8KS39wvH"
      },
      "outputs": [],
      "source": [
        "import tensorflow as tf\n",
        "import pathlib\n",
        "import pandas as pd\n",
        "import os\n",
        "import io\n",
        "import warnings\n",
        "from sklearn.model_selection import train_test_split\n",
        "from sklearn.preprocessing import LabelEncoder"
      ]
    },
    {
      "cell_type": "code",
      "execution_count": 4,
      "metadata": {
        "colab": {
          "base_uri": "https://localhost:8080/",
          "height": 35
        },
        "id": "JvLkBzrLkiLF",
        "outputId": "c5629273-0d49-4ca0-a633-ef7873145b33"
      },
      "outputs": [
        {
          "data": {
            "application/vnd.google.colaboratory.intrinsic+json": {
              "type": "string"
            },
            "text/plain": [
              "'2.15.1'"
            ]
          },
          "execution_count": 4,
          "metadata": {},
          "output_type": "execute_result"
        }
      ],
      "source": [
        "tf.__version__"
      ]
    },
    {
      "cell_type": "markdown",
      "metadata": {},
      "source": [
        "⚠️ This code works well only with this version of tensorflow, to use bert model and F1Score metric function of Keras."
      ]
    },
    {
      "cell_type": "markdown",
      "metadata": {
        "id": "uASATvqk9wvJ"
      },
      "source": [
        "Importation of the dataset and reading of it."
      ]
    },
    {
      "cell_type": "code",
      "execution_count": 5,
      "metadata": {
        "colab": {
          "base_uri": "https://localhost:8080/",
          "height": 206
        },
        "id": "SKd-Cn_X9wvL",
        "outputId": "fc337829-8416-4854-f9c0-572b6992f7f1"
      },
      "outputs": [
        {
          "data": {
            "application/vnd.google.colaboratory.intrinsic+json": {
              "summary": "{\n  \"name\": \"dataset\",\n  \"rows\": 5572,\n  \"fields\": [\n    {\n      \"column\": \"v1\",\n      \"properties\": {\n        \"dtype\": \"category\",\n        \"num_unique_values\": 2,\n        \"samples\": [\n          \"spam\",\n          \"ham\"\n        ],\n        \"semantic_type\": \"\",\n        \"description\": \"\"\n      }\n    },\n    {\n      \"column\": \"v2\",\n      \"properties\": {\n        \"dtype\": \"string\",\n        \"num_unique_values\": 5168,\n        \"samples\": [\n          \"Mm i had my food da from out\",\n          \"Somebody should go to andros and steal ice\"\n        ],\n        \"semantic_type\": \"\",\n        \"description\": \"\"\n      }\n    },\n    {\n      \"column\": \"Unnamed: 2\",\n      \"properties\": {\n        \"dtype\": \"category\",\n        \"num_unique_values\": 43,\n        \"samples\": [\n          \" GOD said\",\n          \" SHE SHUDVETOLD U. DID URGRAN KNOW?NEWAY\"\n        ],\n        \"semantic_type\": \"\",\n        \"description\": \"\"\n      }\n    },\n    {\n      \"column\": \"Unnamed: 3\",\n      \"properties\": {\n        \"dtype\": \"category\",\n        \"num_unique_values\": 10,\n        \"samples\": [\n          \" \\\\\\\"OH No! COMPETITION\\\\\\\". Who knew\",\n          \" why to miss them\"\n        ],\n        \"semantic_type\": \"\",\n        \"description\": \"\"\n      }\n    },\n    {\n      \"column\": \"Unnamed: 4\",\n      \"properties\": {\n        \"dtype\": \"category\",\n        \"num_unique_values\": 5,\n        \"samples\": [\n          \"GNT:-)\\\"\",\n          \" one day these two will become FREINDS FOREVER!\\\"\"\n        ],\n        \"semantic_type\": \"\",\n        \"description\": \"\"\n      }\n    }\n  ]\n}",
              "type": "dataframe",
              "variable_name": "dataset"
            },
            "text/html": [
              "\n",
              "  <div id=\"df-2b5a4cc5-d76c-494c-bd71-a263316c6700\" class=\"colab-df-container\">\n",
              "    <div>\n",
              "<style scoped>\n",
              "    .dataframe tbody tr th:only-of-type {\n",
              "        vertical-align: middle;\n",
              "    }\n",
              "\n",
              "    .dataframe tbody tr th {\n",
              "        vertical-align: top;\n",
              "    }\n",
              "\n",
              "    .dataframe thead th {\n",
              "        text-align: right;\n",
              "    }\n",
              "</style>\n",
              "<table border=\"1\" class=\"dataframe\">\n",
              "  <thead>\n",
              "    <tr style=\"text-align: right;\">\n",
              "      <th></th>\n",
              "      <th>v1</th>\n",
              "      <th>v2</th>\n",
              "      <th>Unnamed: 2</th>\n",
              "      <th>Unnamed: 3</th>\n",
              "      <th>Unnamed: 4</th>\n",
              "    </tr>\n",
              "  </thead>\n",
              "  <tbody>\n",
              "    <tr>\n",
              "      <th>0</th>\n",
              "      <td>ham</td>\n",
              "      <td>Go until jurong point, crazy.. Available only ...</td>\n",
              "      <td>NaN</td>\n",
              "      <td>NaN</td>\n",
              "      <td>NaN</td>\n",
              "    </tr>\n",
              "    <tr>\n",
              "      <th>1</th>\n",
              "      <td>ham</td>\n",
              "      <td>Ok lar... Joking wif u oni...</td>\n",
              "      <td>NaN</td>\n",
              "      <td>NaN</td>\n",
              "      <td>NaN</td>\n",
              "    </tr>\n",
              "    <tr>\n",
              "      <th>2</th>\n",
              "      <td>spam</td>\n",
              "      <td>Free entry in 2 a wkly comp to win FA Cup fina...</td>\n",
              "      <td>NaN</td>\n",
              "      <td>NaN</td>\n",
              "      <td>NaN</td>\n",
              "    </tr>\n",
              "    <tr>\n",
              "      <th>3</th>\n",
              "      <td>ham</td>\n",
              "      <td>U dun say so early hor... U c already then say...</td>\n",
              "      <td>NaN</td>\n",
              "      <td>NaN</td>\n",
              "      <td>NaN</td>\n",
              "    </tr>\n",
              "    <tr>\n",
              "      <th>4</th>\n",
              "      <td>ham</td>\n",
              "      <td>Nah I don't think he goes to usf, he lives aro...</td>\n",
              "      <td>NaN</td>\n",
              "      <td>NaN</td>\n",
              "      <td>NaN</td>\n",
              "    </tr>\n",
              "  </tbody>\n",
              "</table>\n",
              "</div>\n",
              "    <div class=\"colab-df-buttons\">\n",
              "\n",
              "  <div class=\"colab-df-container\">\n",
              "    <button class=\"colab-df-convert\" onclick=\"convertToInteractive('df-2b5a4cc5-d76c-494c-bd71-a263316c6700')\"\n",
              "            title=\"Convert this dataframe to an interactive table.\"\n",
              "            style=\"display:none;\">\n",
              "\n",
              "  <svg xmlns=\"http://www.w3.org/2000/svg\" height=\"24px\" viewBox=\"0 -960 960 960\">\n",
              "    <path d=\"M120-120v-720h720v720H120Zm60-500h600v-160H180v160Zm220 220h160v-160H400v160Zm0 220h160v-160H400v160ZM180-400h160v-160H180v160Zm440 0h160v-160H620v160ZM180-180h160v-160H180v160Zm440 0h160v-160H620v160Z\"/>\n",
              "  </svg>\n",
              "    </button>\n",
              "\n",
              "  <style>\n",
              "    .colab-df-container {\n",
              "      display:flex;\n",
              "      gap: 12px;\n",
              "    }\n",
              "\n",
              "    .colab-df-convert {\n",
              "      background-color: #E8F0FE;\n",
              "      border: none;\n",
              "      border-radius: 50%;\n",
              "      cursor: pointer;\n",
              "      display: none;\n",
              "      fill: #1967D2;\n",
              "      height: 32px;\n",
              "      padding: 0 0 0 0;\n",
              "      width: 32px;\n",
              "    }\n",
              "\n",
              "    .colab-df-convert:hover {\n",
              "      background-color: #E2EBFA;\n",
              "      box-shadow: 0px 1px 2px rgba(60, 64, 67, 0.3), 0px 1px 3px 1px rgba(60, 64, 67, 0.15);\n",
              "      fill: #174EA6;\n",
              "    }\n",
              "\n",
              "    .colab-df-buttons div {\n",
              "      margin-bottom: 4px;\n",
              "    }\n",
              "\n",
              "    [theme=dark] .colab-df-convert {\n",
              "      background-color: #3B4455;\n",
              "      fill: #D2E3FC;\n",
              "    }\n",
              "\n",
              "    [theme=dark] .colab-df-convert:hover {\n",
              "      background-color: #434B5C;\n",
              "      box-shadow: 0px 1px 3px 1px rgba(0, 0, 0, 0.15);\n",
              "      filter: drop-shadow(0px 1px 2px rgba(0, 0, 0, 0.3));\n",
              "      fill: #FFFFFF;\n",
              "    }\n",
              "  </style>\n",
              "\n",
              "    <script>\n",
              "      const buttonEl =\n",
              "        document.querySelector('#df-2b5a4cc5-d76c-494c-bd71-a263316c6700 button.colab-df-convert');\n",
              "      buttonEl.style.display =\n",
              "        google.colab.kernel.accessAllowed ? 'block' : 'none';\n",
              "\n",
              "      async function convertToInteractive(key) {\n",
              "        const element = document.querySelector('#df-2b5a4cc5-d76c-494c-bd71-a263316c6700');\n",
              "        const dataTable =\n",
              "          await google.colab.kernel.invokeFunction('convertToInteractive',\n",
              "                                                    [key], {});\n",
              "        if (!dataTable) return;\n",
              "\n",
              "        const docLinkHtml = 'Like what you see? Visit the ' +\n",
              "          '<a target=\"_blank\" href=https://colab.research.google.com/notebooks/data_table.ipynb>data table notebook</a>'\n",
              "          + ' to learn more about interactive tables.';\n",
              "        element.innerHTML = '';\n",
              "        dataTable['output_type'] = 'display_data';\n",
              "        await google.colab.output.renderOutput(dataTable, element);\n",
              "        const docLink = document.createElement('div');\n",
              "        docLink.innerHTML = docLinkHtml;\n",
              "        element.appendChild(docLink);\n",
              "      }\n",
              "    </script>\n",
              "  </div>\n",
              "\n",
              "\n",
              "<div id=\"df-ee661395-facd-407c-b250-0278fb1276b2\">\n",
              "  <button class=\"colab-df-quickchart\" onclick=\"quickchart('df-ee661395-facd-407c-b250-0278fb1276b2')\"\n",
              "            title=\"Suggest charts\"\n",
              "            style=\"display:none;\">\n",
              "\n",
              "<svg xmlns=\"http://www.w3.org/2000/svg\" height=\"24px\"viewBox=\"0 0 24 24\"\n",
              "     width=\"24px\">\n",
              "    <g>\n",
              "        <path d=\"M19 3H5c-1.1 0-2 .9-2 2v14c0 1.1.9 2 2 2h14c1.1 0 2-.9 2-2V5c0-1.1-.9-2-2-2zM9 17H7v-7h2v7zm4 0h-2V7h2v10zm4 0h-2v-4h2v4z\"/>\n",
              "    </g>\n",
              "</svg>\n",
              "  </button>\n",
              "\n",
              "<style>\n",
              "  .colab-df-quickchart {\n",
              "      --bg-color: #E8F0FE;\n",
              "      --fill-color: #1967D2;\n",
              "      --hover-bg-color: #E2EBFA;\n",
              "      --hover-fill-color: #174EA6;\n",
              "      --disabled-fill-color: #AAA;\n",
              "      --disabled-bg-color: #DDD;\n",
              "  }\n",
              "\n",
              "  [theme=dark] .colab-df-quickchart {\n",
              "      --bg-color: #3B4455;\n",
              "      --fill-color: #D2E3FC;\n",
              "      --hover-bg-color: #434B5C;\n",
              "      --hover-fill-color: #FFFFFF;\n",
              "      --disabled-bg-color: #3B4455;\n",
              "      --disabled-fill-color: #666;\n",
              "  }\n",
              "\n",
              "  .colab-df-quickchart {\n",
              "    background-color: var(--bg-color);\n",
              "    border: none;\n",
              "    border-radius: 50%;\n",
              "    cursor: pointer;\n",
              "    display: none;\n",
              "    fill: var(--fill-color);\n",
              "    height: 32px;\n",
              "    padding: 0;\n",
              "    width: 32px;\n",
              "  }\n",
              "\n",
              "  .colab-df-quickchart:hover {\n",
              "    background-color: var(--hover-bg-color);\n",
              "    box-shadow: 0 1px 2px rgba(60, 64, 67, 0.3), 0 1px 3px 1px rgba(60, 64, 67, 0.15);\n",
              "    fill: var(--button-hover-fill-color);\n",
              "  }\n",
              "\n",
              "  .colab-df-quickchart-complete:disabled,\n",
              "  .colab-df-quickchart-complete:disabled:hover {\n",
              "    background-color: var(--disabled-bg-color);\n",
              "    fill: var(--disabled-fill-color);\n",
              "    box-shadow: none;\n",
              "  }\n",
              "\n",
              "  .colab-df-spinner {\n",
              "    border: 2px solid var(--fill-color);\n",
              "    border-color: transparent;\n",
              "    border-bottom-color: var(--fill-color);\n",
              "    animation:\n",
              "      spin 1s steps(1) infinite;\n",
              "  }\n",
              "\n",
              "  @keyframes spin {\n",
              "    0% {\n",
              "      border-color: transparent;\n",
              "      border-bottom-color: var(--fill-color);\n",
              "      border-left-color: var(--fill-color);\n",
              "    }\n",
              "    20% {\n",
              "      border-color: transparent;\n",
              "      border-left-color: var(--fill-color);\n",
              "      border-top-color: var(--fill-color);\n",
              "    }\n",
              "    30% {\n",
              "      border-color: transparent;\n",
              "      border-left-color: var(--fill-color);\n",
              "      border-top-color: var(--fill-color);\n",
              "      border-right-color: var(--fill-color);\n",
              "    }\n",
              "    40% {\n",
              "      border-color: transparent;\n",
              "      border-right-color: var(--fill-color);\n",
              "      border-top-color: var(--fill-color);\n",
              "    }\n",
              "    60% {\n",
              "      border-color: transparent;\n",
              "      border-right-color: var(--fill-color);\n",
              "    }\n",
              "    80% {\n",
              "      border-color: transparent;\n",
              "      border-right-color: var(--fill-color);\n",
              "      border-bottom-color: var(--fill-color);\n",
              "    }\n",
              "    90% {\n",
              "      border-color: transparent;\n",
              "      border-bottom-color: var(--fill-color);\n",
              "    }\n",
              "  }\n",
              "</style>\n",
              "\n",
              "  <script>\n",
              "    async function quickchart(key) {\n",
              "      const quickchartButtonEl =\n",
              "        document.querySelector('#' + key + ' button');\n",
              "      quickchartButtonEl.disabled = true;  // To prevent multiple clicks.\n",
              "      quickchartButtonEl.classList.add('colab-df-spinner');\n",
              "      try {\n",
              "        const charts = await google.colab.kernel.invokeFunction(\n",
              "            'suggestCharts', [key], {});\n",
              "      } catch (error) {\n",
              "        console.error('Error during call to suggestCharts:', error);\n",
              "      }\n",
              "      quickchartButtonEl.classList.remove('colab-df-spinner');\n",
              "      quickchartButtonEl.classList.add('colab-df-quickchart-complete');\n",
              "    }\n",
              "    (() => {\n",
              "      let quickchartButtonEl =\n",
              "        document.querySelector('#df-ee661395-facd-407c-b250-0278fb1276b2 button');\n",
              "      quickchartButtonEl.style.display =\n",
              "        google.colab.kernel.accessAllowed ? 'block' : 'none';\n",
              "    })();\n",
              "  </script>\n",
              "</div>\n",
              "\n",
              "    </div>\n",
              "  </div>\n"
            ],
            "text/plain": [
              "     v1                                                 v2 Unnamed: 2  \\\n",
              "0   ham  Go until jurong point, crazy.. Available only ...        NaN   \n",
              "1   ham                      Ok lar... Joking wif u oni...        NaN   \n",
              "2  spam  Free entry in 2 a wkly comp to win FA Cup fina...        NaN   \n",
              "3   ham  U dun say so early hor... U c already then say...        NaN   \n",
              "4   ham  Nah I don't think he goes to usf, he lives aro...        NaN   \n",
              "\n",
              "  Unnamed: 3 Unnamed: 4  \n",
              "0        NaN        NaN  \n",
              "1        NaN        NaN  \n",
              "2        NaN        NaN  \n",
              "3        NaN        NaN  \n",
              "4        NaN        NaN  "
            ]
          },
          "execution_count": 5,
          "metadata": {},
          "output_type": "execute_result"
        }
      ],
      "source": [
        "# Import dataset with Pandas\n",
        "dataset = pd.read_csv(\"https://full-stack-bigdata-datasets.s3.eu-west-3.amazonaws.com/Deep+Learning/project/spam.csv\", encoding=\"utf-8\", encoding_errors=\"ignore\")\n",
        "dataset.head()\n",
        "\n"
      ]
    },
    {
      "cell_type": "markdown",
      "metadata": {
        "id": "RrvAzbpC9wvP"
      },
      "source": [
        "We keep only the columns that we need."
      ]
    },
    {
      "cell_type": "code",
      "execution_count": 6,
      "metadata": {
        "colab": {
          "base_uri": "https://localhost:8080/",
          "height": 206
        },
        "id": "mH_XX8vd9wvQ",
        "outputId": "124b79cd-9e6b-4bc2-c5c8-dd2323eedc28"
      },
      "outputs": [
        {
          "data": {
            "application/vnd.google.colaboratory.intrinsic+json": {
              "summary": "{\n  \"name\": \"spam\",\n  \"rows\": 5572,\n  \"fields\": [\n    {\n      \"column\": \"label\",\n      \"properties\": {\n        \"dtype\": \"category\",\n        \"num_unique_values\": 2,\n        \"samples\": [\n          \"spam\",\n          \"ham\"\n        ],\n        \"semantic_type\": \"\",\n        \"description\": \"\"\n      }\n    },\n    {\n      \"column\": \"message\",\n      \"properties\": {\n        \"dtype\": \"string\",\n        \"num_unique_values\": 5168,\n        \"samples\": [\n          \"Mm i had my food da from out\",\n          \"Somebody should go to andros and steal ice\"\n        ],\n        \"semantic_type\": \"\",\n        \"description\": \"\"\n      }\n    }\n  ]\n}",
              "type": "dataframe",
              "variable_name": "spam"
            },
            "text/html": [
              "\n",
              "  <div id=\"df-8b6615db-8f77-4878-97e8-8a0c7bfea3db\" class=\"colab-df-container\">\n",
              "    <div>\n",
              "<style scoped>\n",
              "    .dataframe tbody tr th:only-of-type {\n",
              "        vertical-align: middle;\n",
              "    }\n",
              "\n",
              "    .dataframe tbody tr th {\n",
              "        vertical-align: top;\n",
              "    }\n",
              "\n",
              "    .dataframe thead th {\n",
              "        text-align: right;\n",
              "    }\n",
              "</style>\n",
              "<table border=\"1\" class=\"dataframe\">\n",
              "  <thead>\n",
              "    <tr style=\"text-align: right;\">\n",
              "      <th></th>\n",
              "      <th>label</th>\n",
              "      <th>message</th>\n",
              "    </tr>\n",
              "  </thead>\n",
              "  <tbody>\n",
              "    <tr>\n",
              "      <th>0</th>\n",
              "      <td>ham</td>\n",
              "      <td>Go until jurong point, crazy.. Available only ...</td>\n",
              "    </tr>\n",
              "    <tr>\n",
              "      <th>1</th>\n",
              "      <td>ham</td>\n",
              "      <td>Ok lar... Joking wif u oni...</td>\n",
              "    </tr>\n",
              "    <tr>\n",
              "      <th>2</th>\n",
              "      <td>spam</td>\n",
              "      <td>Free entry in 2 a wkly comp to win FA Cup fina...</td>\n",
              "    </tr>\n",
              "    <tr>\n",
              "      <th>3</th>\n",
              "      <td>ham</td>\n",
              "      <td>U dun say so early hor... U c already then say...</td>\n",
              "    </tr>\n",
              "    <tr>\n",
              "      <th>4</th>\n",
              "      <td>ham</td>\n",
              "      <td>Nah I don't think he goes to usf, he lives aro...</td>\n",
              "    </tr>\n",
              "  </tbody>\n",
              "</table>\n",
              "</div>\n",
              "    <div class=\"colab-df-buttons\">\n",
              "\n",
              "  <div class=\"colab-df-container\">\n",
              "    <button class=\"colab-df-convert\" onclick=\"convertToInteractive('df-8b6615db-8f77-4878-97e8-8a0c7bfea3db')\"\n",
              "            title=\"Convert this dataframe to an interactive table.\"\n",
              "            style=\"display:none;\">\n",
              "\n",
              "  <svg xmlns=\"http://www.w3.org/2000/svg\" height=\"24px\" viewBox=\"0 -960 960 960\">\n",
              "    <path d=\"M120-120v-720h720v720H120Zm60-500h600v-160H180v160Zm220 220h160v-160H400v160Zm0 220h160v-160H400v160ZM180-400h160v-160H180v160Zm440 0h160v-160H620v160ZM180-180h160v-160H180v160Zm440 0h160v-160H620v160Z\"/>\n",
              "  </svg>\n",
              "    </button>\n",
              "\n",
              "  <style>\n",
              "    .colab-df-container {\n",
              "      display:flex;\n",
              "      gap: 12px;\n",
              "    }\n",
              "\n",
              "    .colab-df-convert {\n",
              "      background-color: #E8F0FE;\n",
              "      border: none;\n",
              "      border-radius: 50%;\n",
              "      cursor: pointer;\n",
              "      display: none;\n",
              "      fill: #1967D2;\n",
              "      height: 32px;\n",
              "      padding: 0 0 0 0;\n",
              "      width: 32px;\n",
              "    }\n",
              "\n",
              "    .colab-df-convert:hover {\n",
              "      background-color: #E2EBFA;\n",
              "      box-shadow: 0px 1px 2px rgba(60, 64, 67, 0.3), 0px 1px 3px 1px rgba(60, 64, 67, 0.15);\n",
              "      fill: #174EA6;\n",
              "    }\n",
              "\n",
              "    .colab-df-buttons div {\n",
              "      margin-bottom: 4px;\n",
              "    }\n",
              "\n",
              "    [theme=dark] .colab-df-convert {\n",
              "      background-color: #3B4455;\n",
              "      fill: #D2E3FC;\n",
              "    }\n",
              "\n",
              "    [theme=dark] .colab-df-convert:hover {\n",
              "      background-color: #434B5C;\n",
              "      box-shadow: 0px 1px 3px 1px rgba(0, 0, 0, 0.15);\n",
              "      filter: drop-shadow(0px 1px 2px rgba(0, 0, 0, 0.3));\n",
              "      fill: #FFFFFF;\n",
              "    }\n",
              "  </style>\n",
              "\n",
              "    <script>\n",
              "      const buttonEl =\n",
              "        document.querySelector('#df-8b6615db-8f77-4878-97e8-8a0c7bfea3db button.colab-df-convert');\n",
              "      buttonEl.style.display =\n",
              "        google.colab.kernel.accessAllowed ? 'block' : 'none';\n",
              "\n",
              "      async function convertToInteractive(key) {\n",
              "        const element = document.querySelector('#df-8b6615db-8f77-4878-97e8-8a0c7bfea3db');\n",
              "        const dataTable =\n",
              "          await google.colab.kernel.invokeFunction('convertToInteractive',\n",
              "                                                    [key], {});\n",
              "        if (!dataTable) return;\n",
              "\n",
              "        const docLinkHtml = 'Like what you see? Visit the ' +\n",
              "          '<a target=\"_blank\" href=https://colab.research.google.com/notebooks/data_table.ipynb>data table notebook</a>'\n",
              "          + ' to learn more about interactive tables.';\n",
              "        element.innerHTML = '';\n",
              "        dataTable['output_type'] = 'display_data';\n",
              "        await google.colab.output.renderOutput(dataTable, element);\n",
              "        const docLink = document.createElement('div');\n",
              "        docLink.innerHTML = docLinkHtml;\n",
              "        element.appendChild(docLink);\n",
              "      }\n",
              "    </script>\n",
              "  </div>\n",
              "\n",
              "\n",
              "<div id=\"df-3dcc6514-15a4-45b5-96fe-2f86668546da\">\n",
              "  <button class=\"colab-df-quickchart\" onclick=\"quickchart('df-3dcc6514-15a4-45b5-96fe-2f86668546da')\"\n",
              "            title=\"Suggest charts\"\n",
              "            style=\"display:none;\">\n",
              "\n",
              "<svg xmlns=\"http://www.w3.org/2000/svg\" height=\"24px\"viewBox=\"0 0 24 24\"\n",
              "     width=\"24px\">\n",
              "    <g>\n",
              "        <path d=\"M19 3H5c-1.1 0-2 .9-2 2v14c0 1.1.9 2 2 2h14c1.1 0 2-.9 2-2V5c0-1.1-.9-2-2-2zM9 17H7v-7h2v7zm4 0h-2V7h2v10zm4 0h-2v-4h2v4z\"/>\n",
              "    </g>\n",
              "</svg>\n",
              "  </button>\n",
              "\n",
              "<style>\n",
              "  .colab-df-quickchart {\n",
              "      --bg-color: #E8F0FE;\n",
              "      --fill-color: #1967D2;\n",
              "      --hover-bg-color: #E2EBFA;\n",
              "      --hover-fill-color: #174EA6;\n",
              "      --disabled-fill-color: #AAA;\n",
              "      --disabled-bg-color: #DDD;\n",
              "  }\n",
              "\n",
              "  [theme=dark] .colab-df-quickchart {\n",
              "      --bg-color: #3B4455;\n",
              "      --fill-color: #D2E3FC;\n",
              "      --hover-bg-color: #434B5C;\n",
              "      --hover-fill-color: #FFFFFF;\n",
              "      --disabled-bg-color: #3B4455;\n",
              "      --disabled-fill-color: #666;\n",
              "  }\n",
              "\n",
              "  .colab-df-quickchart {\n",
              "    background-color: var(--bg-color);\n",
              "    border: none;\n",
              "    border-radius: 50%;\n",
              "    cursor: pointer;\n",
              "    display: none;\n",
              "    fill: var(--fill-color);\n",
              "    height: 32px;\n",
              "    padding: 0;\n",
              "    width: 32px;\n",
              "  }\n",
              "\n",
              "  .colab-df-quickchart:hover {\n",
              "    background-color: var(--hover-bg-color);\n",
              "    box-shadow: 0 1px 2px rgba(60, 64, 67, 0.3), 0 1px 3px 1px rgba(60, 64, 67, 0.15);\n",
              "    fill: var(--button-hover-fill-color);\n",
              "  }\n",
              "\n",
              "  .colab-df-quickchart-complete:disabled,\n",
              "  .colab-df-quickchart-complete:disabled:hover {\n",
              "    background-color: var(--disabled-bg-color);\n",
              "    fill: var(--disabled-fill-color);\n",
              "    box-shadow: none;\n",
              "  }\n",
              "\n",
              "  .colab-df-spinner {\n",
              "    border: 2px solid var(--fill-color);\n",
              "    border-color: transparent;\n",
              "    border-bottom-color: var(--fill-color);\n",
              "    animation:\n",
              "      spin 1s steps(1) infinite;\n",
              "  }\n",
              "\n",
              "  @keyframes spin {\n",
              "    0% {\n",
              "      border-color: transparent;\n",
              "      border-bottom-color: var(--fill-color);\n",
              "      border-left-color: var(--fill-color);\n",
              "    }\n",
              "    20% {\n",
              "      border-color: transparent;\n",
              "      border-left-color: var(--fill-color);\n",
              "      border-top-color: var(--fill-color);\n",
              "    }\n",
              "    30% {\n",
              "      border-color: transparent;\n",
              "      border-left-color: var(--fill-color);\n",
              "      border-top-color: var(--fill-color);\n",
              "      border-right-color: var(--fill-color);\n",
              "    }\n",
              "    40% {\n",
              "      border-color: transparent;\n",
              "      border-right-color: var(--fill-color);\n",
              "      border-top-color: var(--fill-color);\n",
              "    }\n",
              "    60% {\n",
              "      border-color: transparent;\n",
              "      border-right-color: var(--fill-color);\n",
              "    }\n",
              "    80% {\n",
              "      border-color: transparent;\n",
              "      border-right-color: var(--fill-color);\n",
              "      border-bottom-color: var(--fill-color);\n",
              "    }\n",
              "    90% {\n",
              "      border-color: transparent;\n",
              "      border-bottom-color: var(--fill-color);\n",
              "    }\n",
              "  }\n",
              "</style>\n",
              "\n",
              "  <script>\n",
              "    async function quickchart(key) {\n",
              "      const quickchartButtonEl =\n",
              "        document.querySelector('#' + key + ' button');\n",
              "      quickchartButtonEl.disabled = true;  // To prevent multiple clicks.\n",
              "      quickchartButtonEl.classList.add('colab-df-spinner');\n",
              "      try {\n",
              "        const charts = await google.colab.kernel.invokeFunction(\n",
              "            'suggestCharts', [key], {});\n",
              "      } catch (error) {\n",
              "        console.error('Error during call to suggestCharts:', error);\n",
              "      }\n",
              "      quickchartButtonEl.classList.remove('colab-df-spinner');\n",
              "      quickchartButtonEl.classList.add('colab-df-quickchart-complete');\n",
              "    }\n",
              "    (() => {\n",
              "      let quickchartButtonEl =\n",
              "        document.querySelector('#df-3dcc6514-15a4-45b5-96fe-2f86668546da button');\n",
              "      quickchartButtonEl.style.display =\n",
              "        google.colab.kernel.accessAllowed ? 'block' : 'none';\n",
              "    })();\n",
              "  </script>\n",
              "</div>\n",
              "\n",
              "    </div>\n",
              "  </div>\n"
            ],
            "text/plain": [
              "  label                                            message\n",
              "0   ham  Go until jurong point, crazy.. Available only ...\n",
              "1   ham                      Ok lar... Joking wif u oni...\n",
              "2  spam  Free entry in 2 a wkly comp to win FA Cup fina...\n",
              "3   ham  U dun say so early hor... U c already then say...\n",
              "4   ham  Nah I don't think he goes to usf, he lives aro..."
            ]
          },
          "execution_count": 6,
          "metadata": {},
          "output_type": "execute_result"
        }
      ],
      "source": [
        "spam = dataset[[\"v1\", \"v2\"]]\n",
        "spam = spam.rename(columns={\"v1\": \"label\", \"v2\": \"message\"})\n",
        "spam.head()"
      ]
    },
    {
      "cell_type": "code",
      "execution_count": 7,
      "metadata": {
        "colab": {
          "base_uri": "https://localhost:8080/"
        },
        "id": "97x4ZjMx9wvU",
        "outputId": "700af1cd-e961-43da-e319-123a188806f6"
      },
      "outputs": [
        {
          "data": {
            "text/plain": [
              "(5572, 2)"
            ]
          },
          "execution_count": 7,
          "metadata": {},
          "output_type": "execute_result"
        }
      ],
      "source": [
        "spam.shape"
      ]
    },
    {
      "cell_type": "code",
      "execution_count": 8,
      "metadata": {
        "colab": {
          "base_uri": "https://localhost:8080/",
          "height": 147
        },
        "id": "96XzCIXe9wvV",
        "outputId": "aae80ebe-d9b1-40ac-ebc5-78e694bbe38b"
      },
      "outputs": [
        {
          "data": {
            "text/html": [
              "<div>\n",
              "<style scoped>\n",
              "    .dataframe tbody tr th:only-of-type {\n",
              "        vertical-align: middle;\n",
              "    }\n",
              "\n",
              "    .dataframe tbody tr th {\n",
              "        vertical-align: top;\n",
              "    }\n",
              "\n",
              "    .dataframe thead th {\n",
              "        text-align: right;\n",
              "    }\n",
              "</style>\n",
              "<table border=\"1\" class=\"dataframe\">\n",
              "  <thead>\n",
              "    <tr style=\"text-align: right;\">\n",
              "      <th></th>\n",
              "      <th>0</th>\n",
              "    </tr>\n",
              "  </thead>\n",
              "  <tbody>\n",
              "    <tr>\n",
              "      <th>label</th>\n",
              "      <td>0</td>\n",
              "    </tr>\n",
              "    <tr>\n",
              "      <th>message</th>\n",
              "      <td>0</td>\n",
              "    </tr>\n",
              "  </tbody>\n",
              "</table>\n",
              "</div><br><label><b>dtype:</b> int64</label>"
            ],
            "text/plain": [
              "label      0\n",
              "message    0\n",
              "dtype: int64"
            ]
          },
          "execution_count": 8,
          "metadata": {},
          "output_type": "execute_result"
        }
      ],
      "source": [
        "spam.isna().sum()"
      ]
    },
    {
      "cell_type": "markdown",
      "metadata": {
        "id": "je7Nq5Mx9wvW"
      },
      "source": [
        "There is no missing values."
      ]
    },
    {
      "cell_type": "markdown",
      "metadata": {
        "id": "KV4Yhe7f9wvX"
      },
      "source": [
        "## Preprocessing"
      ]
    },
    {
      "cell_type": "code",
      "execution_count": 9,
      "metadata": {
        "colab": {
          "base_uri": "https://localhost:8080/"
        },
        "id": "nOtZNnH-9wvY",
        "outputId": "963a1f80-ea6b-4bd6-e930-d1237eee8c6d"
      },
      "outputs": [
        {
          "name": "stdout",
          "output_type": "stream",
          "text": [
            "\u001b[2K     \u001b[90m━━━━━━━━━━━━━━━━━━━━━━━━━━━━━━━━━━━━━━━━\u001b[0m \u001b[32m12.8/12.8 MB\u001b[0m \u001b[31m20.2 MB/s\u001b[0m eta \u001b[36m0:00:00\u001b[0m\n",
            "\u001b[?25h\u001b[38;5;2m✔ Download and installation successful\u001b[0m\n",
            "You can now load the package via spacy.load('en_core_web_sm')\n",
            "\u001b[38;5;3m⚠ Restart to reload dependencies\u001b[0m\n",
            "If you are in a Jupyter or Colab notebook, you may need to restart Python in\n",
            "order to load all the package's dependencies. You can do this by selecting the\n",
            "'Restart kernel' or 'Restart runtime' option.\n"
          ]
        }
      ],
      "source": [
        "!python -m spacy download en_core_web_sm -q"
      ]
    },
    {
      "cell_type": "code",
      "execution_count": 10,
      "metadata": {
        "id": "p2yo8ijV9wvZ"
      },
      "outputs": [],
      "source": [
        "# Import Spacy and english initialisation\n",
        "import en_core_web_sm\n",
        "nlp = en_core_web_sm.load()"
      ]
    },
    {
      "cell_type": "code",
      "execution_count": 11,
      "metadata": {
        "id": "96O-KHo-9wvZ"
      },
      "outputs": [],
      "source": [
        "# Import Stop words\n",
        "from spacy.lang.en.stop_words import STOP_WORDS"
      ]
    },
    {
      "cell_type": "markdown",
      "metadata": {
        "id": "KpK5gUgU9wva"
      },
      "source": [
        "Cleaning of the text. We keep the alphanumeric characters, with the words seperate by only one space, in lowercase, and we tokenize it by lemmatization and english stop words."
      ]
    },
    {
      "cell_type": "code",
      "execution_count": 12,
      "metadata": {
        "colab": {
          "base_uri": "https://localhost:8080/",
          "height": 423
        },
        "id": "JX2VKoBn9wva",
        "outputId": "44f54d56-bb30-4848-8ff5-3d0e1dafa8f5"
      },
      "outputs": [
        {
          "data": {
            "application/vnd.google.colaboratory.intrinsic+json": {
              "summary": "{\n  \"name\": \"spam\",\n  \"rows\": 5572,\n  \"fields\": [\n    {\n      \"column\": \"label\",\n      \"properties\": {\n        \"dtype\": \"category\",\n        \"num_unique_values\": 2,\n        \"samples\": [\n          \"spam\",\n          \"ham\"\n        ],\n        \"semantic_type\": \"\",\n        \"description\": \"\"\n      }\n    },\n    {\n      \"column\": \"message\",\n      \"properties\": {\n        \"dtype\": \"string\",\n        \"num_unique_values\": 5168,\n        \"samples\": [\n          \"Mm i had my food da from out\",\n          \"Somebody should go to andros and steal ice\"\n        ],\n        \"semantic_type\": \"\",\n        \"description\": \"\"\n      }\n    },\n    {\n      \"column\": \"message_clean\",\n      \"properties\": {\n        \"dtype\": \"string\",\n        \"num_unique_values\": 5080,\n        \"samples\": [\n          \"err cud   8 pm way contact\",\n          \"loan purpose bad credit tenant welcome noworriesloanscom 08717111821\"\n        ],\n        \"semantic_type\": \"\",\n        \"description\": \"\"\n      }\n    }\n  ]\n}",
              "type": "dataframe",
              "variable_name": "spam"
            },
            "text/html": [
              "\n",
              "  <div id=\"df-ecea736a-3756-466b-8a83-f327a400c6d5\" class=\"colab-df-container\">\n",
              "    <div>\n",
              "<style scoped>\n",
              "    .dataframe tbody tr th:only-of-type {\n",
              "        vertical-align: middle;\n",
              "    }\n",
              "\n",
              "    .dataframe tbody tr th {\n",
              "        vertical-align: top;\n",
              "    }\n",
              "\n",
              "    .dataframe thead th {\n",
              "        text-align: right;\n",
              "    }\n",
              "</style>\n",
              "<table border=\"1\" class=\"dataframe\">\n",
              "  <thead>\n",
              "    <tr style=\"text-align: right;\">\n",
              "      <th></th>\n",
              "      <th>label</th>\n",
              "      <th>message</th>\n",
              "      <th>message_clean</th>\n",
              "    </tr>\n",
              "  </thead>\n",
              "  <tbody>\n",
              "    <tr>\n",
              "      <th>0</th>\n",
              "      <td>ham</td>\n",
              "      <td>Go until jurong point, crazy.. Available only ...</td>\n",
              "      <td>jurong point crazy available bugis n great wor...</td>\n",
              "    </tr>\n",
              "    <tr>\n",
              "      <th>1</th>\n",
              "      <td>ham</td>\n",
              "      <td>Ok lar... Joking wif u oni...</td>\n",
              "      <td>ok lar joke wif u oni</td>\n",
              "    </tr>\n",
              "    <tr>\n",
              "      <th>2</th>\n",
              "      <td>spam</td>\n",
              "      <td>Free entry in 2 a wkly comp to win FA Cup fina...</td>\n",
              "      <td>free entry 2 wkly comp win fa cup final tkts 2...</td>\n",
              "    </tr>\n",
              "    <tr>\n",
              "      <th>3</th>\n",
              "      <td>ham</td>\n",
              "      <td>U dun say so early hor... U c already then say...</td>\n",
              "      <td>u dun early hor u c</td>\n",
              "    </tr>\n",
              "    <tr>\n",
              "      <th>4</th>\n",
              "      <td>ham</td>\n",
              "      <td>Nah I don't think he goes to usf, he lives aro...</td>\n",
              "      <td>nah think usf live</td>\n",
              "    </tr>\n",
              "    <tr>\n",
              "      <th>...</th>\n",
              "      <td>...</td>\n",
              "      <td>...</td>\n",
              "      <td>...</td>\n",
              "    </tr>\n",
              "    <tr>\n",
              "      <th>5567</th>\n",
              "      <td>spam</td>\n",
              "      <td>This is the 2nd time we have tried 2 contact u...</td>\n",
              "      <td>2nd time try 2 contact u u win 750 pound prize...</td>\n",
              "    </tr>\n",
              "    <tr>\n",
              "      <th>5568</th>\n",
              "      <td>ham</td>\n",
              "      <td>Will _ b going to esplanade fr home?</td>\n",
              "      <td>b esplanade fr home</td>\n",
              "    </tr>\n",
              "    <tr>\n",
              "      <th>5569</th>\n",
              "      <td>ham</td>\n",
              "      <td>Pity, * was in mood for that. So...any other s...</td>\n",
              "      <td>pity   mood soany suggestion</td>\n",
              "    </tr>\n",
              "    <tr>\n",
              "      <th>5570</th>\n",
              "      <td>ham</td>\n",
              "      <td>The guy did some bitching but I acted like i'd...</td>\n",
              "      <td>guy bitching act like interested buy week free</td>\n",
              "    </tr>\n",
              "    <tr>\n",
              "      <th>5571</th>\n",
              "      <td>ham</td>\n",
              "      <td>Rofl. Its true to its name</td>\n",
              "      <td>rofl true</td>\n",
              "    </tr>\n",
              "  </tbody>\n",
              "</table>\n",
              "<p>5572 rows × 3 columns</p>\n",
              "</div>\n",
              "    <div class=\"colab-df-buttons\">\n",
              "\n",
              "  <div class=\"colab-df-container\">\n",
              "    <button class=\"colab-df-convert\" onclick=\"convertToInteractive('df-ecea736a-3756-466b-8a83-f327a400c6d5')\"\n",
              "            title=\"Convert this dataframe to an interactive table.\"\n",
              "            style=\"display:none;\">\n",
              "\n",
              "  <svg xmlns=\"http://www.w3.org/2000/svg\" height=\"24px\" viewBox=\"0 -960 960 960\">\n",
              "    <path d=\"M120-120v-720h720v720H120Zm60-500h600v-160H180v160Zm220 220h160v-160H400v160Zm0 220h160v-160H400v160ZM180-400h160v-160H180v160Zm440 0h160v-160H620v160ZM180-180h160v-160H180v160Zm440 0h160v-160H620v160Z\"/>\n",
              "  </svg>\n",
              "    </button>\n",
              "\n",
              "  <style>\n",
              "    .colab-df-container {\n",
              "      display:flex;\n",
              "      gap: 12px;\n",
              "    }\n",
              "\n",
              "    .colab-df-convert {\n",
              "      background-color: #E8F0FE;\n",
              "      border: none;\n",
              "      border-radius: 50%;\n",
              "      cursor: pointer;\n",
              "      display: none;\n",
              "      fill: #1967D2;\n",
              "      height: 32px;\n",
              "      padding: 0 0 0 0;\n",
              "      width: 32px;\n",
              "    }\n",
              "\n",
              "    .colab-df-convert:hover {\n",
              "      background-color: #E2EBFA;\n",
              "      box-shadow: 0px 1px 2px rgba(60, 64, 67, 0.3), 0px 1px 3px 1px rgba(60, 64, 67, 0.15);\n",
              "      fill: #174EA6;\n",
              "    }\n",
              "\n",
              "    .colab-df-buttons div {\n",
              "      margin-bottom: 4px;\n",
              "    }\n",
              "\n",
              "    [theme=dark] .colab-df-convert {\n",
              "      background-color: #3B4455;\n",
              "      fill: #D2E3FC;\n",
              "    }\n",
              "\n",
              "    [theme=dark] .colab-df-convert:hover {\n",
              "      background-color: #434B5C;\n",
              "      box-shadow: 0px 1px 3px 1px rgba(0, 0, 0, 0.15);\n",
              "      filter: drop-shadow(0px 1px 2px rgba(0, 0, 0, 0.3));\n",
              "      fill: #FFFFFF;\n",
              "    }\n",
              "  </style>\n",
              "\n",
              "    <script>\n",
              "      const buttonEl =\n",
              "        document.querySelector('#df-ecea736a-3756-466b-8a83-f327a400c6d5 button.colab-df-convert');\n",
              "      buttonEl.style.display =\n",
              "        google.colab.kernel.accessAllowed ? 'block' : 'none';\n",
              "\n",
              "      async function convertToInteractive(key) {\n",
              "        const element = document.querySelector('#df-ecea736a-3756-466b-8a83-f327a400c6d5');\n",
              "        const dataTable =\n",
              "          await google.colab.kernel.invokeFunction('convertToInteractive',\n",
              "                                                    [key], {});\n",
              "        if (!dataTable) return;\n",
              "\n",
              "        const docLinkHtml = 'Like what you see? Visit the ' +\n",
              "          '<a target=\"_blank\" href=https://colab.research.google.com/notebooks/data_table.ipynb>data table notebook</a>'\n",
              "          + ' to learn more about interactive tables.';\n",
              "        element.innerHTML = '';\n",
              "        dataTable['output_type'] = 'display_data';\n",
              "        await google.colab.output.renderOutput(dataTable, element);\n",
              "        const docLink = document.createElement('div');\n",
              "        docLink.innerHTML = docLinkHtml;\n",
              "        element.appendChild(docLink);\n",
              "      }\n",
              "    </script>\n",
              "  </div>\n",
              "\n",
              "\n",
              "<div id=\"df-3e0438bd-9f5c-4ba7-b572-9fe9c5bd569e\">\n",
              "  <button class=\"colab-df-quickchart\" onclick=\"quickchart('df-3e0438bd-9f5c-4ba7-b572-9fe9c5bd569e')\"\n",
              "            title=\"Suggest charts\"\n",
              "            style=\"display:none;\">\n",
              "\n",
              "<svg xmlns=\"http://www.w3.org/2000/svg\" height=\"24px\"viewBox=\"0 0 24 24\"\n",
              "     width=\"24px\">\n",
              "    <g>\n",
              "        <path d=\"M19 3H5c-1.1 0-2 .9-2 2v14c0 1.1.9 2 2 2h14c1.1 0 2-.9 2-2V5c0-1.1-.9-2-2-2zM9 17H7v-7h2v7zm4 0h-2V7h2v10zm4 0h-2v-4h2v4z\"/>\n",
              "    </g>\n",
              "</svg>\n",
              "  </button>\n",
              "\n",
              "<style>\n",
              "  .colab-df-quickchart {\n",
              "      --bg-color: #E8F0FE;\n",
              "      --fill-color: #1967D2;\n",
              "      --hover-bg-color: #E2EBFA;\n",
              "      --hover-fill-color: #174EA6;\n",
              "      --disabled-fill-color: #AAA;\n",
              "      --disabled-bg-color: #DDD;\n",
              "  }\n",
              "\n",
              "  [theme=dark] .colab-df-quickchart {\n",
              "      --bg-color: #3B4455;\n",
              "      --fill-color: #D2E3FC;\n",
              "      --hover-bg-color: #434B5C;\n",
              "      --hover-fill-color: #FFFFFF;\n",
              "      --disabled-bg-color: #3B4455;\n",
              "      --disabled-fill-color: #666;\n",
              "  }\n",
              "\n",
              "  .colab-df-quickchart {\n",
              "    background-color: var(--bg-color);\n",
              "    border: none;\n",
              "    border-radius: 50%;\n",
              "    cursor: pointer;\n",
              "    display: none;\n",
              "    fill: var(--fill-color);\n",
              "    height: 32px;\n",
              "    padding: 0;\n",
              "    width: 32px;\n",
              "  }\n",
              "\n",
              "  .colab-df-quickchart:hover {\n",
              "    background-color: var(--hover-bg-color);\n",
              "    box-shadow: 0 1px 2px rgba(60, 64, 67, 0.3), 0 1px 3px 1px rgba(60, 64, 67, 0.15);\n",
              "    fill: var(--button-hover-fill-color);\n",
              "  }\n",
              "\n",
              "  .colab-df-quickchart-complete:disabled,\n",
              "  .colab-df-quickchart-complete:disabled:hover {\n",
              "    background-color: var(--disabled-bg-color);\n",
              "    fill: var(--disabled-fill-color);\n",
              "    box-shadow: none;\n",
              "  }\n",
              "\n",
              "  .colab-df-spinner {\n",
              "    border: 2px solid var(--fill-color);\n",
              "    border-color: transparent;\n",
              "    border-bottom-color: var(--fill-color);\n",
              "    animation:\n",
              "      spin 1s steps(1) infinite;\n",
              "  }\n",
              "\n",
              "  @keyframes spin {\n",
              "    0% {\n",
              "      border-color: transparent;\n",
              "      border-bottom-color: var(--fill-color);\n",
              "      border-left-color: var(--fill-color);\n",
              "    }\n",
              "    20% {\n",
              "      border-color: transparent;\n",
              "      border-left-color: var(--fill-color);\n",
              "      border-top-color: var(--fill-color);\n",
              "    }\n",
              "    30% {\n",
              "      border-color: transparent;\n",
              "      border-left-color: var(--fill-color);\n",
              "      border-top-color: var(--fill-color);\n",
              "      border-right-color: var(--fill-color);\n",
              "    }\n",
              "    40% {\n",
              "      border-color: transparent;\n",
              "      border-right-color: var(--fill-color);\n",
              "      border-top-color: var(--fill-color);\n",
              "    }\n",
              "    60% {\n",
              "      border-color: transparent;\n",
              "      border-right-color: var(--fill-color);\n",
              "    }\n",
              "    80% {\n",
              "      border-color: transparent;\n",
              "      border-right-color: var(--fill-color);\n",
              "      border-bottom-color: var(--fill-color);\n",
              "    }\n",
              "    90% {\n",
              "      border-color: transparent;\n",
              "      border-bottom-color: var(--fill-color);\n",
              "    }\n",
              "  }\n",
              "</style>\n",
              "\n",
              "  <script>\n",
              "    async function quickchart(key) {\n",
              "      const quickchartButtonEl =\n",
              "        document.querySelector('#' + key + ' button');\n",
              "      quickchartButtonEl.disabled = true;  // To prevent multiple clicks.\n",
              "      quickchartButtonEl.classList.add('colab-df-spinner');\n",
              "      try {\n",
              "        const charts = await google.colab.kernel.invokeFunction(\n",
              "            'suggestCharts', [key], {});\n",
              "      } catch (error) {\n",
              "        console.error('Error during call to suggestCharts:', error);\n",
              "      }\n",
              "      quickchartButtonEl.classList.remove('colab-df-spinner');\n",
              "      quickchartButtonEl.classList.add('colab-df-quickchart-complete');\n",
              "    }\n",
              "    (() => {\n",
              "      let quickchartButtonEl =\n",
              "        document.querySelector('#df-3e0438bd-9f5c-4ba7-b572-9fe9c5bd569e button');\n",
              "      quickchartButtonEl.style.display =\n",
              "        google.colab.kernel.accessAllowed ? 'block' : 'none';\n",
              "    })();\n",
              "  </script>\n",
              "</div>\n",
              "\n",
              "  <div id=\"id_58818fa3-50cb-4b41-a5c6-b28817714cf6\">\n",
              "    <style>\n",
              "      .colab-df-generate {\n",
              "        background-color: #E8F0FE;\n",
              "        border: none;\n",
              "        border-radius: 50%;\n",
              "        cursor: pointer;\n",
              "        display: none;\n",
              "        fill: #1967D2;\n",
              "        height: 32px;\n",
              "        padding: 0 0 0 0;\n",
              "        width: 32px;\n",
              "      }\n",
              "\n",
              "      .colab-df-generate:hover {\n",
              "        background-color: #E2EBFA;\n",
              "        box-shadow: 0px 1px 2px rgba(60, 64, 67, 0.3), 0px 1px 3px 1px rgba(60, 64, 67, 0.15);\n",
              "        fill: #174EA6;\n",
              "      }\n",
              "\n",
              "      [theme=dark] .colab-df-generate {\n",
              "        background-color: #3B4455;\n",
              "        fill: #D2E3FC;\n",
              "      }\n",
              "\n",
              "      [theme=dark] .colab-df-generate:hover {\n",
              "        background-color: #434B5C;\n",
              "        box-shadow: 0px 1px 3px 1px rgba(0, 0, 0, 0.15);\n",
              "        filter: drop-shadow(0px 1px 2px rgba(0, 0, 0, 0.3));\n",
              "        fill: #FFFFFF;\n",
              "      }\n",
              "    </style>\n",
              "    <button class=\"colab-df-generate\" onclick=\"generateWithVariable('spam')\"\n",
              "            title=\"Generate code using this dataframe.\"\n",
              "            style=\"display:none;\">\n",
              "\n",
              "  <svg xmlns=\"http://www.w3.org/2000/svg\" height=\"24px\"viewBox=\"0 0 24 24\"\n",
              "       width=\"24px\">\n",
              "    <path d=\"M7,19H8.4L18.45,9,17,7.55,7,17.6ZM5,21V16.75L18.45,3.32a2,2,0,0,1,2.83,0l1.4,1.43a1.91,1.91,0,0,1,.58,1.4,1.91,1.91,0,0,1-.58,1.4L9.25,21ZM18.45,9,17,7.55Zm-12,3A5.31,5.31,0,0,0,4.9,8.1,5.31,5.31,0,0,0,1,6.5,5.31,5.31,0,0,0,4.9,4.9,5.31,5.31,0,0,0,6.5,1,5.31,5.31,0,0,0,8.1,4.9,5.31,5.31,0,0,0,12,6.5,5.46,5.46,0,0,0,6.5,12Z\"/>\n",
              "  </svg>\n",
              "    </button>\n",
              "    <script>\n",
              "      (() => {\n",
              "      const buttonEl =\n",
              "        document.querySelector('#id_58818fa3-50cb-4b41-a5c6-b28817714cf6 button.colab-df-generate');\n",
              "      buttonEl.style.display =\n",
              "        google.colab.kernel.accessAllowed ? 'block' : 'none';\n",
              "\n",
              "      buttonEl.onclick = () => {\n",
              "        google.colab.notebook.generateWithVariable('spam');\n",
              "      }\n",
              "      })();\n",
              "    </script>\n",
              "  </div>\n",
              "\n",
              "    </div>\n",
              "  </div>\n"
            ],
            "text/plain": [
              "     label                                            message  \\\n",
              "0      ham  Go until jurong point, crazy.. Available only ...   \n",
              "1      ham                      Ok lar... Joking wif u oni...   \n",
              "2     spam  Free entry in 2 a wkly comp to win FA Cup fina...   \n",
              "3      ham  U dun say so early hor... U c already then say...   \n",
              "4      ham  Nah I don't think he goes to usf, he lives aro...   \n",
              "...    ...                                                ...   \n",
              "5567  spam  This is the 2nd time we have tried 2 contact u...   \n",
              "5568   ham               Will _ b going to esplanade fr home?   \n",
              "5569   ham  Pity, * was in mood for that. So...any other s...   \n",
              "5570   ham  The guy did some bitching but I acted like i'd...   \n",
              "5571   ham                         Rofl. Its true to its name   \n",
              "\n",
              "                                          message_clean  \n",
              "0     jurong point crazy available bugis n great wor...  \n",
              "1                                 ok lar joke wif u oni  \n",
              "2     free entry 2 wkly comp win fa cup final tkts 2...  \n",
              "3                                   u dun early hor u c  \n",
              "4                                    nah think usf live  \n",
              "...                                                 ...  \n",
              "5567  2nd time try 2 contact u u win 750 pound prize...  \n",
              "5568                                b esplanade fr home  \n",
              "5569                       pity   mood soany suggestion  \n",
              "5570     guy bitching act like interested buy week free  \n",
              "5571                                          rofl true  \n",
              "\n",
              "[5572 rows x 3 columns]"
            ]
          },
          "execution_count": 12,
          "metadata": {},
          "output_type": "execute_result"
        }
      ],
      "source": [
        "spam[\"message_clean\"] = spam[\"message\"].apply(lambda x:''.join(ch for ch in x if ch.isalnum() or ch==\" \" or ch==\"'\"))\n",
        "spam[\"message_clean\"] = spam[\"message_clean\"].apply(lambda x: x.replace(\" +\",\" \").lower().strip())\n",
        "spam[\"message_clean\"] = spam[\"message_clean\"].apply(lambda x: \" \".join([token.lemma_ for token in nlp(x) if (token.lemma_ not in STOP_WORDS) and (token.text not in STOP_WORDS)]))\n",
        "\n",
        "spam\n"
      ]
    },
    {
      "cell_type": "markdown",
      "metadata": {
        "id": "moAe5BSz9wvb"
      },
      "source": [
        "Verification that all values are string."
      ]
    },
    {
      "cell_type": "code",
      "execution_count": 13,
      "metadata": {
        "colab": {
          "base_uri": "https://localhost:8080/",
          "height": 147
        },
        "id": "ds3U2qgS9wvb",
        "outputId": "39fc720e-22a6-4683-dfa0-d1a34115a86d"
      },
      "outputs": [
        {
          "data": {
            "text/html": [
              "<div>\n",
              "<style scoped>\n",
              "    .dataframe tbody tr th:only-of-type {\n",
              "        vertical-align: middle;\n",
              "    }\n",
              "\n",
              "    .dataframe tbody tr th {\n",
              "        vertical-align: top;\n",
              "    }\n",
              "\n",
              "    .dataframe thead th {\n",
              "        text-align: right;\n",
              "    }\n",
              "</style>\n",
              "<table border=\"1\" class=\"dataframe\">\n",
              "  <thead>\n",
              "    <tr style=\"text-align: right;\">\n",
              "      <th></th>\n",
              "      <th>count</th>\n",
              "    </tr>\n",
              "    <tr>\n",
              "      <th>message_clean</th>\n",
              "      <th></th>\n",
              "    </tr>\n",
              "  </thead>\n",
              "  <tbody>\n",
              "    <tr>\n",
              "      <th>True</th>\n",
              "      <td>5572</td>\n",
              "    </tr>\n",
              "  </tbody>\n",
              "</table>\n",
              "</div><br><label><b>dtype:</b> int64</label>"
            ],
            "text/plain": [
              "message_clean\n",
              "True    5572\n",
              "Name: count, dtype: int64"
            ]
          },
          "execution_count": 13,
          "metadata": {},
          "output_type": "execute_result"
        }
      ],
      "source": [
        "mask = spam.message_clean.apply(lambda x: type(x)==str)\n",
        "mask.value_counts()\n"
      ]
    },
    {
      "cell_type": "markdown",
      "metadata": {
        "id": "v6aI9yXp9wvc"
      },
      "source": [
        "We encode the messages with keras tokenizer to have a value affected to each word. We keep only the first 1000 words more common."
      ]
    },
    {
      "cell_type": "code",
      "execution_count": 14,
      "metadata": {
        "id": "XMBiZcFN9wvd"
      },
      "outputs": [],
      "source": [
        "import numpy as np\n",
        "tokenizer = tf.keras.preprocessing.text.Tokenizer(num_words=1000, oov_token=\"out_of_vocab\") # instanciate the tokenizer\n",
        "tokenizer.fit_on_texts(spam.message_clean)\n",
        "spam[\"message_encoded\"] = tokenizer.texts_to_sequences(spam.message_clean)\n"
      ]
    },
    {
      "cell_type": "markdown",
      "metadata": {
        "id": "Mh2uyXwg9wvf"
      },
      "source": [
        "Encoding the label `ham` or `spam` with label encoder to obtain a binary classification with `0` or `1`. And we put it in a new column : *`encoded_label`*"
      ]
    },
    {
      "cell_type": "code",
      "execution_count": 15,
      "metadata": {
        "colab": {
          "base_uri": "https://localhost:8080/"
        },
        "id": "dVXH6z2x9wvf",
        "outputId": "3b7bc277-ce45-438c-e8bb-0c13925cdbf4"
      },
      "outputs": [
        {
          "data": {
            "text/plain": [
              "array([0., 0., 1., ..., 0., 0., 0.], dtype=float32)"
            ]
          },
          "execution_count": 15,
          "metadata": {},
          "output_type": "execute_result"
        }
      ],
      "source": [
        "le = LabelEncoder()\n",
        "\n",
        "encoded_label = le.fit_transform(spam['label'].tolist())\n",
        "encoded_label = encoded_label.astype(np.float32) #needing to compute the f1-score with tf.keras if not it send error due to type\n",
        "encoded_label"
      ]
    },
    {
      "cell_type": "code",
      "execution_count": 16,
      "metadata": {
        "colab": {
          "base_uri": "https://localhost:8080/",
          "height": 206
        },
        "id": "hPnq0kh39wvg",
        "outputId": "42a0966a-947d-479a-9573-a72572105fa1"
      },
      "outputs": [
        {
          "data": {
            "application/vnd.google.colaboratory.intrinsic+json": {
              "summary": "{\n  \"name\": \"spam\",\n  \"rows\": 5572,\n  \"fields\": [\n    {\n      \"column\": \"label\",\n      \"properties\": {\n        \"dtype\": \"category\",\n        \"num_unique_values\": 2,\n        \"samples\": [\n          \"spam\",\n          \"ham\"\n        ],\n        \"semantic_type\": \"\",\n        \"description\": \"\"\n      }\n    },\n    {\n      \"column\": \"encoded_label\",\n      \"properties\": {\n        \"dtype\": \"float32\",\n        \"num_unique_values\": 2,\n        \"samples\": [\n          1.0,\n          0.0\n        ],\n        \"semantic_type\": \"\",\n        \"description\": \"\"\n      }\n    },\n    {\n      \"column\": \"message\",\n      \"properties\": {\n        \"dtype\": \"string\",\n        \"num_unique_values\": 5168,\n        \"samples\": [\n          \"Mm i had my food da from out\",\n          \"Somebody should go to andros and steal ice\"\n        ],\n        \"semantic_type\": \"\",\n        \"description\": \"\"\n      }\n    },\n    {\n      \"column\": \"message_clean\",\n      \"properties\": {\n        \"dtype\": \"string\",\n        \"num_unique_values\": 5080,\n        \"samples\": [\n          \"err cud   8 pm way contact\",\n          \"loan purpose bad credit tenant welcome noworriesloanscom 08717111821\"\n        ],\n        \"semantic_type\": \"\",\n        \"description\": \"\"\n      }\n    },\n    {\n      \"column\": \"message_encoded\",\n      \"properties\": {\n        \"dtype\": \"object\",\n        \"semantic_type\": \"\",\n        \"description\": \"\"\n      }\n    }\n  ]\n}",
              "type": "dataframe",
              "variable_name": "spam"
            },
            "text/html": [
              "\n",
              "  <div id=\"df-68e5601e-e224-4373-91a8-e8f3bba26f85\" class=\"colab-df-container\">\n",
              "    <div>\n",
              "<style scoped>\n",
              "    .dataframe tbody tr th:only-of-type {\n",
              "        vertical-align: middle;\n",
              "    }\n",
              "\n",
              "    .dataframe tbody tr th {\n",
              "        vertical-align: top;\n",
              "    }\n",
              "\n",
              "    .dataframe thead th {\n",
              "        text-align: right;\n",
              "    }\n",
              "</style>\n",
              "<table border=\"1\" class=\"dataframe\">\n",
              "  <thead>\n",
              "    <tr style=\"text-align: right;\">\n",
              "      <th></th>\n",
              "      <th>label</th>\n",
              "      <th>encoded_label</th>\n",
              "      <th>message</th>\n",
              "      <th>message_clean</th>\n",
              "      <th>message_encoded</th>\n",
              "    </tr>\n",
              "  </thead>\n",
              "  <tbody>\n",
              "    <tr>\n",
              "      <th>0</th>\n",
              "      <td>ham</td>\n",
              "      <td>0.0</td>\n",
              "      <td>Go until jurong point, crazy.. Available only ...</td>\n",
              "      <td>jurong point crazy available bugis n great wor...</td>\n",
              "      <td>[1, 232, 446, 462, 934, 32, 50, 207, 935, 77, ...</td>\n",
              "    </tr>\n",
              "    <tr>\n",
              "      <th>1</th>\n",
              "      <td>ham</td>\n",
              "      <td>0.0</td>\n",
              "      <td>Ok lar... Joking wif u oni...</td>\n",
              "      <td>ok lar joke wif u oni</td>\n",
              "      <td>[8, 197, 463, 290, 2, 1]</td>\n",
              "    </tr>\n",
              "    <tr>\n",
              "      <th>2</th>\n",
              "      <td>spam</td>\n",
              "      <td>1.0</td>\n",
              "      <td>Free entry in 2 a wkly comp to win FA Cup fina...</td>\n",
              "      <td>free entry 2 wkly comp win fa cup final tkts 2...</td>\n",
              "      <td>[11, 300, 3, 532, 659, 30, 1, 841, 424, 1, 1, ...</td>\n",
              "    </tr>\n",
              "    <tr>\n",
              "      <th>3</th>\n",
              "      <td>ham</td>\n",
              "      <td>0.0</td>\n",
              "      <td>U dun say so early hor... U c already then say...</td>\n",
              "      <td>u dun early hor u c</td>\n",
              "      <td>[2, 124, 148, 1, 2, 78]</td>\n",
              "    </tr>\n",
              "    <tr>\n",
              "      <th>4</th>\n",
              "      <td>ham</td>\n",
              "      <td>0.0</td>\n",
              "      <td>Nah I don't think he goes to usf, he lives aro...</td>\n",
              "      <td>nah think usf live</td>\n",
              "      <td>[700, 20, 660, 128]</td>\n",
              "    </tr>\n",
              "  </tbody>\n",
              "</table>\n",
              "</div>\n",
              "    <div class=\"colab-df-buttons\">\n",
              "\n",
              "  <div class=\"colab-df-container\">\n",
              "    <button class=\"colab-df-convert\" onclick=\"convertToInteractive('df-68e5601e-e224-4373-91a8-e8f3bba26f85')\"\n",
              "            title=\"Convert this dataframe to an interactive table.\"\n",
              "            style=\"display:none;\">\n",
              "\n",
              "  <svg xmlns=\"http://www.w3.org/2000/svg\" height=\"24px\" viewBox=\"0 -960 960 960\">\n",
              "    <path d=\"M120-120v-720h720v720H120Zm60-500h600v-160H180v160Zm220 220h160v-160H400v160Zm0 220h160v-160H400v160ZM180-400h160v-160H180v160Zm440 0h160v-160H620v160ZM180-180h160v-160H180v160Zm440 0h160v-160H620v160Z\"/>\n",
              "  </svg>\n",
              "    </button>\n",
              "\n",
              "  <style>\n",
              "    .colab-df-container {\n",
              "      display:flex;\n",
              "      gap: 12px;\n",
              "    }\n",
              "\n",
              "    .colab-df-convert {\n",
              "      background-color: #E8F0FE;\n",
              "      border: none;\n",
              "      border-radius: 50%;\n",
              "      cursor: pointer;\n",
              "      display: none;\n",
              "      fill: #1967D2;\n",
              "      height: 32px;\n",
              "      padding: 0 0 0 0;\n",
              "      width: 32px;\n",
              "    }\n",
              "\n",
              "    .colab-df-convert:hover {\n",
              "      background-color: #E2EBFA;\n",
              "      box-shadow: 0px 1px 2px rgba(60, 64, 67, 0.3), 0px 1px 3px 1px rgba(60, 64, 67, 0.15);\n",
              "      fill: #174EA6;\n",
              "    }\n",
              "\n",
              "    .colab-df-buttons div {\n",
              "      margin-bottom: 4px;\n",
              "    }\n",
              "\n",
              "    [theme=dark] .colab-df-convert {\n",
              "      background-color: #3B4455;\n",
              "      fill: #D2E3FC;\n",
              "    }\n",
              "\n",
              "    [theme=dark] .colab-df-convert:hover {\n",
              "      background-color: #434B5C;\n",
              "      box-shadow: 0px 1px 3px 1px rgba(0, 0, 0, 0.15);\n",
              "      filter: drop-shadow(0px 1px 2px rgba(0, 0, 0, 0.3));\n",
              "      fill: #FFFFFF;\n",
              "    }\n",
              "  </style>\n",
              "\n",
              "    <script>\n",
              "      const buttonEl =\n",
              "        document.querySelector('#df-68e5601e-e224-4373-91a8-e8f3bba26f85 button.colab-df-convert');\n",
              "      buttonEl.style.display =\n",
              "        google.colab.kernel.accessAllowed ? 'block' : 'none';\n",
              "\n",
              "      async function convertToInteractive(key) {\n",
              "        const element = document.querySelector('#df-68e5601e-e224-4373-91a8-e8f3bba26f85');\n",
              "        const dataTable =\n",
              "          await google.colab.kernel.invokeFunction('convertToInteractive',\n",
              "                                                    [key], {});\n",
              "        if (!dataTable) return;\n",
              "\n",
              "        const docLinkHtml = 'Like what you see? Visit the ' +\n",
              "          '<a target=\"_blank\" href=https://colab.research.google.com/notebooks/data_table.ipynb>data table notebook</a>'\n",
              "          + ' to learn more about interactive tables.';\n",
              "        element.innerHTML = '';\n",
              "        dataTable['output_type'] = 'display_data';\n",
              "        await google.colab.output.renderOutput(dataTable, element);\n",
              "        const docLink = document.createElement('div');\n",
              "        docLink.innerHTML = docLinkHtml;\n",
              "        element.appendChild(docLink);\n",
              "      }\n",
              "    </script>\n",
              "  </div>\n",
              "\n",
              "\n",
              "<div id=\"df-0a398038-51a6-4e22-8ecd-15363bf7161a\">\n",
              "  <button class=\"colab-df-quickchart\" onclick=\"quickchart('df-0a398038-51a6-4e22-8ecd-15363bf7161a')\"\n",
              "            title=\"Suggest charts\"\n",
              "            style=\"display:none;\">\n",
              "\n",
              "<svg xmlns=\"http://www.w3.org/2000/svg\" height=\"24px\"viewBox=\"0 0 24 24\"\n",
              "     width=\"24px\">\n",
              "    <g>\n",
              "        <path d=\"M19 3H5c-1.1 0-2 .9-2 2v14c0 1.1.9 2 2 2h14c1.1 0 2-.9 2-2V5c0-1.1-.9-2-2-2zM9 17H7v-7h2v7zm4 0h-2V7h2v10zm4 0h-2v-4h2v4z\"/>\n",
              "    </g>\n",
              "</svg>\n",
              "  </button>\n",
              "\n",
              "<style>\n",
              "  .colab-df-quickchart {\n",
              "      --bg-color: #E8F0FE;\n",
              "      --fill-color: #1967D2;\n",
              "      --hover-bg-color: #E2EBFA;\n",
              "      --hover-fill-color: #174EA6;\n",
              "      --disabled-fill-color: #AAA;\n",
              "      --disabled-bg-color: #DDD;\n",
              "  }\n",
              "\n",
              "  [theme=dark] .colab-df-quickchart {\n",
              "      --bg-color: #3B4455;\n",
              "      --fill-color: #D2E3FC;\n",
              "      --hover-bg-color: #434B5C;\n",
              "      --hover-fill-color: #FFFFFF;\n",
              "      --disabled-bg-color: #3B4455;\n",
              "      --disabled-fill-color: #666;\n",
              "  }\n",
              "\n",
              "  .colab-df-quickchart {\n",
              "    background-color: var(--bg-color);\n",
              "    border: none;\n",
              "    border-radius: 50%;\n",
              "    cursor: pointer;\n",
              "    display: none;\n",
              "    fill: var(--fill-color);\n",
              "    height: 32px;\n",
              "    padding: 0;\n",
              "    width: 32px;\n",
              "  }\n",
              "\n",
              "  .colab-df-quickchart:hover {\n",
              "    background-color: var(--hover-bg-color);\n",
              "    box-shadow: 0 1px 2px rgba(60, 64, 67, 0.3), 0 1px 3px 1px rgba(60, 64, 67, 0.15);\n",
              "    fill: var(--button-hover-fill-color);\n",
              "  }\n",
              "\n",
              "  .colab-df-quickchart-complete:disabled,\n",
              "  .colab-df-quickchart-complete:disabled:hover {\n",
              "    background-color: var(--disabled-bg-color);\n",
              "    fill: var(--disabled-fill-color);\n",
              "    box-shadow: none;\n",
              "  }\n",
              "\n",
              "  .colab-df-spinner {\n",
              "    border: 2px solid var(--fill-color);\n",
              "    border-color: transparent;\n",
              "    border-bottom-color: var(--fill-color);\n",
              "    animation:\n",
              "      spin 1s steps(1) infinite;\n",
              "  }\n",
              "\n",
              "  @keyframes spin {\n",
              "    0% {\n",
              "      border-color: transparent;\n",
              "      border-bottom-color: var(--fill-color);\n",
              "      border-left-color: var(--fill-color);\n",
              "    }\n",
              "    20% {\n",
              "      border-color: transparent;\n",
              "      border-left-color: var(--fill-color);\n",
              "      border-top-color: var(--fill-color);\n",
              "    }\n",
              "    30% {\n",
              "      border-color: transparent;\n",
              "      border-left-color: var(--fill-color);\n",
              "      border-top-color: var(--fill-color);\n",
              "      border-right-color: var(--fill-color);\n",
              "    }\n",
              "    40% {\n",
              "      border-color: transparent;\n",
              "      border-right-color: var(--fill-color);\n",
              "      border-top-color: var(--fill-color);\n",
              "    }\n",
              "    60% {\n",
              "      border-color: transparent;\n",
              "      border-right-color: var(--fill-color);\n",
              "    }\n",
              "    80% {\n",
              "      border-color: transparent;\n",
              "      border-right-color: var(--fill-color);\n",
              "      border-bottom-color: var(--fill-color);\n",
              "    }\n",
              "    90% {\n",
              "      border-color: transparent;\n",
              "      border-bottom-color: var(--fill-color);\n",
              "    }\n",
              "  }\n",
              "</style>\n",
              "\n",
              "  <script>\n",
              "    async function quickchart(key) {\n",
              "      const quickchartButtonEl =\n",
              "        document.querySelector('#' + key + ' button');\n",
              "      quickchartButtonEl.disabled = true;  // To prevent multiple clicks.\n",
              "      quickchartButtonEl.classList.add('colab-df-spinner');\n",
              "      try {\n",
              "        const charts = await google.colab.kernel.invokeFunction(\n",
              "            'suggestCharts', [key], {});\n",
              "      } catch (error) {\n",
              "        console.error('Error during call to suggestCharts:', error);\n",
              "      }\n",
              "      quickchartButtonEl.classList.remove('colab-df-spinner');\n",
              "      quickchartButtonEl.classList.add('colab-df-quickchart-complete');\n",
              "    }\n",
              "    (() => {\n",
              "      let quickchartButtonEl =\n",
              "        document.querySelector('#df-0a398038-51a6-4e22-8ecd-15363bf7161a button');\n",
              "      quickchartButtonEl.style.display =\n",
              "        google.colab.kernel.accessAllowed ? 'block' : 'none';\n",
              "    })();\n",
              "  </script>\n",
              "</div>\n",
              "\n",
              "    </div>\n",
              "  </div>\n"
            ],
            "text/plain": [
              "  label  encoded_label                                            message  \\\n",
              "0   ham            0.0  Go until jurong point, crazy.. Available only ...   \n",
              "1   ham            0.0                      Ok lar... Joking wif u oni...   \n",
              "2  spam            1.0  Free entry in 2 a wkly comp to win FA Cup fina...   \n",
              "3   ham            0.0  U dun say so early hor... U c already then say...   \n",
              "4   ham            0.0  Nah I don't think he goes to usf, he lives aro...   \n",
              "\n",
              "                                       message_clean  \\\n",
              "0  jurong point crazy available bugis n great wor...   \n",
              "1                              ok lar joke wif u oni   \n",
              "2  free entry 2 wkly comp win fa cup final tkts 2...   \n",
              "3                                u dun early hor u c   \n",
              "4                                 nah think usf live   \n",
              "\n",
              "                                     message_encoded  \n",
              "0  [1, 232, 446, 462, 934, 32, 50, 207, 935, 77, ...  \n",
              "1                           [8, 197, 463, 290, 2, 1]  \n",
              "2  [11, 300, 3, 532, 659, 30, 1, 841, 424, 1, 1, ...  \n",
              "3                            [2, 124, 148, 1, 2, 78]  \n",
              "4                                [700, 20, 660, 128]  "
            ]
          },
          "execution_count": 16,
          "metadata": {},
          "output_type": "execute_result"
        }
      ],
      "source": [
        "spam.insert(1, \"encoded_label\", encoded_label)\n",
        "spam.head()"
      ]
    },
    {
      "cell_type": "markdown",
      "metadata": {
        "id": "ea8H8uDg9wvg"
      },
      "source": [
        "Convertion of our dataset into a tensorflow dataset.\n",
        "\n",
        "Tensorflow is incapable to create a tensor dataset based on lists, we will have to store all of our encoded texts into a single numpy array before creating the tensorflow dataset.\n",
        "The problem is that not all our sequences are the same length, this is where the `tf.keras.preprocessing.sequence.pad_sequences` comes in handy, it will add zero padding at the beginning (`padding=\"pre\"`) or at the end (`padding=\"post\"`) of your sequences so they all have equal length."
      ]
    },
    {
      "cell_type": "code",
      "execution_count": 17,
      "metadata": {
        "id": "LidXPj2x9wvh"
      },
      "outputs": [],
      "source": [
        "max_len = 150\n",
        "messages_pad = tf.keras.preprocessing.sequence.pad_sequences(spam.message_encoded, maxlen=max_len, padding='post')\n"
      ]
    },
    {
      "cell_type": "markdown",
      "metadata": {
        "id": "9Dj0IqDH9wvh"
      },
      "source": [
        "Separation into a train and validation set, to keep `70%` for the train."
      ]
    },
    {
      "cell_type": "code",
      "execution_count": 18,
      "metadata": {
        "id": "HfD5KWqz9wvi"
      },
      "outputs": [],
      "source": [
        "# Train Test Split\n",
        "xtrain, xval, ytrain, yval = train_test_split(messages_pad,spam.encoded_label, stratify=spam.encoded_label, test_size=0.3)\n",
        "\n"
      ]
    },
    {
      "cell_type": "markdown",
      "metadata": {
        "id": "QLHW1QCf9wvj"
      },
      "source": [
        "Creation of a tensor dataset dor the train and validation."
      ]
    },
    {
      "cell_type": "code",
      "execution_count": 19,
      "metadata": {
        "id": "-wiAjJ6x9wvj"
      },
      "outputs": [],
      "source": [
        "train = tf.data.Dataset.from_tensor_slices((xtrain, ytrain))\n",
        "val = tf.data.Dataset.from_tensor_slices((xval, yval))\n"
      ]
    },
    {
      "cell_type": "markdown",
      "metadata": {
        "id": "v-GNhfFM9wvk"
      },
      "source": [
        "Shuffle on train set to add some ramdomizer, and batch by batches of 64 observation the bath datasets."
      ]
    },
    {
      "cell_type": "code",
      "execution_count": 20,
      "metadata": {
        "id": "35ENSKGr9wvk"
      },
      "outputs": [],
      "source": [
        "train_batch = train.shuffle(len(train)).batch(64)\n",
        "val_batch = val.shuffle(len(val)).batch(64)\n"
      ]
    },
    {
      "cell_type": "code",
      "execution_count": 21,
      "metadata": {
        "colab": {
          "base_uri": "https://localhost:8080/"
        },
        "id": "6H8AB4hk9wvk",
        "outputId": "85a29321-8120-411d-f459-712e60675d31"
      },
      "outputs": [
        {
          "name": "stdout",
          "output_type": "stream",
          "text": [
            "tf.Tensor(\n",
            "[[226 248  15 ...   0   0   0]\n",
            " [617   2 229 ...   0   0   0]\n",
            " [  1   1  55 ...   0   0   0]\n",
            " ...\n",
            " [ 85   1   1 ...   0   0   0]\n",
            " [  1  25  56 ...   0   0   0]\n",
            " [147 286 446 ...   0   0   0]], shape=(64, 150), dtype=int32) tf.Tensor(\n",
            "[0. 0. 0. 1. 1. 0. 0. 0. 0. 0. 0. 0. 0. 0. 0. 0. 0. 0. 0. 0. 0. 0. 0. 0.\n",
            " 1. 0. 0. 0. 0. 0. 0. 0. 1. 0. 0. 0. 0. 0. 0. 0. 0. 0. 0. 0. 0. 0. 0. 1.\n",
            " 0. 0. 1. 0. 0. 0. 0. 0. 1. 1. 0. 0. 0. 0. 0. 0.], shape=(64,), dtype=float32)\n"
          ]
        }
      ],
      "source": [
        " # Look at one batch\n",
        "for message, label in train_batch.take(1):\n",
        "  print(message, label)\n"
      ]
    },
    {
      "cell_type": "markdown",
      "metadata": {
        "id": "6pPxDx6s9wvl"
      },
      "source": [
        "# 2) Baseline : simple deep learning model"
      ]
    },
    {
      "cell_type": "markdown",
      "metadata": {
        "id": "6kRXyhNl9wvm"
      },
      "source": [
        "This first model is an embedding model following the architecture that we saw in the demonstration lecture."
      ]
    },
    {
      "cell_type": "code",
      "execution_count": 22,
      "metadata": {
        "id": "WaHlhKt99wvm"
      },
      "outputs": [],
      "source": [
        "vocab_size = tokenizer.num_words\n",
        "model = tf.keras.Sequential([\n",
        "                  # Layer od Input word embedding\n",
        "                  tf.keras.layers.Embedding(vocab_size+1, 8, input_shape=[max_len],name=\"embedding\"),\n",
        "                  # the input dim needs to be equal to the size of the vocabulary + 1 (because of\n",
        "                  # the zero padding)\n",
        "\n",
        "                  # Gobal average pooling\n",
        "                  tf.keras.layers.GlobalAveragePooling1D(),# this will pick the average for every word in the sentence\n",
        "                  # along each dimension of the representation space.\n",
        "\n",
        "\n",
        "                  # Layer Dense classique\n",
        "                  tf.keras.layers.Dense(16, activation='relu'),\n",
        "\n",
        "                  # Layer of output with the number of neurons on output equal to the number of class with linear function\n",
        "                  tf.keras.layers.Dense(1, activation=\"sigmoid\")\n",
        "])\n"
      ]
    },
    {
      "cell_type": "code",
      "execution_count": 23,
      "metadata": {
        "colab": {
          "base_uri": "https://localhost:8080/"
        },
        "id": "D3oX-otd9wvn",
        "outputId": "408a402e-4af3-4616-a640-394de9924170"
      },
      "outputs": [
        {
          "name": "stdout",
          "output_type": "stream",
          "text": [
            "Model: \"sequential\"\n",
            "_________________________________________________________________\n",
            " Layer (type)                Output Shape              Param #   \n",
            "=================================================================\n",
            " embedding (Embedding)       (None, 150, 8)            8008      \n",
            "                                                                 \n",
            " global_average_pooling1d (  (None, 8)                 0         \n",
            " GlobalAveragePooling1D)                                         \n",
            "                                                                 \n",
            " dense (Dense)               (None, 16)                144       \n",
            "                                                                 \n",
            " dense_1 (Dense)             (None, 1)                 17        \n",
            "                                                                 \n",
            "=================================================================\n",
            "Total params: 8169 (31.91 KB)\n",
            "Trainable params: 8169 (31.91 KB)\n",
            "Non-trainable params: 0 (0.00 Byte)\n",
            "_________________________________________________________________\n"
          ]
        }
      ],
      "source": [
        "model.summary()\n"
      ]
    },
    {
      "cell_type": "code",
      "execution_count": 24,
      "metadata": {
        "colab": {
          "base_uri": "https://localhost:8080/",
          "height": 178
        },
        "id": "ka9IqWUGzhEl",
        "outputId": "881c8b4f-de95-4ac4-d6cd-2351c494fffe"
      },
      "outputs": [
        {
          "data": {
            "text/html": [
              "<div>\n",
              "<style scoped>\n",
              "    .dataframe tbody tr th:only-of-type {\n",
              "        vertical-align: middle;\n",
              "    }\n",
              "\n",
              "    .dataframe tbody tr th {\n",
              "        vertical-align: top;\n",
              "    }\n",
              "\n",
              "    .dataframe thead th {\n",
              "        text-align: right;\n",
              "    }\n",
              "</style>\n",
              "<table border=\"1\" class=\"dataframe\">\n",
              "  <thead>\n",
              "    <tr style=\"text-align: right;\">\n",
              "      <th></th>\n",
              "      <th>count</th>\n",
              "    </tr>\n",
              "    <tr>\n",
              "      <th>encoded_label</th>\n",
              "      <th></th>\n",
              "    </tr>\n",
              "  </thead>\n",
              "  <tbody>\n",
              "    <tr>\n",
              "      <th>0.0</th>\n",
              "      <td>4825</td>\n",
              "    </tr>\n",
              "    <tr>\n",
              "      <th>1.0</th>\n",
              "      <td>747</td>\n",
              "    </tr>\n",
              "  </tbody>\n",
              "</table>\n",
              "</div><br><label><b>dtype:</b> int64</label>"
            ],
            "text/plain": [
              "encoded_label\n",
              "0.0    4825\n",
              "1.0     747\n",
              "Name: count, dtype: int64"
            ]
          },
          "execution_count": 24,
          "metadata": {},
          "output_type": "execute_result"
        }
      ],
      "source": [
        "spam['encoded_label'].value_counts()"
      ]
    },
    {
      "cell_type": "code",
      "execution_count": 25,
      "metadata": {
        "colab": {
          "base_uri": "https://localhost:8080/"
        },
        "id": "_mlCBtAoze9K",
        "outputId": "d1db4c3a-636a-43b7-be48-066f791729ab"
      },
      "outputs": [
        {
          "data": {
            "text/plain": [
              "{0.0: 0.23096373056994818, 1.0: 1.491834002677376}"
            ]
          },
          "execution_count": 25,
          "metadata": {},
          "output_type": "execute_result"
        }
      ],
      "source": [
        "weights = 1/(spam['encoded_label']).value_counts()\n",
        "weights = weights * len(spam)/5\n",
        "weights = {index : values for index , values in zip(weights.index,weights.values)}\n",
        "weights"
      ]
    },
    {
      "cell_type": "markdown",
      "metadata": {
        "id": "u5jFiudD9wvo"
      },
      "source": [
        "Compilation of the model with the Adam optimizer, Means Square Error loss and metrics."
      ]
    },
    {
      "cell_type": "code",
      "execution_count": 26,
      "metadata": {
        "id": "AIZ1NaMd9wvp"
      },
      "outputs": [],
      "source": [
        "optimizer= tf.keras.optimizers.Adam()\n",
        "\n",
        "model.compile(optimizer=optimizer,\n",
        "              loss=tf.keras.losses.BinaryCrossentropy(),\n",
        "              metrics=[tf.keras.metrics.BinaryAccuracy(), tf.keras.metrics.F1Score(threshold=0.5)])\n"
      ]
    },
    {
      "cell_type": "markdown",
      "metadata": {
        "id": "WpYu9i2z9wvp"
      },
      "source": [
        "Train of the model on 100 epochs."
      ]
    },
    {
      "cell_type": "code",
      "execution_count": 27,
      "metadata": {
        "colab": {
          "base_uri": "https://localhost:8080/"
        },
        "id": "2DdxqKFm9wvq",
        "outputId": "49413776-8b49-48d3-949b-afa3a12a0bd8"
      },
      "outputs": [
        {
          "name": "stdout",
          "output_type": "stream",
          "text": [
            "Epoch 1/100\n",
            "61/61 [==============================] - 2s 12ms/step - loss: 0.2769 - binary_accuracy: 0.8677 - f1_score: 0.0480 - val_loss: 0.6787 - val_binary_accuracy: 0.8654 - val_f1_score: 0.0000e+00\n",
            "Epoch 2/100\n",
            "61/61 [==============================] - 1s 9ms/step - loss: 0.2751 - binary_accuracy: 0.8651 - f1_score: 0.0000e+00 - val_loss: 0.6620 - val_binary_accuracy: 0.8642 - val_f1_score: 0.0000e+00\n",
            "Epoch 3/100\n",
            "61/61 [==============================] - 1s 9ms/step - loss: 0.2711 - binary_accuracy: 0.9013 - f1_score: 0.4776 - val_loss: 0.6527 - val_binary_accuracy: 0.9199 - val_f1_score: 0.6298\n",
            "Epoch 4/100\n",
            "61/61 [==============================] - 1s 8ms/step - loss: 0.2630 - binary_accuracy: 0.9118 - f1_score: 0.5668 - val_loss: 0.6110 - val_binary_accuracy: 0.9336 - val_f1_score: 0.7132\n",
            "Epoch 5/100\n",
            "61/61 [==============================] - 0s 5ms/step - loss: 0.2480 - binary_accuracy: 0.9423 - f1_score: 0.7668 - val_loss: 0.5387 - val_binary_accuracy: 0.9378 - val_f1_score: 0.7360\n",
            "Epoch 6/100\n",
            "61/61 [==============================] - 0s 4ms/step - loss: 0.2261 - binary_accuracy: 0.9474 - f1_score: 0.7944 - val_loss: 0.4707 - val_binary_accuracy: 0.9492 - val_f1_score: 0.8000\n",
            "Epoch 7/100\n",
            "61/61 [==============================] - 0s 4ms/step - loss: 0.1980 - binary_accuracy: 0.9462 - f1_score: 0.8080 - val_loss: 0.3834 - val_binary_accuracy: 0.9504 - val_f1_score: 0.8065\n",
            "Epoch 8/100\n",
            "61/61 [==============================] - 0s 5ms/step - loss: 0.1701 - binary_accuracy: 0.9472 - f1_score: 0.8100 - val_loss: 0.3511 - val_binary_accuracy: 0.9510 - val_f1_score: 0.8233\n",
            "Epoch 9/100\n",
            "61/61 [==============================] - 0s 4ms/step - loss: 0.1442 - binary_accuracy: 0.9428 - f1_score: 0.8028 - val_loss: 0.3179 - val_binary_accuracy: 0.9456 - val_f1_score: 0.8116\n",
            "Epoch 10/100\n",
            "61/61 [==============================] - 0s 5ms/step - loss: 0.1246 - binary_accuracy: 0.9444 - f1_score: 0.8091 - val_loss: 0.2976 - val_binary_accuracy: 0.9432 - val_f1_score: 0.8111\n",
            "Epoch 11/100\n",
            "61/61 [==============================] - 0s 5ms/step - loss: 0.1085 - binary_accuracy: 0.9469 - f1_score: 0.8202 - val_loss: 0.2904 - val_binary_accuracy: 0.9348 - val_f1_score: 0.7916\n",
            "Epoch 12/100\n",
            "61/61 [==============================] - 0s 5ms/step - loss: 0.0976 - binary_accuracy: 0.9464 - f1_score: 0.8197 - val_loss: 0.2089 - val_binary_accuracy: 0.9533 - val_f1_score: 0.8361\n",
            "Epoch 13/100\n",
            "61/61 [==============================] - 0s 5ms/step - loss: 0.0886 - binary_accuracy: 0.9487 - f1_score: 0.8273 - val_loss: 0.2061 - val_binary_accuracy: 0.9528 - val_f1_score: 0.8364\n",
            "Epoch 14/100\n",
            "61/61 [==============================] - 0s 5ms/step - loss: 0.0814 - binary_accuracy: 0.9490 - f1_score: 0.8283 - val_loss: 0.1854 - val_binary_accuracy: 0.9581 - val_f1_score: 0.8523\n",
            "Epoch 15/100\n",
            "61/61 [==============================] - 0s 5ms/step - loss: 0.0767 - binary_accuracy: 0.9551 - f1_score: 0.8461 - val_loss: 0.2018 - val_binary_accuracy: 0.9533 - val_f1_score: 0.8408\n",
            "Epoch 16/100\n",
            "61/61 [==============================] - 0s 4ms/step - loss: 0.0712 - binary_accuracy: 0.9585 - f1_score: 0.8574 - val_loss: 0.1541 - val_binary_accuracy: 0.9641 - val_f1_score: 0.8707\n",
            "Epoch 17/100\n",
            "61/61 [==============================] - 0s 4ms/step - loss: 0.0664 - binary_accuracy: 0.9610 - f1_score: 0.8650 - val_loss: 0.1646 - val_binary_accuracy: 0.9617 - val_f1_score: 0.8650\n",
            "Epoch 18/100\n",
            "61/61 [==============================] - 0s 5ms/step - loss: 0.0626 - binary_accuracy: 0.9621 - f1_score: 0.8679 - val_loss: 0.1401 - val_binary_accuracy: 0.9671 - val_f1_score: 0.8807\n",
            "Epoch 19/100\n",
            "61/61 [==============================] - 0s 5ms/step - loss: 0.0585 - binary_accuracy: 0.9638 - f1_score: 0.8731 - val_loss: 0.1209 - val_binary_accuracy: 0.9689 - val_f1_score: 0.8855\n",
            "Epoch 20/100\n",
            "61/61 [==============================] - 0s 4ms/step - loss: 0.0561 - binary_accuracy: 0.9672 - f1_score: 0.8845 - val_loss: 0.1464 - val_binary_accuracy: 0.9647 - val_f1_score: 0.8758\n",
            "Epoch 21/100\n",
            "61/61 [==============================] - 0s 5ms/step - loss: 0.0521 - binary_accuracy: 0.9715 - f1_score: 0.8981 - val_loss: 0.1326 - val_binary_accuracy: 0.9701 - val_f1_score: 0.8927\n",
            "Epoch 22/100\n",
            "61/61 [==============================] - 0s 5ms/step - loss: 0.0503 - binary_accuracy: 0.9705 - f1_score: 0.8952 - val_loss: 0.1206 - val_binary_accuracy: 0.9725 - val_f1_score: 0.9004\n",
            "Epoch 23/100\n",
            "61/61 [==============================] - 0s 5ms/step - loss: 0.0471 - binary_accuracy: 0.9731 - f1_score: 0.9039 - val_loss: 0.1191 - val_binary_accuracy: 0.9719 - val_f1_score: 0.8980\n",
            "Epoch 24/100\n",
            "61/61 [==============================] - 0s 4ms/step - loss: 0.0449 - binary_accuracy: 0.9767 - f1_score: 0.9160 - val_loss: 0.1026 - val_binary_accuracy: 0.9737 - val_f1_score: 0.9027\n",
            "Epoch 25/100\n",
            "61/61 [==============================] - 1s 8ms/step - loss: 0.0436 - binary_accuracy: 0.9769 - f1_score: 0.9167 - val_loss: 0.1124 - val_binary_accuracy: 0.9761 - val_f1_score: 0.9130\n",
            "Epoch 26/100\n",
            "61/61 [==============================] - 1s 9ms/step - loss: 0.0412 - binary_accuracy: 0.9777 - f1_score: 0.9197 - val_loss: 0.1211 - val_binary_accuracy: 0.9737 - val_f1_score: 0.9056\n",
            "Epoch 27/100\n",
            "61/61 [==============================] - 1s 8ms/step - loss: 0.0396 - binary_accuracy: 0.9797 - f1_score: 0.9264 - val_loss: 0.0942 - val_binary_accuracy: 0.9749 - val_f1_score: 0.9079\n",
            "Epoch 28/100\n",
            "61/61 [==============================] - 1s 9ms/step - loss: 0.0385 - binary_accuracy: 0.9792 - f1_score: 0.9245 - val_loss: 0.1019 - val_binary_accuracy: 0.9773 - val_f1_score: 0.9174\n",
            "Epoch 29/100\n",
            "61/61 [==============================] - 0s 7ms/step - loss: 0.0363 - binary_accuracy: 0.9808 - f1_score: 0.9302 - val_loss: 0.1089 - val_binary_accuracy: 0.9767 - val_f1_score: 0.9158\n",
            "Epoch 30/100\n",
            "61/61 [==============================] - 0s 5ms/step - loss: 0.0351 - binary_accuracy: 0.9813 - f1_score: 0.9318 - val_loss: 0.1117 - val_binary_accuracy: 0.9761 - val_f1_score: 0.9145\n",
            "Epoch 31/100\n",
            "61/61 [==============================] - 0s 4ms/step - loss: 0.0335 - binary_accuracy: 0.9831 - f1_score: 0.9382 - val_loss: 0.0787 - val_binary_accuracy: 0.9767 - val_f1_score: 0.9139\n",
            "Epoch 32/100\n",
            "61/61 [==============================] - 0s 5ms/step - loss: 0.0324 - binary_accuracy: 0.9826 - f1_score: 0.9366 - val_loss: 0.0820 - val_binary_accuracy: 0.9779 - val_f1_score: 0.9187\n",
            "Epoch 33/100\n",
            "61/61 [==============================] - 0s 4ms/step - loss: 0.0314 - binary_accuracy: 0.9844 - f1_score: 0.9427 - val_loss: 0.0852 - val_binary_accuracy: 0.9773 - val_f1_score: 0.9170\n",
            "Epoch 34/100\n",
            "61/61 [==============================] - 0s 4ms/step - loss: 0.0306 - binary_accuracy: 0.9844 - f1_score: 0.9427 - val_loss: 0.0916 - val_binary_accuracy: 0.9779 - val_f1_score: 0.9197\n",
            "Epoch 35/100\n",
            "61/61 [==============================] - 0s 4ms/step - loss: 0.0294 - binary_accuracy: 0.9856 - f1_score: 0.9474 - val_loss: 0.0856 - val_binary_accuracy: 0.9767 - val_f1_score: 0.9150\n",
            "Epoch 36/100\n",
            "61/61 [==============================] - 0s 5ms/step - loss: 0.0291 - binary_accuracy: 0.9831 - f1_score: 0.9384 - val_loss: 0.0987 - val_binary_accuracy: 0.9761 - val_f1_score: 0.9142\n",
            "Epoch 37/100\n",
            "61/61 [==============================] - 0s 5ms/step - loss: 0.0274 - binary_accuracy: 0.9869 - f1_score: 0.9518 - val_loss: 0.0810 - val_binary_accuracy: 0.9785 - val_f1_score: 0.9211\n",
            "Epoch 38/100\n",
            "61/61 [==============================] - 0s 4ms/step - loss: 0.0271 - binary_accuracy: 0.9869 - f1_score: 0.9519 - val_loss: 0.0746 - val_binary_accuracy: 0.9785 - val_f1_score: 0.9211\n",
            "Epoch 39/100\n",
            "61/61 [==============================] - 0s 6ms/step - loss: 0.0262 - binary_accuracy: 0.9869 - f1_score: 0.9520 - val_loss: 0.0648 - val_binary_accuracy: 0.9791 - val_f1_score: 0.9224\n",
            "Epoch 40/100\n",
            "61/61 [==============================] - 0s 5ms/step - loss: 0.0249 - binary_accuracy: 0.9882 - f1_score: 0.9564 - val_loss: 0.0710 - val_binary_accuracy: 0.9785 - val_f1_score: 0.9211\n",
            "Epoch 41/100\n",
            "61/61 [==============================] - 0s 4ms/step - loss: 0.0249 - binary_accuracy: 0.9882 - f1_score: 0.9565 - val_loss: 0.0862 - val_binary_accuracy: 0.9755 - val_f1_score: 0.9118\n",
            "Epoch 42/100\n",
            "61/61 [==============================] - 0s 5ms/step - loss: 0.0237 - binary_accuracy: 0.9885 - f1_score: 0.9575 - val_loss: 0.0720 - val_binary_accuracy: 0.9791 - val_f1_score: 0.9237\n",
            "Epoch 43/100\n",
            "61/61 [==============================] - 0s 4ms/step - loss: 0.0231 - binary_accuracy: 0.9887 - f1_score: 0.9584 - val_loss: 0.0749 - val_binary_accuracy: 0.9773 - val_f1_score: 0.9177\n",
            "Epoch 44/100\n",
            "61/61 [==============================] - 0s 4ms/step - loss: 0.0228 - binary_accuracy: 0.9885 - f1_score: 0.9575 - val_loss: 0.0635 - val_binary_accuracy: 0.9809 - val_f1_score: 0.9292\n",
            "Epoch 45/100\n",
            "61/61 [==============================] - 0s 4ms/step - loss: 0.0226 - binary_accuracy: 0.9897 - f1_score: 0.9623 - val_loss: 0.0594 - val_binary_accuracy: 0.9815 - val_f1_score: 0.9306\n",
            "Epoch 46/100\n",
            "61/61 [==============================] - 0s 5ms/step - loss: 0.0217 - binary_accuracy: 0.9895 - f1_score: 0.9612 - val_loss: 0.0615 - val_binary_accuracy: 0.9803 - val_f1_score: 0.9268\n",
            "Epoch 47/100\n",
            "61/61 [==============================] - 0s 5ms/step - loss: 0.0208 - binary_accuracy: 0.9897 - f1_score: 0.9622 - val_loss: 0.0653 - val_binary_accuracy: 0.9791 - val_f1_score: 0.9237\n",
            "Epoch 48/100\n",
            "61/61 [==============================] - 0s 5ms/step - loss: 0.0205 - binary_accuracy: 0.9903 - f1_score: 0.9642 - val_loss: 0.0556 - val_binary_accuracy: 0.9815 - val_f1_score: 0.9300\n",
            "Epoch 49/100\n",
            "61/61 [==============================] - 0s 5ms/step - loss: 0.0199 - binary_accuracy: 0.9910 - f1_score: 0.9669 - val_loss: 0.0754 - val_binary_accuracy: 0.9773 - val_f1_score: 0.9177\n",
            "Epoch 50/100\n",
            "61/61 [==============================] - 0s 5ms/step - loss: 0.0193 - binary_accuracy: 0.9908 - f1_score: 0.9661 - val_loss: 0.0621 - val_binary_accuracy: 0.9803 - val_f1_score: 0.9278\n",
            "Epoch 51/100\n",
            "61/61 [==============================] - 0s 5ms/step - loss: 0.0191 - binary_accuracy: 0.9913 - f1_score: 0.9679 - val_loss: 0.0775 - val_binary_accuracy: 0.9773 - val_f1_score: 0.9185\n",
            "Epoch 52/100\n",
            "61/61 [==============================] - 0s 5ms/step - loss: 0.0182 - binary_accuracy: 0.9918 - f1_score: 0.9699 - val_loss: 0.0606 - val_binary_accuracy: 0.9797 - val_f1_score: 0.9254\n",
            "Epoch 53/100\n",
            "61/61 [==============================] - 0s 5ms/step - loss: 0.0177 - binary_accuracy: 0.9921 - f1_score: 0.9707 - val_loss: 0.0587 - val_binary_accuracy: 0.9803 - val_f1_score: 0.9275\n",
            "Epoch 54/100\n",
            "61/61 [==============================] - 0s 5ms/step - loss: 0.0179 - binary_accuracy: 0.9918 - f1_score: 0.9697 - val_loss: 0.0630 - val_binary_accuracy: 0.9779 - val_f1_score: 0.9194\n",
            "Epoch 55/100\n",
            "61/61 [==============================] - 1s 9ms/step - loss: 0.0171 - binary_accuracy: 0.9926 - f1_score: 0.9726 - val_loss: 0.0612 - val_binary_accuracy: 0.9797 - val_f1_score: 0.9254\n",
            "Epoch 56/100\n",
            "61/61 [==============================] - 1s 9ms/step - loss: 0.0166 - binary_accuracy: 0.9915 - f1_score: 0.9688 - val_loss: 0.0625 - val_binary_accuracy: 0.9791 - val_f1_score: 0.9234\n",
            "Epoch 57/100\n",
            "61/61 [==============================] - 1s 9ms/step - loss: 0.0169 - binary_accuracy: 0.9915 - f1_score: 0.9688 - val_loss: 0.0713 - val_binary_accuracy: 0.9779 - val_f1_score: 0.9204\n",
            "Epoch 58/100\n",
            "61/61 [==============================] - 1s 8ms/step - loss: 0.0160 - binary_accuracy: 0.9928 - f1_score: 0.9735 - val_loss: 0.0691 - val_binary_accuracy: 0.9785 - val_f1_score: 0.9224\n",
            "Epoch 59/100\n",
            "61/61 [==============================] - 0s 5ms/step - loss: 0.0160 - binary_accuracy: 0.9928 - f1_score: 0.9735 - val_loss: 0.0680 - val_binary_accuracy: 0.9785 - val_f1_score: 0.9224\n",
            "Epoch 60/100\n",
            "61/61 [==============================] - 0s 4ms/step - loss: 0.0149 - binary_accuracy: 0.9933 - f1_score: 0.9753 - val_loss: 0.0853 - val_binary_accuracy: 0.9755 - val_f1_score: 0.9133\n",
            "Epoch 61/100\n",
            "61/61 [==============================] - 0s 5ms/step - loss: 0.0155 - binary_accuracy: 0.9926 - f1_score: 0.9726 - val_loss: 0.0639 - val_binary_accuracy: 0.9785 - val_f1_score: 0.9217\n",
            "Epoch 62/100\n",
            "61/61 [==============================] - 0s 5ms/step - loss: 0.0150 - binary_accuracy: 0.9936 - f1_score: 0.9763 - val_loss: 0.0761 - val_binary_accuracy: 0.9767 - val_f1_score: 0.9172\n",
            "Epoch 63/100\n",
            "61/61 [==============================] - 0s 5ms/step - loss: 0.0143 - binary_accuracy: 0.9938 - f1_score: 0.9773 - val_loss: 0.0720 - val_binary_accuracy: 0.9767 - val_f1_score: 0.9168\n",
            "Epoch 64/100\n",
            "61/61 [==============================] - 0s 5ms/step - loss: 0.0140 - binary_accuracy: 0.9936 - f1_score: 0.9763 - val_loss: 0.0613 - val_binary_accuracy: 0.9797 - val_f1_score: 0.9254\n",
            "Epoch 65/100\n",
            "61/61 [==============================] - 0s 5ms/step - loss: 0.0137 - binary_accuracy: 0.9949 - f1_score: 0.9811 - val_loss: 0.0692 - val_binary_accuracy: 0.9773 - val_f1_score: 0.9185\n",
            "Epoch 66/100\n",
            "61/61 [==============================] - 0s 4ms/step - loss: 0.0135 - binary_accuracy: 0.9938 - f1_score: 0.9773 - val_loss: 0.0651 - val_binary_accuracy: 0.9791 - val_f1_score: 0.9241\n",
            "Epoch 67/100\n",
            "61/61 [==============================] - 0s 4ms/step - loss: 0.0133 - binary_accuracy: 0.9936 - f1_score: 0.9764 - val_loss: 0.0546 - val_binary_accuracy: 0.9803 - val_f1_score: 0.9265\n",
            "Epoch 68/100\n",
            "61/61 [==============================] - 0s 4ms/step - loss: 0.0129 - binary_accuracy: 0.9946 - f1_score: 0.9801 - val_loss: 0.0706 - val_binary_accuracy: 0.9767 - val_f1_score: 0.9165\n",
            "Epoch 69/100\n",
            "61/61 [==============================] - 0s 5ms/step - loss: 0.0128 - binary_accuracy: 0.9941 - f1_score: 0.9782 - val_loss: 0.0750 - val_binary_accuracy: 0.9767 - val_f1_score: 0.9168\n",
            "Epoch 70/100\n",
            "61/61 [==============================] - 0s 5ms/step - loss: 0.0128 - binary_accuracy: 0.9938 - f1_score: 0.9773 - val_loss: 0.0650 - val_binary_accuracy: 0.9785 - val_f1_score: 0.9221\n",
            "Epoch 71/100\n",
            "61/61 [==============================] - 0s 5ms/step - loss: 0.0124 - binary_accuracy: 0.9946 - f1_score: 0.9802 - val_loss: 0.0543 - val_binary_accuracy: 0.9797 - val_f1_score: 0.9238\n",
            "Epoch 72/100\n",
            "61/61 [==============================] - 0s 4ms/step - loss: 0.0119 - binary_accuracy: 0.9941 - f1_score: 0.9782 - val_loss: 0.0601 - val_binary_accuracy: 0.9791 - val_f1_score: 0.9234\n",
            "Epoch 73/100\n",
            "61/61 [==============================] - 0s 5ms/step - loss: 0.0120 - binary_accuracy: 0.9949 - f1_score: 0.9810 - val_loss: 0.0650 - val_binary_accuracy: 0.9779 - val_f1_score: 0.9201\n",
            "Epoch 74/100\n",
            "61/61 [==============================] - 0s 5ms/step - loss: 0.0116 - binary_accuracy: 0.9946 - f1_score: 0.9801 - val_loss: 0.0668 - val_binary_accuracy: 0.9767 - val_f1_score: 0.9161\n",
            "Epoch 75/100\n",
            "61/61 [==============================] - 0s 5ms/step - loss: 0.0117 - binary_accuracy: 0.9936 - f1_score: 0.9764 - val_loss: 0.0532 - val_binary_accuracy: 0.9791 - val_f1_score: 0.9210\n",
            "Epoch 76/100\n",
            "61/61 [==============================] - 0s 4ms/step - loss: 0.0122 - binary_accuracy: 0.9946 - f1_score: 0.9801 - val_loss: 0.0571 - val_binary_accuracy: 0.9803 - val_f1_score: 0.9272\n",
            "Epoch 77/100\n",
            "61/61 [==============================] - 0s 4ms/step - loss: 0.0110 - binary_accuracy: 0.9956 - f1_score: 0.9839 - val_loss: 0.0645 - val_binary_accuracy: 0.9773 - val_f1_score: 0.9177\n",
            "Epoch 78/100\n",
            "61/61 [==============================] - 0s 5ms/step - loss: 0.0108 - binary_accuracy: 0.9951 - f1_score: 0.9820 - val_loss: 0.0566 - val_binary_accuracy: 0.9779 - val_f1_score: 0.9176\n",
            "Epoch 79/100\n",
            "61/61 [==============================] - 0s 4ms/step - loss: 0.0109 - binary_accuracy: 0.9954 - f1_score: 0.9829 - val_loss: 0.0550 - val_binary_accuracy: 0.9791 - val_f1_score: 0.9217\n",
            "Epoch 80/100\n",
            "61/61 [==============================] - 0s 4ms/step - loss: 0.0109 - binary_accuracy: 0.9956 - f1_score: 0.9838 - val_loss: 0.0627 - val_binary_accuracy: 0.9797 - val_f1_score: 0.9258\n",
            "Epoch 81/100\n",
            "61/61 [==============================] - 0s 5ms/step - loss: 0.0103 - binary_accuracy: 0.9962 - f1_score: 0.9858 - val_loss: 0.0586 - val_binary_accuracy: 0.9773 - val_f1_score: 0.9159\n",
            "Epoch 82/100\n",
            "61/61 [==============================] - 0s 5ms/step - loss: 0.0109 - binary_accuracy: 0.9956 - f1_score: 0.9839 - val_loss: 0.0554 - val_binary_accuracy: 0.9791 - val_f1_score: 0.9217\n",
            "Epoch 83/100\n",
            "61/61 [==============================] - 0s 8ms/step - loss: 0.0102 - binary_accuracy: 0.9956 - f1_score: 0.9839 - val_loss: 0.0658 - val_binary_accuracy: 0.9773 - val_f1_score: 0.9177\n",
            "Epoch 84/100\n",
            "61/61 [==============================] - 1s 8ms/step - loss: 0.0097 - binary_accuracy: 0.9959 - f1_score: 0.9848 - val_loss: 0.0606 - val_binary_accuracy: 0.9785 - val_f1_score: 0.9207\n",
            "Epoch 85/100\n",
            "61/61 [==============================] - 1s 9ms/step - loss: 0.0097 - binary_accuracy: 0.9956 - f1_score: 0.9839 - val_loss: 0.0593 - val_binary_accuracy: 0.9779 - val_f1_score: 0.9183\n",
            "Epoch 86/100\n",
            "61/61 [==============================] - 1s 9ms/step - loss: 0.0095 - binary_accuracy: 0.9959 - f1_score: 0.9848 - val_loss: 0.0550 - val_binary_accuracy: 0.9791 - val_f1_score: 0.9210\n",
            "Epoch 87/100\n",
            "61/61 [==============================] - 0s 5ms/step - loss: 0.0097 - binary_accuracy: 0.9964 - f1_score: 0.9867 - val_loss: 0.0669 - val_binary_accuracy: 0.9779 - val_f1_score: 0.9201\n",
            "Epoch 88/100\n",
            "61/61 [==============================] - 0s 5ms/step - loss: 0.0095 - binary_accuracy: 0.9959 - f1_score: 0.9848 - val_loss: 0.0719 - val_binary_accuracy: 0.9749 - val_f1_score: 0.9103\n",
            "Epoch 89/100\n",
            "61/61 [==============================] - 0s 5ms/step - loss: 0.0093 - binary_accuracy: 0.9956 - f1_score: 0.9839 - val_loss: 0.0592 - val_binary_accuracy: 0.9773 - val_f1_score: 0.9159\n",
            "Epoch 90/100\n",
            "61/61 [==============================] - 0s 5ms/step - loss: 0.0096 - binary_accuracy: 0.9964 - f1_score: 0.9867 - val_loss: 0.0591 - val_binary_accuracy: 0.9773 - val_f1_score: 0.9159\n",
            "Epoch 91/100\n",
            "61/61 [==============================] - 0s 5ms/step - loss: 0.0094 - binary_accuracy: 0.9962 - f1_score: 0.9857 - val_loss: 0.0786 - val_binary_accuracy: 0.9755 - val_f1_score: 0.9133\n",
            "Epoch 92/100\n",
            "61/61 [==============================] - 0s 5ms/step - loss: 0.0091 - binary_accuracy: 0.9956 - f1_score: 0.9839 - val_loss: 0.0629 - val_binary_accuracy: 0.9773 - val_f1_score: 0.9163\n",
            "Epoch 93/100\n",
            "61/61 [==============================] - 0s 5ms/step - loss: 0.0087 - binary_accuracy: 0.9969 - f1_score: 0.9886 - val_loss: 0.0558 - val_binary_accuracy: 0.9791 - val_f1_score: 0.9206\n",
            "Epoch 94/100\n",
            "61/61 [==============================] - 0s 5ms/step - loss: 0.0088 - binary_accuracy: 0.9964 - f1_score: 0.9867 - val_loss: 0.0672 - val_binary_accuracy: 0.9749 - val_f1_score: 0.9091\n",
            "Epoch 95/100\n",
            "61/61 [==============================] - 0s 5ms/step - loss: 0.0086 - binary_accuracy: 0.9972 - f1_score: 0.9895 - val_loss: 0.0616 - val_binary_accuracy: 0.9773 - val_f1_score: 0.9159\n",
            "Epoch 96/100\n",
            "61/61 [==============================] - 0s 4ms/step - loss: 0.0087 - binary_accuracy: 0.9967 - f1_score: 0.9876 - val_loss: 0.0628 - val_binary_accuracy: 0.9773 - val_f1_score: 0.9163\n",
            "Epoch 97/100\n",
            "61/61 [==============================] - 0s 5ms/step - loss: 0.0087 - binary_accuracy: 0.9969 - f1_score: 0.9886 - val_loss: 0.0641 - val_binary_accuracy: 0.9767 - val_f1_score: 0.9143\n",
            "Epoch 98/100\n",
            "61/61 [==============================] - 0s 5ms/step - loss: 0.0084 - binary_accuracy: 0.9962 - f1_score: 0.9857 - val_loss: 0.0707 - val_binary_accuracy: 0.9749 - val_f1_score: 0.9095\n",
            "Epoch 99/100\n",
            "61/61 [==============================] - 0s 5ms/step - loss: 0.0085 - binary_accuracy: 0.9962 - f1_score: 0.9858 - val_loss: 0.0602 - val_binary_accuracy: 0.9773 - val_f1_score: 0.9159\n",
            "Epoch 100/100\n",
            "61/61 [==============================] - 0s 5ms/step - loss: 0.0081 - binary_accuracy: 0.9974 - f1_score: 0.9905 - val_loss: 0.0588 - val_binary_accuracy: 0.9785 - val_f1_score: 0.9196\n"
          ]
        }
      ],
      "source": [
        "basic_model = model.fit(train_batch,\n",
        "                    epochs=100,\n",
        "                    validation_data=val_batch,\n",
        "                    class_weight=weights)\n"
      ]
    },
    {
      "cell_type": "markdown",
      "metadata": {
        "id": "y-CtJlH39wvq"
      },
      "source": [
        "### Evaluation of the first model"
      ]
    },
    {
      "cell_type": "code",
      "execution_count": 28,
      "metadata": {
        "colab": {
          "base_uri": "https://localhost:8080/",
          "height": 507
        },
        "id": "lYD3lddA9wvt",
        "outputId": "e5e63f60-5188-40a6-9327-6e92061a1e91"
      },
      "outputs": [
        {
          "data": {
            "image/png": "[encoded data removed]",
            "text/plain": [
              "<Figure size 1600x500 with 3 Axes>"
            ]
          },
          "metadata": {},
          "output_type": "display_data"
        }
      ],
      "source": [
        "import matplotlib.pyplot as plt\n",
        "\n",
        "# Create a figure with 2 rows and 2 columns (4 subplots)\n",
        "fig, axes = plt.subplots(1, 3, figsize=(16, 5))\n",
        "\n",
        "# Plot Loss\n",
        "axes[0].plot(basic_model.history[\"loss\"], color=\"b\", label=\"Train Loss\")\n",
        "axes[0].plot(basic_model.history[\"val_loss\"], color=\"r\", label=\"Validation Loss\")\n",
        "axes[0].set_title(\"Loss\")\n",
        "axes[0].set_xlabel(\"Epochs\")\n",
        "axes[0].set_ylabel(\"Loss\")\n",
        "axes[0].legend()\n",
        "\n",
        "# Plot Binary accuracy\n",
        "axes[1].plot(basic_model.history[\"binary_accuracy\"], color=\"b\", label=\"Train Binary Accuracy\")\n",
        "axes[1].plot(basic_model.history[\"val_binary_accuracy\"], color=\"r\", label=\"Validation Binary Accuracy\")\n",
        "axes[1].set_title(\"Binary Accuracy\")\n",
        "axes[1].set_xlabel(\"Epochs\")\n",
        "axes[1].set_ylabel(\"Binary Accuracy\")\n",
        "axes[1].legend()\n",
        "\n",
        "# Plot f1-score\n",
        "axes[2].plot(basic_model.history[\"f1_score\"], color=\"b\", label=\"Train F1-Score\")\n",
        "axes[2].plot(basic_model.history[\"val_f1_score\"], color=\"r\", label=\"Validation F1-Score\")\n",
        "axes[2].set_title(\"F1-Score\")\n",
        "axes[2].set_xlabel(\"Epochs\")\n",
        "axes[2].set_ylabel(\"F1-Score\")\n",
        "axes[2].legend()\n",
        "\n",
        "# Adjust layout for better visualization\n",
        "plt.tight_layout()\n",
        "plt.show()\n"
      ]
    },
    {
      "cell_type": "code",
      "execution_count": 29,
      "metadata": {
        "colab": {
          "base_uri": "https://localhost:8080/"
        },
        "id": "s5VFr4em1eOU",
        "outputId": "b946cf90-080e-45dd-dbee-bacd2bc3e73e"
      },
      "outputs": [
        {
          "name": "stdout",
          "output_type": "stream",
          "text": [
            "61/61 [==============================] - 0s 2ms/step\n",
            "27/27 [==============================] - 0s 2ms/step\n"
          ]
        }
      ],
      "source": [
        "ypred_train = (model.predict(train.batch(64)) > 0.5).astype(\"int32\")\n",
        "ypred_val = (model.predict(val.batch(64)) > 0.5).astype(\"int32\")"
      ]
    },
    {
      "cell_type": "code",
      "execution_count": 30,
      "metadata": {
        "colab": {
          "base_uri": "https://localhost:8080/",
          "height": 472
        },
        "id": "QlF4qkEJwl53",
        "outputId": "4795eeab-e4c1-4b92-f060-2c05c3cca4df"
      },
      "outputs": [
        {
          "data": {
            "image/png": "[encoded data removed]",
            "text/plain": [
              "<Figure size 640x480 with 2 Axes>"
            ]
          },
          "metadata": {},
          "output_type": "display_data"
        }
      ],
      "source": [
        "from sklearn.metrics import confusion_matrix\n",
        "import seaborn as sns\n",
        "\n",
        "mtx = confusion_matrix(ytrain, ypred_train)\n",
        "sns.heatmap(mtx, annot=True, fmt='d', linewidths=.8)\n",
        "plt.ylabel('True label')\n",
        "plt.xlabel('Predicted label')\n",
        "plt.title('Result on Train set')\n",
        "plt.show()\n"
      ]
    },
    {
      "cell_type": "code",
      "execution_count": 31,
      "metadata": {
        "colab": {
          "base_uri": "https://localhost:8080/",
          "height": 472
        },
        "id": "vbj7fFbbwx0p",
        "outputId": "88c0314b-99b1-4ae3-f6df-6ca1611ae111"
      },
      "outputs": [
        {
          "data": {
            "image/png": "[encoded data removed]",
            "text/plain": [
              "<Figure size 640x480 with 2 Axes>"
            ]
          },
          "metadata": {},
          "output_type": "display_data"
        }
      ],
      "source": [
        "mtx = confusion_matrix(yval, ypred_val)\n",
        "sns.heatmap(mtx, annot=True, fmt='d', linewidths=.8)\n",
        "plt.ylabel('True label')\n",
        "plt.xlabel('Predicted label')\n",
        "plt.title('Result on Validation set')\n",
        "plt.show()"
      ]
    },
    {
      "cell_type": "code",
      "execution_count": 32,
      "metadata": {
        "colab": {
          "base_uri": "https://localhost:8080/"
        },
        "id": "59cm_HKxuzR0",
        "outputId": "132401cb-e417-4d28-b9aa-588d54a41b13"
      },
      "outputs": [
        {
          "name": "stdout",
          "output_type": "stream",
          "text": [
            "27/27 [==============================] - 0s 2ms/step - loss: 0.0588 - binary_accuracy: 0.9785 - f1_score: 0.9196\n"
          ]
        }
      ],
      "source": [
        "loss_basic, accuracy_basic, f1_score_basic = model.evaluate(val_batch)"
      ]
    },
    {
      "cell_type": "markdown",
      "metadata": {
        "id": "1RgFT6TS9wvu"
      },
      "source": [
        "# 3) Transfer learning : More complex model"
      ]
    },
    {
      "cell_type": "code",
      "execution_count": 33,
      "metadata": {
        "id": "30VxFNimL0UE"
      },
      "outputs": [],
      "source": [
        "X_train, X_val, y_train, y_val = train_test_split(spam.message_clean,spam.encoded_label, stratify=spam.encoded_label, test_size=0.3)\n",
        "\n",
        "train = tf.data.Dataset.from_tensor_slices((X_train, y_train)).prefetch(tf.data.AUTOTUNE)\n",
        "val = tf.data.Dataset.from_tensor_slices((X_val, y_val)).prefetch(tf.data.AUTOTUNE)\n",
        "\n",
        "train_batch = train.shuffle(len(train)).batch(64)\n",
        "val_batch = val.shuffle(len(val)).batch(64)"
      ]
    },
    {
      "cell_type": "code",
      "execution_count": 34,
      "metadata": {
        "id": "voQhK_c3L0Qh"
      },
      "outputs": [],
      "source": [
        "import tensorflow_hub as hub\n",
        "import tensorflow_text\n",
        "\n",
        "text_input = tf.keras.layers.Input(shape=(), dtype=tf.string)\n",
        "preprocessor = hub.KerasLayer(\n",
        "    \"https://kaggle.com/models/tensorflow/bert/frameworks/TensorFlow2/variations/en-uncased-preprocess/versions/3\")\n",
        "encoder_inputs = preprocessor(text_input)\n",
        "encoder = hub.KerasLayer(\n",
        "    \"https://www.kaggle.com/models/tensorflow/bert/frameworks/TensorFlow2/variations/bert-en-uncased-l-2-h-128-a-2/versions/2\",\n",
        "    trainable=False)\n",
        "outputs = encoder(encoder_inputs)\n",
        "pooled_output = outputs[\"pooled_output\"]      # [batch_size, 768]\n",
        "sequence_output = outputs[\"sequence_output\"]  # [batch_size, seq_length, 768]\n",
        "\n",
        "out = tf.keras.layers.Dropout(0.2,name='dropout')(pooled_output)\n",
        "out = tf.keras.layers.Dense(16,activation='relu')(out)\n",
        "out = tf.keras.layers.Dense(1,activation='sigmoid',name='output')(out)\n",
        "\n",
        "bert_model=tf.keras.Model(inputs=[text_input],outputs=[out])\n",
        "\n",
        "optimizer= tf.keras.optimizers.Adam()\n",
        "\n",
        "bert_model.compile(optimizer=optimizer,\n",
        "              loss=tf.keras.losses.BinaryCrossentropy(from_logits=True),\n",
        "              metrics=[tf.keras.metrics.BinaryAccuracy(), tf.keras.metrics.F1Score(threshold=0.5)])\n",
        "\n"
      ]
    },
    {
      "cell_type": "code",
      "execution_count": 35,
      "metadata": {
        "colab": {
          "base_uri": "https://localhost:8080/"
        },
        "id": "H_wdPU4hMuRV",
        "outputId": "e32b0862-3925-42f3-b830-a84b19c4d69c"
      },
      "outputs": [
        {
          "name": "stdout",
          "output_type": "stream",
          "text": [
            "Model: \"model\"\n",
            "__________________________________________________________________________________________________\n",
            " Layer (type)                Output Shape                 Param #   Connected to                  \n",
            "==================================================================================================\n",
            " input_1 (InputLayer)        [(None,)]                    0         []                            \n",
            "                                                                                                  \n",
            " keras_layer (KerasLayer)    {'input_type_ids': (None,    0         ['input_1[0][0]']             \n",
            "                             128),                                                                \n",
            "                              'input_mask': (None, 128)                                           \n",
            "                             , 'input_word_ids': (None,                                           \n",
            "                              128)}                                                               \n",
            "                                                                                                  \n",
            " keras_layer_1 (KerasLayer)  {'pooled_output': (None, 1   4385921   ['keras_layer[0][0]',         \n",
            "                             28),                                    'keras_layer[0][1]',         \n",
            "                              'sequence_output': (None,              'keras_layer[0][2]']         \n",
            "                              128, 128),                                                          \n",
            "                              'encoder_outputs': [(None                                           \n",
            "                             , 128, 128),                                                         \n",
            "                              (None, 128, 128)],                                                  \n",
            "                              'default': (None, 128)}                                             \n",
            "                                                                                                  \n",
            " dropout (Dropout)           (None, 128)                  0         ['keras_layer_1[0][3]']       \n",
            "                                                                                                  \n",
            " dense_2 (Dense)             (None, 16)                   2064      ['dropout[0][0]']             \n",
            "                                                                                                  \n",
            " output (Dense)              (None, 1)                    17        ['dense_2[0][0]']             \n",
            "                                                                                                  \n",
            "==================================================================================================\n",
            "Total params: 4388002 (16.74 MB)\n",
            "Trainable params: 2081 (8.13 KB)\n",
            "Non-trainable params: 4385921 (16.73 MB)\n",
            "__________________________________________________________________________________________________\n"
          ]
        }
      ],
      "source": [
        "bert_model.summary()"
      ]
    },
    {
      "cell_type": "code",
      "execution_count": 36,
      "metadata": {
        "colab": {
          "base_uri": "https://localhost:8080/"
        },
        "id": "Go1jKqK8Mr61",
        "outputId": "683a6be5-fe8c-4392-ac72-14a6a40e1e19"
      },
      "outputs": [
        {
          "name": "stdout",
          "output_type": "stream",
          "text": [
            "Epoch 1/100\n"
          ]
        },
        {
          "name": "stderr",
          "output_type": "stream",
          "text": [
            "/usr/local/lib/python3.11/dist-packages/keras/src/backend.py:5818: UserWarning: \"`binary_crossentropy` received `from_logits=True`, but the `output` argument was produced by a Sigmoid activation and thus does not represent logits. Was this intended?\n",
            "  output, from_logits = _get_logits(\n"
          ]
        },
        {
          "name": "stdout",
          "output_type": "stream",
          "text": [
            "61/61 [==============================] - 33s 462ms/step - loss: 0.2628 - binary_accuracy: 0.8949 - f1_score: 0.4368 - val_loss: 0.1748 - val_binary_accuracy: 0.9396 - val_f1_score: 0.7518\n",
            "Epoch 2/100\n",
            "61/61 [==============================] - 27s 450ms/step - loss: 0.1738 - binary_accuracy: 0.9336 - f1_score: 0.7310 - val_loss: 0.1498 - val_binary_accuracy: 0.9462 - val_f1_score: 0.8052\n",
            "Epoch 3/100\n",
            "61/61 [==============================] - 28s 451ms/step - loss: 0.1451 - binary_accuracy: 0.9451 - f1_score: 0.7864 - val_loss: 0.1358 - val_binary_accuracy: 0.9551 - val_f1_score: 0.8252\n",
            "Epoch 4/100\n",
            "61/61 [==============================] - 27s 446ms/step - loss: 0.1414 - binary_accuracy: 0.9444 - f1_score: 0.7836 - val_loss: 0.1281 - val_binary_accuracy: 0.9581 - val_f1_score: 0.8333\n",
            "Epoch 5/100\n",
            "61/61 [==============================] - 26s 436ms/step - loss: 0.1300 - binary_accuracy: 0.9513 - f1_score: 0.8123 - val_loss: 0.1221 - val_binary_accuracy: 0.9617 - val_f1_score: 0.8559\n",
            "Epoch 6/100\n",
            "61/61 [==============================] - 30s 490ms/step - loss: 0.1256 - binary_accuracy: 0.9551 - f1_score: 0.8276 - val_loss: 0.1176 - val_binary_accuracy: 0.9623 - val_f1_score: 0.8584\n",
            "Epoch 7/100\n",
            "61/61 [==============================] - 27s 440ms/step - loss: 0.1246 - binary_accuracy: 0.9536 - f1_score: 0.8195 - val_loss: 0.1153 - val_binary_accuracy: 0.9629 - val_f1_score: 0.8622\n",
            "Epoch 8/100\n",
            "61/61 [==============================] - 26s 429ms/step - loss: 0.1206 - binary_accuracy: 0.9541 - f1_score: 0.8236 - val_loss: 0.1123 - val_binary_accuracy: 0.9647 - val_f1_score: 0.8674\n",
            "Epoch 9/100\n",
            "61/61 [==============================] - 27s 440ms/step - loss: 0.1176 - binary_accuracy: 0.9559 - f1_score: 0.8283 - val_loss: 0.1107 - val_binary_accuracy: 0.9653 - val_f1_score: 0.8717\n",
            "Epoch 10/100\n",
            "61/61 [==============================] - 31s 492ms/step - loss: 0.1163 - binary_accuracy: 0.9574 - f1_score: 0.8356 - val_loss: 0.1132 - val_binary_accuracy: 0.9629 - val_f1_score: 0.8658\n",
            "Epoch 11/100\n",
            "61/61 [==============================] - 28s 453ms/step - loss: 0.1163 - binary_accuracy: 0.9592 - f1_score: 0.8433 - val_loss: 0.1062 - val_binary_accuracy: 0.9665 - val_f1_score: 0.8733\n",
            "Epoch 12/100\n",
            "61/61 [==============================] - 28s 460ms/step - loss: 0.1114 - binary_accuracy: 0.9615 - f1_score: 0.8509 - val_loss: 0.1047 - val_binary_accuracy: 0.9671 - val_f1_score: 0.8747\n",
            "Epoch 13/100\n",
            "61/61 [==============================] - 34s 560ms/step - loss: 0.1165 - binary_accuracy: 0.9585 - f1_score: 0.8393 - val_loss: 0.1052 - val_binary_accuracy: 0.9671 - val_f1_score: 0.8780\n",
            "Epoch 14/100\n",
            "61/61 [==============================] - 28s 466ms/step - loss: 0.1059 - binary_accuracy: 0.9610 - f1_score: 0.8513 - val_loss: 0.1027 - val_binary_accuracy: 0.9677 - val_f1_score: 0.8767\n",
            "Epoch 15/100\n",
            "61/61 [==============================] - 28s 457ms/step - loss: 0.1098 - binary_accuracy: 0.9603 - f1_score: 0.8482 - val_loss: 0.1081 - val_binary_accuracy: 0.9671 - val_f1_score: 0.8675\n",
            "Epoch 16/100\n",
            "61/61 [==============================] - 31s 506ms/step - loss: 0.1055 - binary_accuracy: 0.9641 - f1_score: 0.8625 - val_loss: 0.1064 - val_binary_accuracy: 0.9677 - val_f1_score: 0.8702\n",
            "Epoch 17/100\n",
            "61/61 [==============================] - 27s 445ms/step - loss: 0.1042 - binary_accuracy: 0.9659 - f1_score: 0.8684 - val_loss: 0.1026 - val_binary_accuracy: 0.9665 - val_f1_score: 0.8767\n",
            "Epoch 18/100\n",
            "61/61 [==============================] - 28s 459ms/step - loss: 0.1086 - binary_accuracy: 0.9618 - f1_score: 0.8535 - val_loss: 0.0995 - val_binary_accuracy: 0.9689 - val_f1_score: 0.8824\n",
            "Epoch 19/100\n",
            "61/61 [==============================] - 27s 451ms/step - loss: 0.1063 - binary_accuracy: 0.9636 - f1_score: 0.8613 - val_loss: 0.0998 - val_binary_accuracy: 0.9695 - val_f1_score: 0.8854\n",
            "Epoch 20/100\n",
            "61/61 [==============================] - 27s 452ms/step - loss: 0.1054 - binary_accuracy: 0.9590 - f1_score: 0.8416 - val_loss: 0.0977 - val_binary_accuracy: 0.9689 - val_f1_score: 0.8818\n",
            "Epoch 21/100\n",
            "61/61 [==============================] - 30s 501ms/step - loss: 0.0996 - binary_accuracy: 0.9638 - f1_score: 0.8597 - val_loss: 0.0970 - val_binary_accuracy: 0.9701 - val_f1_score: 0.8858\n",
            "Epoch 22/100\n",
            "61/61 [==============================] - 28s 468ms/step - loss: 0.1078 - binary_accuracy: 0.9621 - f1_score: 0.8558 - val_loss: 0.0970 - val_binary_accuracy: 0.9737 - val_f1_score: 0.8977\n",
            "Epoch 23/100\n",
            "61/61 [==============================] - 26s 437ms/step - loss: 0.1049 - binary_accuracy: 0.9618 - f1_score: 0.8523 - val_loss: 0.0973 - val_binary_accuracy: 0.9701 - val_f1_score: 0.8869\n",
            "Epoch 24/100\n",
            "61/61 [==============================] - 27s 439ms/step - loss: 0.0978 - binary_accuracy: 0.9659 - f1_score: 0.8677 - val_loss: 0.1027 - val_binary_accuracy: 0.9659 - val_f1_score: 0.8769\n",
            "Epoch 25/100\n",
            "61/61 [==============================] - 28s 458ms/step - loss: 0.1077 - binary_accuracy: 0.9600 - f1_score: 0.8462 - val_loss: 0.0949 - val_binary_accuracy: 0.9719 - val_f1_score: 0.8920\n",
            "Epoch 26/100\n",
            "61/61 [==============================] - 30s 492ms/step - loss: 0.1068 - binary_accuracy: 0.9605 - f1_score: 0.8484 - val_loss: 0.0948 - val_binary_accuracy: 0.9719 - val_f1_score: 0.8920\n",
            "Epoch 27/100\n",
            "61/61 [==============================] - 32s 534ms/step - loss: 0.0964 - binary_accuracy: 0.9651 - f1_score: 0.8664 - val_loss: 0.0965 - val_binary_accuracy: 0.9695 - val_f1_score: 0.8854\n",
            "Epoch 28/100\n",
            "61/61 [==============================] - 28s 469ms/step - loss: 0.0983 - binary_accuracy: 0.9654 - f1_score: 0.8675 - val_loss: 0.0949 - val_binary_accuracy: 0.9719 - val_f1_score: 0.8920\n",
            "Epoch 29/100\n",
            "61/61 [==============================] - 30s 487ms/step - loss: 0.0977 - binary_accuracy: 0.9654 - f1_score: 0.8680 - val_loss: 0.0936 - val_binary_accuracy: 0.9713 - val_f1_score: 0.8899\n",
            "Epoch 30/100\n",
            "61/61 [==============================] - 27s 447ms/step - loss: 0.1009 - binary_accuracy: 0.9659 - f1_score: 0.8687 - val_loss: 0.0942 - val_binary_accuracy: 0.9707 - val_f1_score: 0.8884\n",
            "Epoch 31/100\n",
            "61/61 [==============================] - 29s 481ms/step - loss: 0.0999 - binary_accuracy: 0.9646 - f1_score: 0.8642 - val_loss: 0.0934 - val_binary_accuracy: 0.9707 - val_f1_score: 0.8879\n",
            "Epoch 32/100\n",
            "61/61 [==============================] - 28s 456ms/step - loss: 0.1016 - binary_accuracy: 0.9641 - f1_score: 0.8608 - val_loss: 0.0952 - val_binary_accuracy: 0.9701 - val_f1_score: 0.8884\n",
            "Epoch 33/100\n",
            "61/61 [==============================] - 31s 511ms/step - loss: 0.1006 - binary_accuracy: 0.9649 - f1_score: 0.8661 - val_loss: 0.0939 - val_binary_accuracy: 0.9707 - val_f1_score: 0.8879\n",
            "Epoch 34/100\n",
            "61/61 [==============================] - 28s 466ms/step - loss: 0.1026 - binary_accuracy: 0.9636 - f1_score: 0.8600 - val_loss: 0.0946 - val_binary_accuracy: 0.9701 - val_f1_score: 0.8884\n",
            "Epoch 35/100\n",
            "61/61 [==============================] - 28s 461ms/step - loss: 0.0937 - binary_accuracy: 0.9626 - f1_score: 0.8554 - val_loss: 0.0938 - val_binary_accuracy: 0.9713 - val_f1_score: 0.8894\n",
            "Epoch 36/100\n",
            "61/61 [==============================] - 28s 465ms/step - loss: 0.0954 - binary_accuracy: 0.9638 - f1_score: 0.8603 - val_loss: 0.0933 - val_binary_accuracy: 0.9731 - val_f1_score: 0.8966\n",
            "Epoch 37/100\n",
            "61/61 [==============================] - 30s 499ms/step - loss: 0.0982 - binary_accuracy: 0.9633 - f1_score: 0.8594 - val_loss: 0.1104 - val_binary_accuracy: 0.9689 - val_f1_score: 0.8713\n",
            "Epoch 38/100\n",
            "61/61 [==============================] - 30s 488ms/step - loss: 0.0974 - binary_accuracy: 0.9649 - f1_score: 0.8642 - val_loss: 0.0929 - val_binary_accuracy: 0.9719 - val_f1_score: 0.8920\n",
            "Epoch 39/100\n",
            "61/61 [==============================] - 28s 461ms/step - loss: 0.0905 - binary_accuracy: 0.9697 - f1_score: 0.8848 - val_loss: 0.0924 - val_binary_accuracy: 0.9713 - val_f1_score: 0.8904\n",
            "Epoch 40/100\n",
            "61/61 [==============================] - 28s 465ms/step - loss: 0.0966 - binary_accuracy: 0.9626 - f1_score: 0.8557 - val_loss: 0.0957 - val_binary_accuracy: 0.9683 - val_f1_score: 0.8840\n",
            "Epoch 41/100\n",
            "61/61 [==============================] - 30s 493ms/step - loss: 0.0971 - binary_accuracy: 0.9659 - f1_score: 0.8679 - val_loss: 0.0919 - val_binary_accuracy: 0.9707 - val_f1_score: 0.8884\n",
            "Epoch 42/100\n",
            "61/61 [==============================] - 28s 456ms/step - loss: 0.0924 - binary_accuracy: 0.9654 - f1_score: 0.8675 - val_loss: 0.0952 - val_binary_accuracy: 0.9737 - val_f1_score: 0.8972\n",
            "Epoch 43/100\n",
            "61/61 [==============================] - 27s 445ms/step - loss: 0.0893 - binary_accuracy: 0.9687 - f1_score: 0.8797 - val_loss: 0.0918 - val_binary_accuracy: 0.9725 - val_f1_score: 0.8978\n",
            "Epoch 44/100\n",
            "61/61 [==============================] - 29s 486ms/step - loss: 0.0928 - binary_accuracy: 0.9649 - f1_score: 0.8663 - val_loss: 0.0974 - val_binary_accuracy: 0.9671 - val_f1_score: 0.8812\n",
            "Epoch 45/100\n",
            "61/61 [==============================] - 30s 491ms/step - loss: 0.0960 - binary_accuracy: 0.9654 - f1_score: 0.8680 - val_loss: 0.0890 - val_binary_accuracy: 0.9731 - val_f1_score: 0.8970\n",
            "Epoch 46/100\n",
            "61/61 [==============================] - 27s 445ms/step - loss: 0.0960 - binary_accuracy: 0.9636 - f1_score: 0.8597 - val_loss: 0.0918 - val_binary_accuracy: 0.9737 - val_f1_score: 0.8967\n",
            "Epoch 47/100\n",
            "61/61 [==============================] - 28s 461ms/step - loss: 0.0948 - binary_accuracy: 0.9646 - f1_score: 0.8628 - val_loss: 0.0888 - val_binary_accuracy: 0.9725 - val_f1_score: 0.8945\n",
            "Epoch 48/100\n",
            "61/61 [==============================] - 27s 451ms/step - loss: 0.0935 - binary_accuracy: 0.9656 - f1_score: 0.8673 - val_loss: 0.0914 - val_binary_accuracy: 0.9713 - val_f1_score: 0.8924\n",
            "Epoch 49/100\n",
            "61/61 [==============================] - 29s 469ms/step - loss: 0.0934 - binary_accuracy: 0.9651 - f1_score: 0.8651 - val_loss: 0.0912 - val_binary_accuracy: 0.9737 - val_f1_score: 0.8986\n",
            "Epoch 50/100\n",
            "61/61 [==============================] - 28s 459ms/step - loss: 0.0900 - binary_accuracy: 0.9695 - f1_score: 0.8839 - val_loss: 0.0911 - val_binary_accuracy: 0.9725 - val_f1_score: 0.8950\n",
            "Epoch 51/100\n",
            "61/61 [==============================] - 28s 466ms/step - loss: 0.0908 - binary_accuracy: 0.9679 - f1_score: 0.8778 - val_loss: 0.0912 - val_binary_accuracy: 0.9707 - val_f1_score: 0.8918\n",
            "Epoch 52/100\n",
            "61/61 [==============================] - 29s 477ms/step - loss: 0.0913 - binary_accuracy: 0.9690 - f1_score: 0.8815 - val_loss: 0.0886 - val_binary_accuracy: 0.9737 - val_f1_score: 0.8995\n",
            "Epoch 53/100\n",
            "61/61 [==============================] - 29s 475ms/step - loss: 0.0866 - binary_accuracy: 0.9713 - f1_score: 0.8898 - val_loss: 0.0894 - val_binary_accuracy: 0.9713 - val_f1_score: 0.8938\n",
            "Epoch 54/100\n",
            "61/61 [==============================] - 27s 443ms/step - loss: 0.0901 - binary_accuracy: 0.9662 - f1_score: 0.8703 - val_loss: 0.0885 - val_binary_accuracy: 0.9737 - val_f1_score: 0.8972\n",
            "Epoch 55/100\n",
            "61/61 [==============================] - 28s 462ms/step - loss: 0.0887 - binary_accuracy: 0.9667 - f1_score: 0.8705 - val_loss: 0.0938 - val_binary_accuracy: 0.9743 - val_f1_score: 0.8979\n",
            "Epoch 56/100\n",
            "61/61 [==============================] - 28s 457ms/step - loss: 0.0895 - binary_accuracy: 0.9659 - f1_score: 0.8690 - val_loss: 0.0876 - val_binary_accuracy: 0.9737 - val_f1_score: 0.9018\n",
            "Epoch 57/100\n",
            "61/61 [==============================] - 27s 453ms/step - loss: 0.0905 - binary_accuracy: 0.9677 - f1_score: 0.8760 - val_loss: 0.0876 - val_binary_accuracy: 0.9725 - val_f1_score: 0.8978\n",
            "Epoch 58/100\n",
            "61/61 [==============================] - 29s 467ms/step - loss: 0.0957 - binary_accuracy: 0.9638 - f1_score: 0.8616 - val_loss: 0.0880 - val_binary_accuracy: 0.9737 - val_f1_score: 0.9013\n",
            "Epoch 59/100\n",
            "61/61 [==============================] - 28s 464ms/step - loss: 0.0885 - binary_accuracy: 0.9654 - f1_score: 0.8675 - val_loss: 0.0874 - val_binary_accuracy: 0.9737 - val_f1_score: 0.9005\n",
            "Epoch 60/100\n",
            "61/61 [==============================] - 29s 480ms/step - loss: 0.0937 - binary_accuracy: 0.9656 - f1_score: 0.8684 - val_loss: 0.0879 - val_binary_accuracy: 0.9743 - val_f1_score: 0.9007\n",
            "Epoch 61/100\n",
            "61/61 [==============================] - 28s 457ms/step - loss: 0.0890 - binary_accuracy: 0.9713 - f1_score: 0.8884 - val_loss: 0.0870 - val_binary_accuracy: 0.9749 - val_f1_score: 0.9050\n",
            "Epoch 62/100\n",
            "61/61 [==============================] - 29s 469ms/step - loss: 0.0858 - binary_accuracy: 0.9659 - f1_score: 0.8687 - val_loss: 0.0932 - val_binary_accuracy: 0.9647 - val_f1_score: 0.8731\n",
            "Epoch 63/100\n",
            "61/61 [==============================] - 28s 467ms/step - loss: 0.0852 - binary_accuracy: 0.9703 - f1_score: 0.8858 - val_loss: 0.0868 - val_binary_accuracy: 0.9749 - val_f1_score: 0.9054\n",
            "Epoch 64/100\n",
            "61/61 [==============================] - 30s 487ms/step - loss: 0.0924 - binary_accuracy: 0.9659 - f1_score: 0.8674 - val_loss: 0.0903 - val_binary_accuracy: 0.9701 - val_f1_score: 0.8899\n",
            "Epoch 65/100\n",
            "61/61 [==============================] - 28s 455ms/step - loss: 0.0945 - binary_accuracy: 0.9659 - f1_score: 0.8702 - val_loss: 0.0892 - val_binary_accuracy: 0.9749 - val_f1_score: 0.9028\n",
            "Epoch 66/100\n",
            "61/61 [==============================] - 31s 503ms/step - loss: 0.0893 - binary_accuracy: 0.9674 - f1_score: 0.8741 - val_loss: 0.0867 - val_binary_accuracy: 0.9755 - val_f1_score: 0.9070\n",
            "Epoch 67/100\n",
            "61/61 [==============================] - 29s 471ms/step - loss: 0.0901 - binary_accuracy: 0.9679 - f1_score: 0.8761 - val_loss: 0.0908 - val_binary_accuracy: 0.9719 - val_f1_score: 0.8958\n",
            "Epoch 68/100\n",
            "61/61 [==============================] - 29s 474ms/step - loss: 0.0906 - binary_accuracy: 0.9659 - f1_score: 0.8692 - val_loss: 0.0890 - val_binary_accuracy: 0.9743 - val_f1_score: 0.8983\n",
            "Epoch 69/100\n",
            "61/61 [==============================] - 27s 449ms/step - loss: 0.0891 - binary_accuracy: 0.9674 - f1_score: 0.8744 - val_loss: 0.0858 - val_binary_accuracy: 0.9749 - val_f1_score: 0.9050\n",
            "Epoch 70/100\n",
            "61/61 [==============================] - 27s 449ms/step - loss: 0.0915 - binary_accuracy: 0.9682 - f1_score: 0.8770 - val_loss: 0.0876 - val_binary_accuracy: 0.9725 - val_f1_score: 0.8959\n",
            "Epoch 71/100\n",
            "61/61 [==============================] - 27s 450ms/step - loss: 0.0878 - binary_accuracy: 0.9700 - f1_score: 0.8847 - val_loss: 0.0875 - val_binary_accuracy: 0.9713 - val_f1_score: 0.8929\n",
            "Epoch 72/100\n",
            "61/61 [==============================] - 27s 439ms/step - loss: 0.0858 - binary_accuracy: 0.9697 - f1_score: 0.8825 - val_loss: 0.0878 - val_binary_accuracy: 0.9719 - val_f1_score: 0.8958\n",
            "Epoch 73/100\n",
            "61/61 [==============================] - 27s 448ms/step - loss: 0.0848 - binary_accuracy: 0.9674 - f1_score: 0.8744 - val_loss: 0.0873 - val_binary_accuracy: 0.9737 - val_f1_score: 0.9000\n",
            "Epoch 74/100\n",
            "61/61 [==============================] - 28s 465ms/step - loss: 0.0900 - binary_accuracy: 0.9667 - f1_score: 0.8720 - val_loss: 0.0868 - val_binary_accuracy: 0.9713 - val_f1_score: 0.8929\n",
            "Epoch 75/100\n",
            "61/61 [==============================] - 29s 472ms/step - loss: 0.0892 - binary_accuracy: 0.9690 - f1_score: 0.8798 - val_loss: 0.0860 - val_binary_accuracy: 0.9749 - val_f1_score: 0.9014\n",
            "Epoch 76/100\n",
            "61/61 [==============================] - 28s 459ms/step - loss: 0.0890 - binary_accuracy: 0.9690 - f1_score: 0.8803 - val_loss: 0.0890 - val_binary_accuracy: 0.9743 - val_f1_score: 0.8974\n",
            "Epoch 77/100\n",
            "61/61 [==============================] - 28s 467ms/step - loss: 0.0855 - binary_accuracy: 0.9710 - f1_score: 0.8880 - val_loss: 0.0866 - val_binary_accuracy: 0.9731 - val_f1_score: 0.8993\n",
            "Epoch 78/100\n",
            "61/61 [==============================] - 27s 443ms/step - loss: 0.0885 - binary_accuracy: 0.9654 - f1_score: 0.8659 - val_loss: 0.0850 - val_binary_accuracy: 0.9749 - val_f1_score: 0.9058\n",
            "Epoch 79/100\n",
            "61/61 [==============================] - 27s 452ms/step - loss: 0.0888 - binary_accuracy: 0.9669 - f1_score: 0.8719 - val_loss: 0.0854 - val_binary_accuracy: 0.9731 - val_f1_score: 0.8998\n",
            "Epoch 80/100\n",
            "61/61 [==============================] - 28s 454ms/step - loss: 0.0858 - binary_accuracy: 0.9679 - f1_score: 0.8771 - val_loss: 0.0829 - val_binary_accuracy: 0.9773 - val_f1_score: 0.9128\n",
            "Epoch 81/100\n",
            "61/61 [==============================] - 30s 495ms/step - loss: 0.0846 - binary_accuracy: 0.9679 - f1_score: 0.8766 - val_loss: 0.0889 - val_binary_accuracy: 0.9701 - val_f1_score: 0.8899\n",
            "Epoch 82/100\n",
            "61/61 [==============================] - 39s 646ms/step - loss: 0.0889 - binary_accuracy: 0.9674 - f1_score: 0.8749 - val_loss: 0.0851 - val_binary_accuracy: 0.9743 - val_f1_score: 0.9038\n",
            "Epoch 83/100\n",
            "61/61 [==============================] - 28s 462ms/step - loss: 0.0877 - binary_accuracy: 0.9695 - f1_score: 0.8825 - val_loss: 0.0891 - val_binary_accuracy: 0.9677 - val_f1_score: 0.8826\n",
            "Epoch 84/100\n",
            "61/61 [==============================] - 29s 474ms/step - loss: 0.0885 - binary_accuracy: 0.9690 - f1_score: 0.8806 - val_loss: 0.0844 - val_binary_accuracy: 0.9719 - val_f1_score: 0.8958\n",
            "Epoch 85/100\n",
            "61/61 [==============================] - 29s 479ms/step - loss: 0.0829 - binary_accuracy: 0.9700 - f1_score: 0.8843 - val_loss: 0.0821 - val_binary_accuracy: 0.9773 - val_f1_score: 0.9112\n",
            "Epoch 86/100\n",
            "61/61 [==============================] - 29s 476ms/step - loss: 0.0853 - binary_accuracy: 0.9672 - f1_score: 0.8738 - val_loss: 0.0834 - val_binary_accuracy: 0.9761 - val_f1_score: 0.9083\n",
            "Epoch 87/100\n",
            "61/61 [==============================] - 28s 456ms/step - loss: 0.0866 - binary_accuracy: 0.9659 - f1_score: 0.8687 - val_loss: 0.0853 - val_binary_accuracy: 0.9761 - val_f1_score: 0.9061\n",
            "Epoch 88/100\n",
            "61/61 [==============================] - 27s 449ms/step - loss: 0.0834 - binary_accuracy: 0.9708 - f1_score: 0.8878 - val_loss: 0.0846 - val_binary_accuracy: 0.9743 - val_f1_score: 0.9016\n",
            "Epoch 89/100\n",
            "61/61 [==============================] - 28s 454ms/step - loss: 0.0834 - binary_accuracy: 0.9700 - f1_score: 0.8843 - val_loss: 0.0824 - val_binary_accuracy: 0.9773 - val_f1_score: 0.9120\n",
            "Epoch 90/100\n",
            "61/61 [==============================] - 27s 443ms/step - loss: 0.0870 - binary_accuracy: 0.9697 - f1_score: 0.8841 - val_loss: 0.0831 - val_binary_accuracy: 0.9755 - val_f1_score: 0.9079\n",
            "Epoch 91/100\n",
            "61/61 [==============================] - 29s 481ms/step - loss: 0.0850 - binary_accuracy: 0.9682 - f1_score: 0.8782 - val_loss: 0.0829 - val_binary_accuracy: 0.9761 - val_f1_score: 0.9070\n",
            "Epoch 92/100\n",
            "61/61 [==============================] - 29s 478ms/step - loss: 0.0794 - binary_accuracy: 0.9674 - f1_score: 0.8756 - val_loss: 0.0876 - val_binary_accuracy: 0.9683 - val_f1_score: 0.8845\n",
            "Epoch 93/100\n",
            "61/61 [==============================] - 27s 443ms/step - loss: 0.0856 - binary_accuracy: 0.9667 - f1_score: 0.8708 - val_loss: 0.0822 - val_binary_accuracy: 0.9767 - val_f1_score: 0.9116\n",
            "Epoch 94/100\n",
            "61/61 [==============================] - 28s 456ms/step - loss: 0.0841 - binary_accuracy: 0.9697 - f1_score: 0.8832 - val_loss: 0.0847 - val_binary_accuracy: 0.9779 - val_f1_score: 0.9129\n",
            "Epoch 95/100\n",
            "61/61 [==============================] - 29s 469ms/step - loss: 0.0888 - binary_accuracy: 0.9695 - f1_score: 0.8825 - val_loss: 0.0830 - val_binary_accuracy: 0.9767 - val_f1_score: 0.9112\n",
            "Epoch 96/100\n",
            "61/61 [==============================] - 28s 459ms/step - loss: 0.0844 - binary_accuracy: 0.9703 - f1_score: 0.8858 - val_loss: 0.0851 - val_binary_accuracy: 0.9761 - val_f1_score: 0.9057\n",
            "Epoch 97/100\n",
            "61/61 [==============================] - 28s 460ms/step - loss: 0.0855 - binary_accuracy: 0.9685 - f1_score: 0.8791 - val_loss: 0.0821 - val_binary_accuracy: 0.9773 - val_f1_score: 0.9104\n",
            "Epoch 98/100\n",
            "61/61 [==============================] - 31s 511ms/step - loss: 0.0811 - binary_accuracy: 0.9713 - f1_score: 0.8876 - val_loss: 0.0839 - val_binary_accuracy: 0.9731 - val_f1_score: 0.8993\n",
            "Epoch 99/100\n",
            "61/61 [==============================] - 30s 497ms/step - loss: 0.0833 - binary_accuracy: 0.9708 - f1_score: 0.8882 - val_loss: 0.0850 - val_binary_accuracy: 0.9767 - val_f1_score: 0.9082\n",
            "Epoch 100/100\n",
            "61/61 [==============================] - 28s 457ms/step - loss: 0.0823 - binary_accuracy: 0.9731 - f1_score: 0.8963 - val_loss: 0.0826 - val_binary_accuracy: 0.9767 - val_f1_score: 0.9087\n"
          ]
        }
      ],
      "source": [
        "history_bert_model = bert_model.fit(train_batch,\n",
        "                    epochs=100,\n",
        "                    validation_data=val_batch)"
      ]
    },
    {
      "cell_type": "code",
      "execution_count": 37,
      "metadata": {
        "colab": {
          "base_uri": "https://localhost:8080/",
          "height": 507
        },
        "id": "Sj6gCXNdQgIo",
        "outputId": "cbd22a29-1648-4d1e-8355-c90737637e8c"
      },
      "outputs": [
        {
          "data": {
            "image/png": "[encoded data removed]",
            "text/plain": [
              "<Figure size 1600x500 with 3 Axes>"
            ]
          },
          "metadata": {},
          "output_type": "display_data"
        }
      ],
      "source": [
        "import matplotlib.pyplot as plt\n",
        "\n",
        "# Create a figure with 2 rows and 2 columns (4 subplots)\n",
        "fig, axes = plt.subplots(1, 3, figsize=(16, 5))\n",
        "\n",
        "# Plot Loss\n",
        "axes[0].plot(history_bert_model.history[\"loss\"], color=\"b\", label=\"Train Loss\")\n",
        "axes[0].plot(history_bert_model.history[\"val_loss\"], color=\"r\", label=\"Validation Loss\")\n",
        "axes[0].set_title(\"Loss\")\n",
        "axes[0].set_xlabel(\"Epochs\")\n",
        "axes[0].set_ylabel(\"Loss\")\n",
        "axes[0].legend()\n",
        "\n",
        "# Plot Binary accuracy\n",
        "axes[1].plot(history_bert_model.history[\"binary_accuracy\"], color=\"b\", label=\"Train Binary Accuracy\")\n",
        "axes[1].plot(history_bert_model.history[\"val_binary_accuracy\"], color=\"r\", label=\"Validation Binary Accuracy\")\n",
        "axes[1].set_title(\"Binary Accuracy\")\n",
        "axes[1].set_xlabel(\"Epochs\")\n",
        "axes[1].set_ylabel(\"Binary Accuracy\")\n",
        "axes[1].legend()\n",
        "\n",
        "# Plot f1-score\n",
        "axes[2].plot(history_bert_model.history[\"f1_score\"], color=\"b\", label=\"Train F1-Score\")\n",
        "axes[2].plot(history_bert_model.history[\"val_f1_score\"], color=\"r\", label=\"Validation F1-Score\")\n",
        "axes[2].set_title(\"F1-Score\")\n",
        "axes[2].set_xlabel(\"Epochs\")\n",
        "axes[2].set_ylabel(\"F1-Score\")\n",
        "axes[2].legend()\n",
        "\n",
        "\n",
        "# Adjust layout for better visualization\n",
        "plt.tight_layout()\n",
        "plt.show()\n"
      ]
    },
    {
      "cell_type": "code",
      "execution_count": 38,
      "metadata": {
        "colab": {
          "base_uri": "https://localhost:8080/"
        },
        "id": "_i-soTctOe8H",
        "outputId": "51754bb7-2b98-4aae-adf4-4e8af7ac3775"
      },
      "outputs": [
        {
          "name": "stdout",
          "output_type": "stream",
          "text": [
            "61/61 [==============================] - 20s 323ms/step\n",
            "27/27 [==============================] - 8s 278ms/step\n"
          ]
        }
      ],
      "source": [
        "ypred_train = (bert_model.predict(train.batch(64)) > 0.5).astype(\"int32\")\n",
        "ypred_val = (bert_model.predict(val.batch(64)) > 0.5).astype(\"int32\")"
      ]
    },
    {
      "cell_type": "code",
      "execution_count": 39,
      "metadata": {
        "colab": {
          "base_uri": "https://localhost:8080/",
          "height": 472
        },
        "id": "j-60GY7vOvm-",
        "outputId": "a5fbc6cf-1deb-478c-88f7-1c910cb75322"
      },
      "outputs": [
        {
          "data": {
            "image/png": "[encoded data removed]",
            "text/plain": [
              "<Figure size 640x480 with 2 Axes>"
            ]
          },
          "metadata": {},
          "output_type": "display_data"
        }
      ],
      "source": [
        "from sklearn.metrics import confusion_matrix\n",
        "import seaborn as sns\n",
        "\n",
        "mtx = confusion_matrix(y_train, ypred_train)\n",
        "sns.heatmap(mtx, annot=True, fmt='d', linewidths=.8)\n",
        "plt.ylabel('True label')\n",
        "plt.xlabel('Predicted label')\n",
        "plt.title('Result on Train set')\n",
        "plt.show()\n"
      ]
    },
    {
      "cell_type": "code",
      "execution_count": 40,
      "metadata": {
        "colab": {
          "base_uri": "https://localhost:8080/",
          "height": 472
        },
        "id": "vggbejGKO0Io",
        "outputId": "4c9920eb-f7e9-4847-a974-9c29b9f96600"
      },
      "outputs": [
        {
          "data": {
            "image/png": "[encoded data removed]",
            "text/plain": [
              "<Figure size 640x480 with 2 Axes>"
            ]
          },
          "metadata": {},
          "output_type": "display_data"
        }
      ],
      "source": [
        "mtx = confusion_matrix(y_val, ypred_val)\n",
        "sns.heatmap(mtx, annot=True, fmt='d', linewidths=.8)\n",
        "plt.ylabel('True label')\n",
        "plt.xlabel('Predicted label')\n",
        "plt.title('Result on Validation set')\n",
        "plt.show()"
      ]
    },
    {
      "cell_type": "code",
      "execution_count": 41,
      "metadata": {
        "colab": {
          "base_uri": "https://localhost:8080/"
        },
        "id": "l_ziwndewp26",
        "outputId": "b2e353ff-1274-4d3c-d836-a6d9a2043261"
      },
      "outputs": [
        {
          "name": "stdout",
          "output_type": "stream",
          "text": [
            "27/27 [==============================] - 9s 323ms/step - loss: 0.0826 - binary_accuracy: 0.9767 - f1_score: 0.9087\n"
          ]
        }
      ],
      "source": [
        "loss_bert, accuracy_bert, f1_score_bert = bert_model.evaluate(val_batch)"
      ]
    },
    {
      "cell_type": "markdown",
      "metadata": {
        "id": "otDUDByv9wv0"
      },
      "source": [
        "# 4) Performances comparison"
      ]
    },
    {
      "cell_type": "code",
      "execution_count": 42,
      "metadata": {
        "colab": {
          "base_uri": "https://localhost:8080/",
          "height": 125
        },
        "id": "E991kZ5s9wv1",
        "outputId": "e6952b7f-010c-479e-9cbf-3cfacae8c92b"
      },
      "outputs": [
        {
          "data": {
            "application/vnd.google.colaboratory.intrinsic+json": {
              "summary": "{\n  \"name\": \"results\",\n  \"rows\": 2,\n  \"fields\": [\n    {\n      \"column\": \"Model\",\n      \"properties\": {\n        \"dtype\": \"string\",\n        \"num_unique_values\": 2,\n        \"samples\": [\n          \"Bert Model\",\n          \"Simple Model\"\n        ],\n        \"semantic_type\": \"\",\n        \"description\": \"\"\n      }\n    },\n    {\n      \"column\": \"Loss\",\n      \"properties\": {\n        \"dtype\": \"number\",\n        \"std\": 0.01686636271558202,\n        \"min\": 0.05875924974679947,\n        \"max\": 0.08261188864707947,\n        \"num_unique_values\": 2,\n        \"samples\": [\n          0.08261188864707947,\n          0.05875924974679947\n        ],\n        \"semantic_type\": \"\",\n        \"description\": \"\"\n      }\n    },\n    {\n      \"column\": \"Accuracy\",\n      \"properties\": {\n        \"dtype\": \"number\",\n        \"std\": 0.0012687465807234431,\n        \"min\": 0.9766746163368225,\n        \"max\": 0.9784688949584961,\n        \"num_unique_values\": 2,\n        \"samples\": [\n          0.9766746163368225,\n          0.9784688949584961\n        ],\n        \"semantic_type\": \"\",\n        \"description\": \"\"\n      }\n    },\n    {\n      \"column\": \"F1-Score\",\n      \"properties\": {\n        \"dtype\": \"float32\",\n        \"num_unique_values\": 2,\n        \"samples\": [\n          0.9086650609970093,\n          0.9196428656578064\n        ],\n        \"semantic_type\": \"\",\n        \"description\": \"\"\n      }\n    }\n  ]\n}",
              "type": "dataframe",
              "variable_name": "results"
            },
            "text/html": [
              "\n",
              "  <div id=\"df-c04f36be-557b-4eba-b008-59d9bc1ffdc0\" class=\"colab-df-container\">\n",
              "    <div>\n",
              "<style scoped>\n",
              "    .dataframe tbody tr th:only-of-type {\n",
              "        vertical-align: middle;\n",
              "    }\n",
              "\n",
              "    .dataframe tbody tr th {\n",
              "        vertical-align: top;\n",
              "    }\n",
              "\n",
              "    .dataframe thead th {\n",
              "        text-align: right;\n",
              "    }\n",
              "</style>\n",
              "<table border=\"1\" class=\"dataframe\">\n",
              "  <thead>\n",
              "    <tr style=\"text-align: right;\">\n",
              "      <th></th>\n",
              "      <th>Model</th>\n",
              "      <th>Loss</th>\n",
              "      <th>Accuracy</th>\n",
              "      <th>F1-Score</th>\n",
              "    </tr>\n",
              "  </thead>\n",
              "  <tbody>\n",
              "    <tr>\n",
              "      <th>0</th>\n",
              "      <td>Simple Model</td>\n",
              "      <td>0.058759</td>\n",
              "      <td>0.978469</td>\n",
              "      <td>0.919643</td>\n",
              "    </tr>\n",
              "    <tr>\n",
              "      <th>1</th>\n",
              "      <td>Bert Model</td>\n",
              "      <td>0.082612</td>\n",
              "      <td>0.976675</td>\n",
              "      <td>0.908665</td>\n",
              "    </tr>\n",
              "  </tbody>\n",
              "</table>\n",
              "</div>\n",
              "    <div class=\"colab-df-buttons\">\n",
              "\n",
              "  <div class=\"colab-df-container\">\n",
              "    <button class=\"colab-df-convert\" onclick=\"convertToInteractive('df-c04f36be-557b-4eba-b008-59d9bc1ffdc0')\"\n",
              "            title=\"Convert this dataframe to an interactive table.\"\n",
              "            style=\"display:none;\">\n",
              "\n",
              "  <svg xmlns=\"http://www.w3.org/2000/svg\" height=\"24px\" viewBox=\"0 -960 960 960\">\n",
              "    <path d=\"M120-120v-720h720v720H120Zm60-500h600v-160H180v160Zm220 220h160v-160H400v160Zm0 220h160v-160H400v160ZM180-400h160v-160H180v160Zm440 0h160v-160H620v160ZM180-180h160v-160H180v160Zm440 0h160v-160H620v160Z\"/>\n",
              "  </svg>\n",
              "    </button>\n",
              "\n",
              "  <style>\n",
              "    .colab-df-container {\n",
              "      display:flex;\n",
              "      gap: 12px;\n",
              "    }\n",
              "\n",
              "    .colab-df-convert {\n",
              "      background-color: #E8F0FE;\n",
              "      border: none;\n",
              "      border-radius: 50%;\n",
              "      cursor: pointer;\n",
              "      display: none;\n",
              "      fill: #1967D2;\n",
              "      height: 32px;\n",
              "      padding: 0 0 0 0;\n",
              "      width: 32px;\n",
              "    }\n",
              "\n",
              "    .colab-df-convert:hover {\n",
              "      background-color: #E2EBFA;\n",
              "      box-shadow: 0px 1px 2px rgba(60, 64, 67, 0.3), 0px 1px 3px 1px rgba(60, 64, 67, 0.15);\n",
              "      fill: #174EA6;\n",
              "    }\n",
              "\n",
              "    .colab-df-buttons div {\n",
              "      margin-bottom: 4px;\n",
              "    }\n",
              "\n",
              "    [theme=dark] .colab-df-convert {\n",
              "      background-color: #3B4455;\n",
              "      fill: #D2E3FC;\n",
              "    }\n",
              "\n",
              "    [theme=dark] .colab-df-convert:hover {\n",
              "      background-color: #434B5C;\n",
              "      box-shadow: 0px 1px 3px 1px rgba(0, 0, 0, 0.15);\n",
              "      filter: drop-shadow(0px 1px 2px rgba(0, 0, 0, 0.3));\n",
              "      fill: #FFFFFF;\n",
              "    }\n",
              "  </style>\n",
              "\n",
              "    <script>\n",
              "      const buttonEl =\n",
              "        document.querySelector('#df-c04f36be-557b-4eba-b008-59d9bc1ffdc0 button.colab-df-convert');\n",
              "      buttonEl.style.display =\n",
              "        google.colab.kernel.accessAllowed ? 'block' : 'none';\n",
              "\n",
              "      async function convertToInteractive(key) {\n",
              "        const element = document.querySelector('#df-c04f36be-557b-4eba-b008-59d9bc1ffdc0');\n",
              "        const dataTable =\n",
              "          await google.colab.kernel.invokeFunction('convertToInteractive',\n",
              "                                                    [key], {});\n",
              "        if (!dataTable) return;\n",
              "\n",
              "        const docLinkHtml = 'Like what you see? Visit the ' +\n",
              "          '<a target=\"_blank\" href=https://colab.research.google.com/notebooks/data_table.ipynb>data table notebook</a>'\n",
              "          + ' to learn more about interactive tables.';\n",
              "        element.innerHTML = '';\n",
              "        dataTable['output_type'] = 'display_data';\n",
              "        await google.colab.output.renderOutput(dataTable, element);\n",
              "        const docLink = document.createElement('div');\n",
              "        docLink.innerHTML = docLinkHtml;\n",
              "        element.appendChild(docLink);\n",
              "      }\n",
              "    </script>\n",
              "  </div>\n",
              "\n",
              "\n",
              "<div id=\"df-3f85aba9-0139-4b09-bd47-09f28e1fda77\">\n",
              "  <button class=\"colab-df-quickchart\" onclick=\"quickchart('df-3f85aba9-0139-4b09-bd47-09f28e1fda77')\"\n",
              "            title=\"Suggest charts\"\n",
              "            style=\"display:none;\">\n",
              "\n",
              "<svg xmlns=\"http://www.w3.org/2000/svg\" height=\"24px\"viewBox=\"0 0 24 24\"\n",
              "     width=\"24px\">\n",
              "    <g>\n",
              "        <path d=\"M19 3H5c-1.1 0-2 .9-2 2v14c0 1.1.9 2 2 2h14c1.1 0 2-.9 2-2V5c0-1.1-.9-2-2-2zM9 17H7v-7h2v7zm4 0h-2V7h2v10zm4 0h-2v-4h2v4z\"/>\n",
              "    </g>\n",
              "</svg>\n",
              "  </button>\n",
              "\n",
              "<style>\n",
              "  .colab-df-quickchart {\n",
              "      --bg-color: #E8F0FE;\n",
              "      --fill-color: #1967D2;\n",
              "      --hover-bg-color: #E2EBFA;\n",
              "      --hover-fill-color: #174EA6;\n",
              "      --disabled-fill-color: #AAA;\n",
              "      --disabled-bg-color: #DDD;\n",
              "  }\n",
              "\n",
              "  [theme=dark] .colab-df-quickchart {\n",
              "      --bg-color: #3B4455;\n",
              "      --fill-color: #D2E3FC;\n",
              "      --hover-bg-color: #434B5C;\n",
              "      --hover-fill-color: #FFFFFF;\n",
              "      --disabled-bg-color: #3B4455;\n",
              "      --disabled-fill-color: #666;\n",
              "  }\n",
              "\n",
              "  .colab-df-quickchart {\n",
              "    background-color: var(--bg-color);\n",
              "    border: none;\n",
              "    border-radius: 50%;\n",
              "    cursor: pointer;\n",
              "    display: none;\n",
              "    fill: var(--fill-color);\n",
              "    height: 32px;\n",
              "    padding: 0;\n",
              "    width: 32px;\n",
              "  }\n",
              "\n",
              "  .colab-df-quickchart:hover {\n",
              "    background-color: var(--hover-bg-color);\n",
              "    box-shadow: 0 1px 2px rgba(60, 64, 67, 0.3), 0 1px 3px 1px rgba(60, 64, 67, 0.15);\n",
              "    fill: var(--button-hover-fill-color);\n",
              "  }\n",
              "\n",
              "  .colab-df-quickchart-complete:disabled,\n",
              "  .colab-df-quickchart-complete:disabled:hover {\n",
              "    background-color: var(--disabled-bg-color);\n",
              "    fill: var(--disabled-fill-color);\n",
              "    box-shadow: none;\n",
              "  }\n",
              "\n",
              "  .colab-df-spinner {\n",
              "    border: 2px solid var(--fill-color);\n",
              "    border-color: transparent;\n",
              "    border-bottom-color: var(--fill-color);\n",
              "    animation:\n",
              "      spin 1s steps(1) infinite;\n",
              "  }\n",
              "\n",
              "  @keyframes spin {\n",
              "    0% {\n",
              "      border-color: transparent;\n",
              "      border-bottom-color: var(--fill-color);\n",
              "      border-left-color: var(--fill-color);\n",
              "    }\n",
              "    20% {\n",
              "      border-color: transparent;\n",
              "      border-left-color: var(--fill-color);\n",
              "      border-top-color: var(--fill-color);\n",
              "    }\n",
              "    30% {\n",
              "      border-color: transparent;\n",
              "      border-left-color: var(--fill-color);\n",
              "      border-top-color: var(--fill-color);\n",
              "      border-right-color: var(--fill-color);\n",
              "    }\n",
              "    40% {\n",
              "      border-color: transparent;\n",
              "      border-right-color: var(--fill-color);\n",
              "      border-top-color: var(--fill-color);\n",
              "    }\n",
              "    60% {\n",
              "      border-color: transparent;\n",
              "      border-right-color: var(--fill-color);\n",
              "    }\n",
              "    80% {\n",
              "      border-color: transparent;\n",
              "      border-right-color: var(--fill-color);\n",
              "      border-bottom-color: var(--fill-color);\n",
              "    }\n",
              "    90% {\n",
              "      border-color: transparent;\n",
              "      border-bottom-color: var(--fill-color);\n",
              "    }\n",
              "  }\n",
              "</style>\n",
              "\n",
              "  <script>\n",
              "    async function quickchart(key) {\n",
              "      const quickchartButtonEl =\n",
              "        document.querySelector('#' + key + ' button');\n",
              "      quickchartButtonEl.disabled = true;  // To prevent multiple clicks.\n",
              "      quickchartButtonEl.classList.add('colab-df-spinner');\n",
              "      try {\n",
              "        const charts = await google.colab.kernel.invokeFunction(\n",
              "            'suggestCharts', [key], {});\n",
              "      } catch (error) {\n",
              "        console.error('Error during call to suggestCharts:', error);\n",
              "      }\n",
              "      quickchartButtonEl.classList.remove('colab-df-spinner');\n",
              "      quickchartButtonEl.classList.add('colab-df-quickchart-complete');\n",
              "    }\n",
              "    (() => {\n",
              "      let quickchartButtonEl =\n",
              "        document.querySelector('#df-3f85aba9-0139-4b09-bd47-09f28e1fda77 button');\n",
              "      quickchartButtonEl.style.display =\n",
              "        google.colab.kernel.accessAllowed ? 'block' : 'none';\n",
              "    })();\n",
              "  </script>\n",
              "</div>\n",
              "\n",
              "  <div id=\"id_4f36e65e-4637-4bd5-9b18-881f69ffd676\">\n",
              "    <style>\n",
              "      .colab-df-generate {\n",
              "        background-color: #E8F0FE;\n",
              "        border: none;\n",
              "        border-radius: 50%;\n",
              "        cursor: pointer;\n",
              "        display: none;\n",
              "        fill: #1967D2;\n",
              "        height: 32px;\n",
              "        padding: 0 0 0 0;\n",
              "        width: 32px;\n",
              "      }\n",
              "\n",
              "      .colab-df-generate:hover {\n",
              "        background-color: #E2EBFA;\n",
              "        box-shadow: 0px 1px 2px rgba(60, 64, 67, 0.3), 0px 1px 3px 1px rgba(60, 64, 67, 0.15);\n",
              "        fill: #174EA6;\n",
              "      }\n",
              "\n",
              "      [theme=dark] .colab-df-generate {\n",
              "        background-color: #3B4455;\n",
              "        fill: #D2E3FC;\n",
              "      }\n",
              "\n",
              "      [theme=dark] .colab-df-generate:hover {\n",
              "        background-color: #434B5C;\n",
              "        box-shadow: 0px 1px 3px 1px rgba(0, 0, 0, 0.15);\n",
              "        filter: drop-shadow(0px 1px 2px rgba(0, 0, 0, 0.3));\n",
              "        fill: #FFFFFF;\n",
              "      }\n",
              "    </style>\n",
              "    <button class=\"colab-df-generate\" onclick=\"generateWithVariable('results')\"\n",
              "            title=\"Generate code using this dataframe.\"\n",
              "            style=\"display:none;\">\n",
              "\n",
              "  <svg xmlns=\"http://www.w3.org/2000/svg\" height=\"24px\"viewBox=\"0 0 24 24\"\n",
              "       width=\"24px\">\n",
              "    <path d=\"M7,19H8.4L18.45,9,17,7.55,7,17.6ZM5,21V16.75L18.45,3.32a2,2,0,0,1,2.83,0l1.4,1.43a1.91,1.91,0,0,1,.58,1.4,1.91,1.91,0,0,1-.58,1.4L9.25,21ZM18.45,9,17,7.55Zm-12,3A5.31,5.31,0,0,0,4.9,8.1,5.31,5.31,0,0,0,1,6.5,5.31,5.31,0,0,0,4.9,4.9,5.31,5.31,0,0,0,6.5,1,5.31,5.31,0,0,0,8.1,4.9,5.31,5.31,0,0,0,12,6.5,5.46,5.46,0,0,0,6.5,12Z\"/>\n",
              "  </svg>\n",
              "    </button>\n",
              "    <script>\n",
              "      (() => {\n",
              "      const buttonEl =\n",
              "        document.querySelector('#id_4f36e65e-4637-4bd5-9b18-881f69ffd676 button.colab-df-generate');\n",
              "      buttonEl.style.display =\n",
              "        google.colab.kernel.accessAllowed ? 'block' : 'none';\n",
              "\n",
              "      buttonEl.onclick = () => {\n",
              "        google.colab.notebook.generateWithVariable('results');\n",
              "      }\n",
              "      })();\n",
              "    </script>\n",
              "  </div>\n",
              "\n",
              "    </div>\n",
              "  </div>\n"
            ],
            "text/plain": [
              "          Model      Loss  Accuracy  F1-Score\n",
              "0  Simple Model  0.058759  0.978469  0.919643\n",
              "1    Bert Model  0.082612  0.976675  0.908665"
            ]
          },
          "execution_count": 42,
          "metadata": {},
          "output_type": "execute_result"
        }
      ],
      "source": [
        "results = pd.DataFrame({\"Model\" : [\"Simple Model\", \"Bert Model\"],\n",
        "                        \"Loss\" : [loss_basic, loss_bert],\n",
        "                        \"Accuracy\" : [accuracy_basic, accuracy_bert],\n",
        "                        \"F1-Score\" : [f1_score_basic[0], f1_score_bert[0]]\n",
        "                        })\n",
        "\n",
        "results"
      ]
    },
    {
      "cell_type": "code",
      "execution_count": 43,
      "metadata": {
        "colab": {
          "base_uri": "https://localhost:8080/"
        },
        "id": "8IsSJp2EH5Dl",
        "outputId": "f658c1b5-1645-4e05-b8d9-902fa427c848"
      },
      "outputs": [
        {
          "name": "stdout",
          "output_type": "stream",
          "text": [
            "          Model    Metric     Score\n",
            "0  Simple Model      Loss  0.058759\n",
            "1    Bert Model      Loss  0.082612\n",
            "2  Simple Model  Accuracy  0.978469\n",
            "3    Bert Model  Accuracy  0.976675\n",
            "4  Simple Model  F1-Score  0.919643\n",
            "5    Bert Model  F1-Score  0.908665\n"
          ]
        }
      ],
      "source": [
        "results_melted = results.melt(id_vars=\"Model\", var_name=\"Metric\", value_name=\"Score\")\n",
        "\n",
        "print(results_melted)"
      ]
    },
    {
      "cell_type": "code",
      "execution_count": null,
      "metadata": {
        "colab": {
          "base_uri": "https://localhost:8080/",
          "height": 517
        },
        "id": "gYN4qxEfvXLr",
        "outputId": "815c1693-8917-4ff4-8d2b-2cd8434b7450"
      },
      "outputs": [],
      "source": [
        "import plotly.express as px\n",
        "\n",
        "# Create grouped bar chart\n",
        "fig = px.bar(results_melted, x=\"Model\", y=\"Score\", color=\"Metric\",\n",
        "             barmode=\"group\",  # Group bars next to each other\n",
        "             text=results_melted[\"Score\"].round(3),  # Add value labels\n",
        "             color_discrete_map={\"Loss\": \"red\", \"Accuracy\": \"blue\", \"F1-Score\": \"orange\"}  # Custom colors\n",
        "            )\n",
        "\n",
        "# Customize layout\n",
        "fig.update_layout(\n",
        "    title=\"Comparison of Model Scores\",\n",
        "    xaxis_title=\"Models\",\n",
        "    yaxis_title=\"Scores\",\n",
        "    legend_title=\"Metrics\",\n",
        "    height=500, width=800\n",
        ")\n",
        "\n",
        "fig.show()"
      ]
    },
    {
      "cell_type": "markdown",
      "metadata": {},
      "source": [
        "![performance comparison](performance_comparison.png)"
      ]
    },
    {
      "cell_type": "markdown",
      "metadata": {},
      "source": [
        "* The both models have good performances.\n",
        "* For this specific case, our simple model seems better, high scores and fast. Bert model is good too but longer to compute. But in a general case, Bert should be better, due to the higher stability of the score (less differences between test & val than for the simple model).\n",
        "* Simple can be better sometime.\n",
        "\n",
        "## In perspective :\n",
        "\n",
        "* Do fine tuning with bert model to improve it.\n",
        "* Try other models"
      ]
    }
  ],
  "metadata": {
    "colab": {
      "provenance": []
    },
    "kernelspec": {
      "display_name": "Python 3",
      "language": "python",
      "name": "python3"
    },
    "language_info": {
      "codemirror_mode": {
        "name": "ipython",
        "version": 3
      },
      "file_extension": ".py",
      "mimetype": "text/x-python",
      "name": "python",
      "nbconvert_exporter": "python",
      "pygments_lexer": "ipython3",
      "version": "3.12.1"
    }
  },
  "nbformat": 4,
  "nbformat_minor": 0
}
